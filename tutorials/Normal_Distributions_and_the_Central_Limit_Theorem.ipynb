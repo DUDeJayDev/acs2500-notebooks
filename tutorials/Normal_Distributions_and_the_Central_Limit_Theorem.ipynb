{
 "cells": [
  {
   "cell_type": "markdown",
   "metadata": {
    "id": "pURKufWegAC8"
   },
   "source": [
    "---\n",
    "---\n",
    "---"
   ]
  },
  {
   "cell_type": "markdown",
   "metadata": {
    "id": "NrDWlOgSgEme"
   },
   "source": [
    "# ✨ **TUTORIAL**: Normal Distributions and the Central Limit Theorem ✨"
   ]
  },
  {
   "cell_type": "markdown",
   "metadata": {
    "id": "2L5EtykTgJbA"
   },
   "source": [
    "In this tutorial, you'll evaluate your understanding of normal distributions and the Central Limit Theorem by generating some custom functions and scripts to sample from dummy data and produce your own normalized distributions of sampling means."
   ]
  },
  {
   "cell_type": "markdown",
   "metadata": {
    "id": "nZa0Tdu0gXEb"
   },
   "source": [
    "---\n",
    "---"
   ]
  },
  {
   "cell_type": "markdown",
   "metadata": {
    "id": "ZHAwEnhvgYCN"
   },
   "source": [
    "If the class lecture was your first exposure to the Central Limit Theorem (CLT), it can seem a bit confusing.  The goal of this notebook is to demystify the CLT by having you write an algorithm that actually uses sampling to approximate a normal distribution from a non-normally distributed data set.  \n",
    "\n",
    "In this notebook you will:\n",
    "\n",
    "1. Run code to generate a non-normal data set.  \n",
    "2. Create an function to randomly sample subsets of data.\n",
    "3. Create a data set of the means of each sample.\n",
    "4. Visualize the distribution of the means of each sample.  "
   ]
  },
  {
   "cell_type": "markdown",
   "metadata": {
    "id": "2xRdkyVJgzDI"
   },
   "source": [
    "---\n",
    "\n",
    "### 🔹 **Creating our Dummy Data** 🔹\n",
    "\n",
    "---"
   ]
  },
  {
   "cell_type": "markdown",
   "metadata": {
    "id": "zFVejtL0gy4o"
   },
   "source": [
    "We're going to use `numpy` to create a non-normal distribution.  The easiest way to do this is just to create a uniform distribution!  \n",
    "\n",
    "**TASKS:** Run the code below to import `numpy` and set a random seed, and then use numpy to create a uniform distribution with integer values between 0 and 100.\n",
    "\n",
    "(Hint: For integer values, `random.uniform` is not our best choice since it generates floats.  Which `numpy` method should you use to generate a uniform distribution of random integers?)"
   ]
  },
  {
   "cell_type": "code",
   "execution_count": 1,
   "metadata": {
    "execution": {
     "iopub.execute_input": "2023-10-11T02:36:15.773119Z",
     "iopub.status.busy": "2023-10-11T02:36:15.772801Z",
     "iopub.status.idle": "2023-10-11T02:36:16.315249Z",
     "shell.execute_reply": "2023-10-11T02:36:16.314653Z"
    },
    "id": "DU33tdRif-9v"
   },
   "outputs": [],
   "source": [
    "# Run this cell to import the packages you'll need and set a seed.\n",
    "import numpy as np\n",
    "import pandas as pd\n",
    "import matplotlib.pyplot as plt\n",
    "\n",
    "# Don't change this -- otherwise, you'll get different results from everyone else!\n",
    "np.random.seed(42)"
   ]
  },
  {
   "cell_type": "code",
   "execution_count": 2,
   "metadata": {
    "execution": {
     "iopub.execute_input": "2023-10-11T02:36:16.318638Z",
     "iopub.status.busy": "2023-10-11T02:36:16.318368Z",
     "iopub.status.idle": "2023-10-11T02:36:16.536988Z",
     "shell.execute_reply": "2023-10-11T02:36:16.536487Z"
    },
    "id": "KBB46b_LggF5"
   },
   "outputs": [
    {
     "data": {
      "image/png": "[encoded data removed]",
      "text/plain": [
       "<Figure size 640x480 with 1 Axes>"
      ]
     },
     "metadata": {},
     "output_type": "display_data"
    }
   ],
   "source": [
    "# Create a uniform distribution of 10,000 integers between 0 and 100.\n",
    "non_normal_data = np.random.randint(low=0, high=100, size=10000)\n",
    "\n",
    "# Create a histogram of the data\n",
    "plt.hist(non_normal_data, bins=20, density=True, color='b', label='Non-Normal Distribution')\n",
    "\n",
    "# Add labels and a legend\n",
    "plt.xlabel('Values')\n",
    "plt.ylabel('Frequency')\n",
    "plt.title('Histogram of Non-Normal Distribution')\n",
    "plt.legend()\n",
    "\n",
    "# Show the plot\n",
    "plt.show()"
   ]
  },
  {
   "cell_type": "markdown",
   "metadata": {
    "id": "-UDiJAf6gt5H"
   },
   "source": [
    "---\n",
    "\n",
    "### 🔹 **Creating a Sampling Function** 🔹\n",
    "\n",
    "---"
   ]
  },
  {
   "cell_type": "markdown",
   "metadata": {
    "id": "KXZWXNCqg5GC"
   },
   "source": [
    "Now that we have created our data set, we'll need to sample from it.  In order to do this, you'll need to create two different functions--a `get_sample()` to create random samples of size `n`, and a `create_sample_distribution()` function to actually create a sample distribution of size `n` (using our helper function).\n",
    "\n",
    "Your `get_sample()` function should:\n",
    "\n",
    "1.  Take a keyword argument for sample size (called `n` for short)\n",
    "1.  Randomly grab 'n' samples from the uniform distribution with replacement (any samples selected should NOT be removed from the original data set).\n",
    "1.  Calculate the mean of the sub-sample and return it.\n",
    "\n",
    "\n",
    "Your `create_sample_distribution()` function should:\n",
    "\n",
    "1.  Take a keyword argument for size, which will determine the total size of the sample distribution.\n",
    "1.  Use the `get_sample()` helper function to create sample distributions and calculate sample mean.   \n",
    "1.  Store the sample mean.\n",
    "1.  Repeat this process until there a distribution of `[size]` sample means exist.  When the data set is complete, return it as a `numpy` array.  \n",
    "\n",
    "``` python\n",
    "def get_sample(dataset, n=30):\n",
    "    \"\"\"Grabs a random subsample of size 'n' from dataset.\n",
    "    Outputs the mean of the subsample.\"\"\"\n",
    "    pass\n",
    "\n",
    "def create_sample_distribution(dataset, size=100):\n",
    "    \"\"\"Creates a dataset of subsample means.  The length of the dataset is specified by the 'size'\n",
    "    keyword argument. Should return the entire sample distribution as a numpy array.  \"\"\"\n",
    "    pass\n",
    "```"
   ]
  },
  {
   "cell_type": "code",
   "execution_count": 3,
   "metadata": {
    "execution": {
     "iopub.execute_input": "2023-10-11T02:36:16.574432Z",
     "iopub.status.busy": "2023-10-11T02:36:16.573771Z",
     "iopub.status.idle": "2023-10-11T02:36:16.578624Z",
     "shell.execute_reply": "2023-10-11T02:36:16.578151Z"
    },
    "id": "rr4c_8tcg-kq"
   },
   "outputs": [],
   "source": [
    "import random\n",
    "\n",
    "def get_sample(dataset, n=30):\n",
    "    \"\"\"Grabs a random subsample of size 'n' from dataset.\n",
    "    Outputs the mean of the subsample.\"\"\"\n",
    "    subsample = np.random.choice(dataset, size=n, replace=True)    \n",
    "    return np.mean(subsample)\n",
    "    \n",
    "\n",
    "def create_sample_distribution(dataset, size=100):\n",
    "    \"\"\"Creates a dataset of subsample means.  The length of the dataset is specified by the 'size'\n",
    "    keyword argument. Should return the entire sample distribution as a numpy array.  \"\"\"\n",
    "    sample_means = []\n",
    "\n",
    "    for _ in range(size):\n",
    "        sample_mean = get_sample(dataset) \n",
    "        sample_means.append(sample_mean)\n",
    "\n",
    "    sample_distribution = np.array(sample_means)\n",
    "    \n",
    "    return sample_distribution"
   ]
  },
  {
   "cell_type": "markdown",
   "metadata": {
    "id": "vgdvv1hEhCP4"
   },
   "source": [
    "---\n",
    "\n",
    "### 🔹 **Visualizing Our Sampling Distribution** 🔹\n",
    "\n",
    "---"
   ]
  },
  {
   "cell_type": "markdown",
   "metadata": {
    "id": "kiythupEhJQ6"
   },
   "source": [
    "Now that we have created our sample distribution, let's visualize it to determine if it's a normal distribution.  \n",
    "\n",
    "**TASK:** Use `matplotlib` or `seaborn` to visualize our sample distribution."
   ]
  },
  {
   "cell_type": "code",
   "execution_count": 4,
   "metadata": {
    "execution": {
     "iopub.execute_input": "2023-10-11T02:36:16.581432Z",
     "iopub.status.busy": "2023-10-11T02:36:16.580748Z",
     "iopub.status.idle": "2023-10-11T02:36:16.730657Z",
     "shell.execute_reply": "2023-10-11T02:36:16.730106Z"
    },
    "id": "mLpzxlvIh6jq"
   },
   "outputs": [
    {
     "data": {
      "image/png": "[encoded data removed]",
      "text/plain": [
       "<Figure size 640x480 with 1 Axes>"
      ]
     },
     "metadata": {},
     "output_type": "display_data"
    }
   ],
   "source": [
    "# Remember, we aliased matplotlib.pyplot as plt!\n",
    "plt.hist(create_sample_distribution(dataset=non_normal_data), bins=20, density=True, alpha=0.6, color='b', label='Sample Distribution')\n",
    "\n",
    "# Add labels and a legend\n",
    "plt.xlabel('Sample Means')\n",
    "plt.ylabel('Frequency')\n",
    "plt.title('Sample Distribution Histogram')\n",
    "plt.legend(loc='best')\n",
    "\n",
    "# Show the plot\n",
    "plt.show()\n"
   ]
  },
  {
   "cell_type": "markdown",
   "metadata": {
    "id": "vvwq5Aurh-ov"
   },
   "source": [
    "Great work!\n",
    "\n",
    "Now that you've used the Central Limit Theorem, you're able to create to treat non-normally distributed datasets as normally distributed.  You can now compute Z-scores and compute probabilities for values in these datasets!  "
   ]
  },
  {
   "cell_type": "markdown",
   "metadata": {
    "id": "5fSZ54N5gBYB"
   },
   "source": [
    "---\n",
    "---\n",
    "---"
   ]
  }
 ],
 "metadata": {
  "colab": {
   "provenance": []
  },
  "kernelspec": {
   "display_name": "Python 3",
   "name": "python3"
  },
  "language_info": {
   "codemirror_mode": {
    "name": "ipython",
    "version": 3
   },
   "file_extension": ".py",
   "mimetype": "text/x-python",
   "name": "python",
   "nbconvert_exporter": "python",
   "pygments_lexer": "ipython3",
   "version": "3.11.5"
  }
 },
 "nbformat": 4,
 "nbformat_minor": 0
}
