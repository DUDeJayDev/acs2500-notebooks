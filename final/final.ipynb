{
 "cells": [
  {
   "cell_type": "markdown",
   "metadata": {},
   "source": [
    "# Birds, Buddy!\n",
    "\n",
    "By: Dj Isaac"
   ]
  },
  {
   "cell_type": "markdown",
   "metadata": {},
   "source": [
    "## Introduction:\n",
    "\n",
    "I will explore and analyze a dynamically generated dataset sourced from Bird Buddy. Bird Buddy is \"an AI-powered camera bird feeder that notifies owners of bird visitors, takes pictures of them, and then arranges them into a lovely collection to admire and easily share with friends and family. Equipped with AI, the smart camera recognizes over 1,000 bird species. Bird Buddy's built-in camera can be fully controlled by owners from the comfort of their own homes.\" [[1]](https://www.crunchbase.com/organization/bird-buddy)\n",
    "\n",
    "### \"Dynamically generated\"?\n",
    "\n",
    "Correct. In January of this year (2023) Bird Buddy announced Heartbeat. Through the Bird Buddy Heartbeat, any \"citizen scientist, researcher, creative or tech connoisseur.\" [[2]](https://blog.mybirdbuddy.com/post/bird-buddy-visits-live) can access (and use) their data for... anything. Bird Buddy specifically highlights educational potential, but my involvement in this project was serendipitous; I am *much* more interested in the sheer volume of data. The included `generate.py` script will attempt to download available Bird Buddy Heartbeat data from the start of the year it was run in. As of October 3rd, 2023 this comes out to 8 months of data, which is a heavy 9.4GB. Combined into one `data.csv` file this data takes up 9.6GB. \n",
    "\n",
    "### \"That's a lot of data!\"\n",
    "\n",
    "Perfect.\n",
    "\n",
    "Compressed with [Meta's Zstandard](https://facebook.github.io/zstd/), `data.csv.zst` is a much more \"reasonable\" 1.2GB. This is the dataset we will be working with.\n",
    "\n",
    "### \"So what are we working with?\"\n",
    "\n",
    "Our data comprises of only the following information:\n",
    "* `anonymized_latitude` and `anonymized_longitude`: The geographic coordinates of bird feeder locations. Bird Buddy has ensured these coordinates are \"an approximate location that is at least six miles away from the feeder’s actual location\"\n",
    "* `timestamp`: The timestamp this record was created. \n",
    "    - This field is in the format `yyyy-MM-dd HH:mm:s.S`\n",
    "* `species_name`, `common_name`, and `scientific_name`: Bird species information.\n",
    "\n",
    "Though I generated the dataset, there is still plenty to fix up here.\n",
    "\n",
    "We will:\n",
    "* Preprocess the data efficiently during runtime, considering the dataset's substantial size.\n",
    "* Our analyses will cover a range of topics, including temporal patterns, geographical distributions, and correlations.\n",
    "* Explore Data Science Libraries such as `dask`, `numpy`, `pandas`, and `geoviews` for data analysis and visualization."
   ]
  },
  {
   "cell_type": "markdown",
   "metadata": {},
   "source": [
    "## Preprocessing\n",
    "\n"
   ]
  },
  {
   "cell_type": "markdown",
   "metadata": {},
   "source": [
    "We're using a library called Dask for ths extra large dataset. Dask allows me to spread the workload over multiple \"workers\". \n",
    "\n",
    "On my device, we're using 2 workers with 6 CPU threads each."
   ]
  },
  {
   "cell_type": "code",
   "execution_count": 18,
   "metadata": {},
   "outputs": [
    {
     "data": {
      "application/javascript": "(function(root) {\n  function now() {\n    return new Date();\n  }\n\n  var force = true;\n  var py_version = '3.2.2'.replace('rc', '-rc.').replace('.dev', '-dev.');\n  var is_dev = py_version.indexOf(\"+\") !== -1 || py_version.indexOf(\"-\") !== -1;\n  var reloading = false;\n  var Bokeh = root.Bokeh;\n  var bokeh_loaded = Bokeh != null && (Bokeh.version === py_version || (Bokeh.versions !== undefined && Bokeh.versions.has(py_version)));\n\n  if (typeof (root._bokeh_timeout) === \"undefined\" || force) {\n    root._bokeh_timeout = Date.now() + 5000;\n    root._bokeh_failed_load = false;\n  }\n\n  function run_callbacks() {\n    try {\n      root._bokeh_onload_callbacks.forEach(function(callback) {\n        if (callback != null)\n          callback();\n      });\n    } finally {\n      delete root._bokeh_onload_callbacks;\n    }\n    console.debug(\"Bokeh: all callbacks have finished\");\n  }\n\n  function load_libs(css_urls, js_urls, js_modules, js_exports, callback) {\n    if (css_urls == null) css_urls = [];\n    if (js_urls == null) js_urls = [];\n    if (js_modules == null) js_modules = [];\n    if (js_exports == null) js_exports = {};\n\n    root._bokeh_onload_callbacks.push(callback);\n\n    if (root._bokeh_is_loading > 0) {\n      console.debug(\"Bokeh: BokehJS is being loaded, scheduling callback at\", now());\n      return null;\n    }\n    if (js_urls.length === 0 && js_modules.length === 0 && Object.keys(js_exports).length === 0) {\n      run_callbacks();\n      return null;\n    }\n    if (!reloading) {\n      console.debug(\"Bokeh: BokehJS not loaded, scheduling load and callback at\", now());\n    }\n\n    function on_load() {\n      root._bokeh_is_loading--;\n      if (root._bokeh_is_loading === 0) {\n        console.debug(\"Bokeh: all BokehJS libraries/stylesheets loaded\");\n        run_callbacks()\n      }\n    }\n    window._bokeh_on_load = on_load\n\n    function on_error() {\n      console.error(\"failed to load \" + url);\n    }\n\n    var skip = [];\n    if (window.requirejs) {\n      window.requirejs.config({'packages': {}, 'paths': {'jspanel': 'https://cdn.jsdelivr.net/npm/jspanel4@4.12.0/dist/jspanel', 'jspanel-modal': 'https://cdn.jsdelivr.net/npm/jspanel4@4.12.0/dist/extensions/modal/jspanel.modal', 'jspanel-tooltip': 'https://cdn.jsdelivr.net/npm/jspanel4@4.12.0/dist/extensions/tooltip/jspanel.tooltip', 'jspanel-hint': 'https://cdn.jsdelivr.net/npm/jspanel4@4.12.0/dist/extensions/hint/jspanel.hint', 'jspanel-layout': 'https://cdn.jsdelivr.net/npm/jspanel4@4.12.0/dist/extensions/layout/jspanel.layout', 'jspanel-contextmenu': 'https://cdn.jsdelivr.net/npm/jspanel4@4.12.0/dist/extensions/contextmenu/jspanel.contextmenu', 'jspanel-dock': 'https://cdn.jsdelivr.net/npm/jspanel4@4.12.0/dist/extensions/dock/jspanel.dock', 'gridstack': 'https://cdn.jsdelivr.net/npm/gridstack@7.2.3/dist/gridstack-all', 'notyf': 'https://cdn.jsdelivr.net/npm/notyf@3/notyf.min'}, 'shim': {'jspanel': {'exports': 'jsPanel'}, 'gridstack': {'exports': 'GridStack'}}});\n      require([\"jspanel\"], function(jsPanel) {\n\twindow.jsPanel = jsPanel\n\ton_load()\n      })\n      require([\"jspanel-modal\"], function() {\n\ton_load()\n      })\n      require([\"jspanel-tooltip\"], function() {\n\ton_load()\n      })\n      require([\"jspanel-hint\"], function() {\n\ton_load()\n      })\n      require([\"jspanel-layout\"], function() {\n\ton_load()\n      })\n      require([\"jspanel-contextmenu\"], function() {\n\ton_load()\n      })\n      require([\"jspanel-dock\"], function() {\n\ton_load()\n      })\n      require([\"gridstack\"], function(GridStack) {\n\twindow.GridStack = GridStack\n\ton_load()\n      })\n      require([\"notyf\"], function() {\n\ton_load()\n      })\n      root._bokeh_is_loading = css_urls.length + 9;\n    } else {\n      root._bokeh_is_loading = css_urls.length + js_urls.length + js_modules.length + Object.keys(js_exports).length;\n    }\n\n    var existing_stylesheets = []\n    var links = document.getElementsByTagName('link')\n    for (var i = 0; i < links.length; i++) {\n      var link = links[i]\n      if (link.href != null) {\n\texisting_stylesheets.push(link.href)\n      }\n    }\n    for (var i = 0; i < css_urls.length; i++) {\n      var url = css_urls[i];\n      if (existing_stylesheets.indexOf(url) !== -1) {\n\ton_load()\n\tcontinue;\n      }\n      const element = document.createElement(\"link\");\n      element.onload = on_load;\n      element.onerror = on_error;\n      element.rel = \"stylesheet\";\n      element.type = \"text/css\";\n      element.href = url;\n      console.debug(\"Bokeh: injecting link tag for BokehJS stylesheet: \", url);\n      document.body.appendChild(element);\n    }    if (((window['jsPanel'] !== undefined) && (!(window['jsPanel'] instanceof HTMLElement))) || window.requirejs) {\n      var urls = ['https://cdn.holoviz.org/panel/1.2.3/dist/bundled/floatpanel/jspanel4@4.12.0/dist/jspanel.js', 'https://cdn.holoviz.org/panel/1.2.3/dist/bundled/floatpanel/jspanel4@4.12.0/dist/extensions/modal/jspanel.modal.js', 'https://cdn.holoviz.org/panel/1.2.3/dist/bundled/floatpanel/jspanel4@4.12.0/dist/extensions/tooltip/jspanel.tooltip.js', 'https://cdn.holoviz.org/panel/1.2.3/dist/bundled/floatpanel/jspanel4@4.12.0/dist/extensions/hint/jspanel.hint.js', 'https://cdn.holoviz.org/panel/1.2.3/dist/bundled/floatpanel/jspanel4@4.12.0/dist/extensions/layout/jspanel.layout.js', 'https://cdn.holoviz.org/panel/1.2.3/dist/bundled/floatpanel/jspanel4@4.12.0/dist/extensions/contextmenu/jspanel.contextmenu.js', 'https://cdn.holoviz.org/panel/1.2.3/dist/bundled/floatpanel/jspanel4@4.12.0/dist/extensions/dock/jspanel.dock.js'];\n      for (var i = 0; i < urls.length; i++) {\n        skip.push(urls[i])\n      }\n    }    if (((window['GridStack'] !== undefined) && (!(window['GridStack'] instanceof HTMLElement))) || window.requirejs) {\n      var urls = ['https://cdn.holoviz.org/panel/1.2.3/dist/bundled/gridstack/gridstack@7.2.3/dist/gridstack-all.js'];\n      for (var i = 0; i < urls.length; i++) {\n        skip.push(urls[i])\n      }\n    }    if (((window['Notyf'] !== undefined) && (!(window['Notyf'] instanceof HTMLElement))) || window.requirejs) {\n      var urls = ['https://cdn.holoviz.org/panel/1.2.3/dist/bundled/notificationarea/notyf@3/notyf.min.js'];\n      for (var i = 0; i < urls.length; i++) {\n        skip.push(urls[i])\n      }\n    }    var existing_scripts = []\n    var scripts = document.getElementsByTagName('script')\n    for (var i = 0; i < scripts.length; i++) {\n      var script = scripts[i]\n      if (script.src != null) {\n\texisting_scripts.push(script.src)\n      }\n    }\n    for (var i = 0; i < js_urls.length; i++) {\n      var url = js_urls[i];\n      if (skip.indexOf(url) !== -1 || existing_scripts.indexOf(url) !== -1) {\n\tif (!window.requirejs) {\n\t  on_load();\n\t}\n\tcontinue;\n      }\n      var element = document.createElement('script');\n      element.onload = on_load;\n      element.onerror = on_error;\n      element.async = false;\n      element.src = url;\n      console.debug(\"Bokeh: injecting script tag for BokehJS library: \", url);\n      document.head.appendChild(element);\n    }\n    for (var i = 0; i < js_modules.length; i++) {\n      var url = js_modules[i];\n      if (skip.indexOf(url) !== -1 || existing_scripts.indexOf(url) !== -1) {\n\tif (!window.requirejs) {\n\t  on_load();\n\t}\n\tcontinue;\n      }\n      var element = document.createElement('script');\n      element.onload = on_load;\n      element.onerror = on_error;\n      element.async = false;\n      element.src = url;\n      element.type = \"module\";\n      console.debug(\"Bokeh: injecting script tag for BokehJS library: \", url);\n      document.head.appendChild(element);\n    }\n    for (const name in js_exports) {\n      var url = js_exports[name];\n      if (skip.indexOf(url) >= 0 || root[name] != null) {\n\tif (!window.requirejs) {\n\t  on_load();\n\t}\n\tcontinue;\n      }\n      var element = document.createElement('script');\n      element.onerror = on_error;\n      element.async = false;\n      element.type = \"module\";\n      console.debug(\"Bokeh: injecting script tag for BokehJS library: \", url);\n      element.textContent = `\n      import ${name} from \"${url}\"\n      window.${name} = ${name}\n      window._bokeh_on_load()\n      `\n      document.head.appendChild(element);\n    }\n    if (!js_urls.length && !js_modules.length) {\n      on_load()\n    }\n  };\n\n  function inject_raw_css(css) {\n    const element = document.createElement(\"style\");\n    element.appendChild(document.createTextNode(css));\n    document.body.appendChild(element);\n  }\n\n  var js_urls = [\"https://cdn.bokeh.org/bokeh/release/bokeh-3.2.2.min.js\", \"https://cdn.bokeh.org/bokeh/release/bokeh-gl-3.2.2.min.js\", \"https://cdn.bokeh.org/bokeh/release/bokeh-widgets-3.2.2.min.js\", \"https://cdn.bokeh.org/bokeh/release/bokeh-tables-3.2.2.min.js\", \"https://cdn.holoviz.org/panel/1.2.3/dist/panel.min.js\", \"https://cdn.jsdelivr.net/npm/@holoviz/geoviews@1.10.1/dist/geoviews.min.js\"];\n  var js_modules = [];\n  var js_exports = {};\n  var css_urls = [];\n  var inline_js = [    function(Bokeh) {\n      Bokeh.set_log_level(\"info\");\n    },\nfunction(Bokeh) {} // ensure no trailing comma for IE\n  ];\n\n  function run_inline_js() {\n    if ((root.Bokeh !== undefined) || (force === true)) {\n      for (var i = 0; i < inline_js.length; i++) {\n        inline_js[i].call(root, root.Bokeh);\n      }\n      // Cache old bokeh versions\n      if (Bokeh != undefined && !reloading) {\n\tvar NewBokeh = root.Bokeh;\n\tif (Bokeh.versions === undefined) {\n\t  Bokeh.versions = new Map();\n\t}\n\tif (NewBokeh.version !== Bokeh.version) {\n\t  Bokeh.versions.set(NewBokeh.version, NewBokeh)\n\t}\n\troot.Bokeh = Bokeh;\n      }} else if (Date.now() < root._bokeh_timeout) {\n      setTimeout(run_inline_js, 100);\n    } else if (!root._bokeh_failed_load) {\n      console.log(\"Bokeh: BokehJS failed to load within specified timeout.\");\n      root._bokeh_failed_load = true;\n    }\n    root._bokeh_is_initializing = false\n  }\n\n  function load_or_wait() {\n    // Implement a backoff loop that tries to ensure we do not load multiple\n    // versions of Bokeh and its dependencies at the same time.\n    // In recent versions we use the root._bokeh_is_initializing flag\n    // to determine whether there is an ongoing attempt to initialize\n    // bokeh, however for backward compatibility we also try to ensure\n    // that we do not start loading a newer (Panel>=1.0 and Bokeh>3) version\n    // before older versions are fully initialized.\n    if (root._bokeh_is_initializing && Date.now() > root._bokeh_timeout) {\n      root._bokeh_is_initializing = false;\n      root._bokeh_onload_callbacks = undefined;\n      console.log(\"Bokeh: BokehJS was loaded multiple times but one version failed to initialize.\");\n      load_or_wait();\n    } else if (root._bokeh_is_initializing || (typeof root._bokeh_is_initializing === \"undefined\" && root._bokeh_onload_callbacks !== undefined)) {\n      setTimeout(load_or_wait, 100);\n    } else {\n      Bokeh = root.Bokeh;\n      bokeh_loaded = Bokeh != null && (Bokeh.version === py_version || (Bokeh.versions !== undefined && Bokeh.versions.has(py_version)));\n      root._bokeh_is_initializing = true\n      root._bokeh_onload_callbacks = []\n      if (!reloading && (!bokeh_loaded || is_dev)) {\n\troot.Bokeh = undefined;\n      }\n      load_libs(css_urls, js_urls, js_modules, js_exports, function() {\n\tconsole.debug(\"Bokeh: BokehJS plotting callback run at\", now());\n\trun_inline_js();\n      });\n    }\n  }\n  // Give older versions of the autoload script a head-start to ensure\n  // they initialize before we start loading newer version.\n  setTimeout(load_or_wait, 100)\n}(window));",
      "application/vnd.holoviews_load.v0+json": ""
     },
     "metadata": {},
     "output_type": "display_data"
    },
    {
     "data": {
      "application/javascript": "\nif ((window.PyViz === undefined) || (window.PyViz instanceof HTMLElement)) {\n  window.PyViz = {comms: {}, comm_status:{}, kernels:{}, receivers: {}, plot_index: []}\n}\n\n\n    function JupyterCommManager() {\n    }\n\n    JupyterCommManager.prototype.register_target = function(plot_id, comm_id, msg_handler) {\n      if (window.comm_manager || ((window.Jupyter !== undefined) && (Jupyter.notebook.kernel != null))) {\n        var comm_manager = window.comm_manager || Jupyter.notebook.kernel.comm_manager;\n        comm_manager.register_target(comm_id, function(comm) {\n          comm.on_msg(msg_handler);\n        });\n      } else if ((plot_id in window.PyViz.kernels) && (window.PyViz.kernels[plot_id])) {\n        window.PyViz.kernels[plot_id].registerCommTarget(comm_id, function(comm) {\n          comm.onMsg = msg_handler;\n        });\n      } else if (typeof google != 'undefined' && google.colab.kernel != null) {\n        google.colab.kernel.comms.registerTarget(comm_id, (comm) => {\n          var messages = comm.messages[Symbol.asyncIterator]();\n          function processIteratorResult(result) {\n            var message = result.value;\n            console.log(message)\n            var content = {data: message.data, comm_id};\n            var buffers = []\n            for (var buffer of message.buffers || []) {\n              buffers.push(new DataView(buffer))\n            }\n            var metadata = message.metadata || {};\n            var msg = {content, buffers, metadata}\n            msg_handler(msg);\n            return messages.next().then(processIteratorResult);\n          }\n          return messages.next().then(processIteratorResult);\n        })\n      }\n    }\n\n    JupyterCommManager.prototype.get_client_comm = function(plot_id, comm_id, msg_handler) {\n      if (comm_id in window.PyViz.comms) {\n        return window.PyViz.comms[comm_id];\n      } else if (window.comm_manager || ((window.Jupyter !== undefined) && (Jupyter.notebook.kernel != null))) {\n        var comm_manager = window.comm_manager || Jupyter.notebook.kernel.comm_manager;\n        var comm = comm_manager.new_comm(comm_id, {}, {}, {}, comm_id);\n        if (msg_handler) {\n          comm.on_msg(msg_handler);\n        }\n      } else if ((plot_id in window.PyViz.kernels) && (window.PyViz.kernels[plot_id])) {\n        var comm = window.PyViz.kernels[plot_id].connectToComm(comm_id);\n        comm.open();\n        if (msg_handler) {\n          comm.onMsg = msg_handler;\n        }\n      } else if (typeof google != 'undefined' && google.colab.kernel != null) {\n        var comm_promise = google.colab.kernel.comms.open(comm_id)\n        comm_promise.then((comm) => {\n          window.PyViz.comms[comm_id] = comm;\n          if (msg_handler) {\n            var messages = comm.messages[Symbol.asyncIterator]();\n            function processIteratorResult(result) {\n              var message = result.value;\n              var content = {data: message.data};\n              var metadata = message.metadata || {comm_id};\n              var msg = {content, metadata}\n              msg_handler(msg);\n              return messages.next().then(processIteratorResult);\n            }\n            return messages.next().then(processIteratorResult);\n          }\n        }) \n        var sendClosure = (data, metadata, buffers, disposeOnDone) => {\n          return comm_promise.then((comm) => {\n            comm.send(data, metadata, buffers, disposeOnDone);\n          });\n        };\n        var comm = {\n          send: sendClosure\n        };\n      }\n      window.PyViz.comms[comm_id] = comm;\n      return comm;\n    }\n    window.PyViz.comm_manager = new JupyterCommManager();\n    \n\n\nvar JS_MIME_TYPE = 'application/javascript';\nvar HTML_MIME_TYPE = 'text/html';\nvar EXEC_MIME_TYPE = 'application/vnd.holoviews_exec.v0+json';\nvar CLASS_NAME = 'output';\n\n/**\n * Render data to the DOM node\n */\nfunction render(props, node) {\n  var div = document.createElement(\"div\");\n  var script = document.createElement(\"script\");\n  node.appendChild(div);\n  node.appendChild(script);\n}\n\n/**\n * Handle when a new output is added\n */\nfunction handle_add_output(event, handle) {\n  var output_area = handle.output_area;\n  var output = handle.output;\n  if ((output.data == undefined) || (!output.data.hasOwnProperty(EXEC_MIME_TYPE))) {\n    return\n  }\n  var id = output.metadata[EXEC_MIME_TYPE][\"id\"];\n  var toinsert = output_area.element.find(\".\" + CLASS_NAME.split(' ')[0]);\n  if (id !== undefined) {\n    var nchildren = toinsert.length;\n    var html_node = toinsert[nchildren-1].children[0];\n    html_node.innerHTML = output.data[HTML_MIME_TYPE];\n    var scripts = [];\n    var nodelist = html_node.querySelectorAll(\"script\");\n    for (var i in nodelist) {\n      if (nodelist.hasOwnProperty(i)) {\n        scripts.push(nodelist[i])\n      }\n    }\n\n    scripts.forEach( function (oldScript) {\n      var newScript = document.createElement(\"script\");\n      var attrs = [];\n      var nodemap = oldScript.attributes;\n      for (var j in nodemap) {\n        if (nodemap.hasOwnProperty(j)) {\n          attrs.push(nodemap[j])\n        }\n      }\n      attrs.forEach(function(attr) { newScript.setAttribute(attr.name, attr.value) });\n      newScript.appendChild(document.createTextNode(oldScript.innerHTML));\n      oldScript.parentNode.replaceChild(newScript, oldScript);\n    });\n    if (JS_MIME_TYPE in output.data) {\n      toinsert[nchildren-1].children[1].textContent = output.data[JS_MIME_TYPE];\n    }\n    output_area._hv_plot_id = id;\n    if ((window.Bokeh !== undefined) && (id in Bokeh.index)) {\n      window.PyViz.plot_index[id] = Bokeh.index[id];\n    } else {\n      window.PyViz.plot_index[id] = null;\n    }\n  } else if (output.metadata[EXEC_MIME_TYPE][\"server_id\"] !== undefined) {\n    var bk_div = document.createElement(\"div\");\n    bk_div.innerHTML = output.data[HTML_MIME_TYPE];\n    var script_attrs = bk_div.children[0].attributes;\n    for (var i = 0; i < script_attrs.length; i++) {\n      toinsert[toinsert.length - 1].childNodes[1].setAttribute(script_attrs[i].name, script_attrs[i].value);\n    }\n    // store reference to server id on output_area\n    output_area._bokeh_server_id = output.metadata[EXEC_MIME_TYPE][\"server_id\"];\n  }\n}\n\n/**\n * Handle when an output is cleared or removed\n */\nfunction handle_clear_output(event, handle) {\n  var id = handle.cell.output_area._hv_plot_id;\n  var server_id = handle.cell.output_area._bokeh_server_id;\n  if (((id === undefined) || !(id in PyViz.plot_index)) && (server_id !== undefined)) { return; }\n  var comm = window.PyViz.comm_manager.get_client_comm(\"hv-extension-comm\", \"hv-extension-comm\", function () {});\n  if (server_id !== null) {\n    comm.send({event_type: 'server_delete', 'id': server_id});\n    return;\n  } else if (comm !== null) {\n    comm.send({event_type: 'delete', 'id': id});\n  }\n  delete PyViz.plot_index[id];\n  if ((window.Bokeh !== undefined) & (id in window.Bokeh.index)) {\n    var doc = window.Bokeh.index[id].model.document\n    doc.clear();\n    const i = window.Bokeh.documents.indexOf(doc);\n    if (i > -1) {\n      window.Bokeh.documents.splice(i, 1);\n    }\n  }\n}\n\n/**\n * Handle kernel restart event\n */\nfunction handle_kernel_cleanup(event, handle) {\n  delete PyViz.comms[\"hv-extension-comm\"];\n  window.PyViz.plot_index = {}\n}\n\n/**\n * Handle update_display_data messages\n */\nfunction handle_update_output(event, handle) {\n  handle_clear_output(event, {cell: {output_area: handle.output_area}})\n  handle_add_output(event, handle)\n}\n\nfunction register_renderer(events, OutputArea) {\n  function append_mime(data, metadata, element) {\n    // create a DOM node to render to\n    var toinsert = this.create_output_subarea(\n    metadata,\n    CLASS_NAME,\n    EXEC_MIME_TYPE\n    );\n    this.keyboard_manager.register_events(toinsert);\n    // Render to node\n    var props = {data: data, metadata: metadata[EXEC_MIME_TYPE]};\n    render(props, toinsert[0]);\n    element.append(toinsert);\n    return toinsert\n  }\n\n  events.on('output_added.OutputArea', handle_add_output);\n  events.on('output_updated.OutputArea', handle_update_output);\n  events.on('clear_output.CodeCell', handle_clear_output);\n  events.on('delete.Cell', handle_clear_output);\n  events.on('kernel_ready.Kernel', handle_kernel_cleanup);\n\n  OutputArea.prototype.register_mime_type(EXEC_MIME_TYPE, append_mime, {\n    safe: true,\n    index: 0\n  });\n}\n\nif (window.Jupyter !== undefined) {\n  try {\n    var events = require('base/js/events');\n    var OutputArea = require('notebook/js/outputarea').OutputArea;\n    if (OutputArea.prototype.mime_types().indexOf(EXEC_MIME_TYPE) == -1) {\n      register_renderer(events, OutputArea);\n    }\n  } catch(err) {\n  }\n}\n",
      "application/vnd.holoviews_load.v0+json": ""
     },
     "metadata": {},
     "output_type": "display_data"
    },
    {
     "data": {
      "text/html": [
       "<style>*[data-root-id],\n",
       "*[data-root-id] > * {\n",
       "  box-sizing: border-box;\n",
       "  font-family: var(--jp-ui-font-family);\n",
       "  font-size: var(--jp-ui-font-size1);\n",
       "  color: var(--vscode-editor-foreground, var(--jp-ui-font-color1));\n",
       "}\n",
       "\n",
       "/* Override VSCode background color */\n",
       ".cell-output-ipywidget-background:has(\n",
       "    > .cell-output-ipywidget-background > .lm-Widget > *[data-root-id]\n",
       "  ),\n",
       ".cell-output-ipywidget-background:has(> .lm-Widget > *[data-root-id]) {\n",
       "  background-color: transparent !important;\n",
       "}\n",
       "</style>"
      ]
     },
     "metadata": {},
     "output_type": "display_data"
    },
    {
     "name": "stderr",
     "output_type": "stream",
     "text": [
      "/home/dj/school/acs2500/.venv/lib/python3.11/site-packages/distributed/node.py:182: UserWarning: Port 8787 is already in use.\n",
      "Perhaps you already have a cluster running?\n",
      "Hosting the HTTP server on port 40865 instead\n",
      "  warnings.warn(\n"
     ]
    },
    {
     "data": {
      "text/html": [
       "<div>\n",
       "    <div style=\"width: 24px; height: 24px; background-color: #e1e1e1; border: 3px solid #9D9D9D; border-radius: 5px; position: absolute;\"> </div>\n",
       "    <div style=\"margin-left: 48px;\">\n",
       "        <h3 style=\"margin-bottom: 0px;\">Client</h3>\n",
       "        <p style=\"color: #9D9D9D; margin-bottom: 0px;\">Client-bbd225fd-629b-11ee-820d-a60b075e8f19</p>\n",
       "        <table style=\"width: 100%; text-align: left;\">\n",
       "\n",
       "        <tr>\n",
       "        \n",
       "            <td style=\"text-align: left;\"><strong>Connection method:</strong> Cluster object</td>\n",
       "            <td style=\"text-align: left;\"><strong>Cluster type:</strong> distributed.LocalCluster</td>\n",
       "        \n",
       "        </tr>\n",
       "\n",
       "        \n",
       "            <tr>\n",
       "                <td style=\"text-align: left;\">\n",
       "                    <strong>Dashboard: </strong> <a href=\"http://127.0.0.1:40865/status\" target=\"_blank\">http://127.0.0.1:40865/status</a>\n",
       "                </td>\n",
       "                <td style=\"text-align: left;\"></td>\n",
       "            </tr>\n",
       "        \n",
       "\n",
       "        </table>\n",
       "\n",
       "        \n",
       "\n",
       "        \n",
       "            <details>\n",
       "            <summary style=\"margin-bottom: 20px;\"><h3 style=\"display: inline;\">Cluster Info</h3></summary>\n",
       "            <div class=\"jp-RenderedHTMLCommon jp-RenderedHTML jp-mod-trusted jp-OutputArea-output\">\n",
       "    <div style=\"width: 24px; height: 24px; background-color: #e1e1e1; border: 3px solid #9D9D9D; border-radius: 5px; position: absolute;\">\n",
       "    </div>\n",
       "    <div style=\"margin-left: 48px;\">\n",
       "        <h3 style=\"margin-bottom: 0px; margin-top: 0px;\">LocalCluster</h3>\n",
       "        <p style=\"color: #9D9D9D; margin-bottom: 0px;\">d012409f</p>\n",
       "        <table style=\"width: 100%; text-align: left;\">\n",
       "            <tr>\n",
       "                <td style=\"text-align: left;\">\n",
       "                    <strong>Dashboard:</strong> <a href=\"http://127.0.0.1:40865/status\" target=\"_blank\">http://127.0.0.1:40865/status</a>\n",
       "                </td>\n",
       "                <td style=\"text-align: left;\">\n",
       "                    <strong>Workers:</strong> 4\n",
       "                </td>\n",
       "            </tr>\n",
       "            <tr>\n",
       "                <td style=\"text-align: left;\">\n",
       "                    <strong>Total threads:</strong> 12\n",
       "                </td>\n",
       "                <td style=\"text-align: left;\">\n",
       "                    <strong>Total memory:</strong> 7.45 GiB\n",
       "                </td>\n",
       "            </tr>\n",
       "            \n",
       "            <tr>\n",
       "    <td style=\"text-align: left;\"><strong>Status:</strong> running</td>\n",
       "    <td style=\"text-align: left;\"><strong>Using processes:</strong> True</td>\n",
       "</tr>\n",
       "\n",
       "            \n",
       "        </table>\n",
       "\n",
       "        <details>\n",
       "            <summary style=\"margin-bottom: 20px;\">\n",
       "                <h3 style=\"display: inline;\">Scheduler Info</h3>\n",
       "            </summary>\n",
       "\n",
       "            <div style=\"\">\n",
       "    <div>\n",
       "        <div style=\"width: 24px; height: 24px; background-color: #FFF7E5; border: 3px solid #FF6132; border-radius: 5px; position: absolute;\"> </div>\n",
       "        <div style=\"margin-left: 48px;\">\n",
       "            <h3 style=\"margin-bottom: 0px;\">Scheduler</h3>\n",
       "            <p style=\"color: #9D9D9D; margin-bottom: 0px;\">Scheduler-be63629c-f8d0-4635-ae68-af6c6cdd2cb0</p>\n",
       "            <table style=\"width: 100%; text-align: left;\">\n",
       "                <tr>\n",
       "                    <td style=\"text-align: left;\">\n",
       "                        <strong>Comm:</strong> tcp://127.0.0.1:36183\n",
       "                    </td>\n",
       "                    <td style=\"text-align: left;\">\n",
       "                        <strong>Workers:</strong> 4\n",
       "                    </td>\n",
       "                </tr>\n",
       "                <tr>\n",
       "                    <td style=\"text-align: left;\">\n",
       "                        <strong>Dashboard:</strong> <a href=\"http://127.0.0.1:40865/status\" target=\"_blank\">http://127.0.0.1:40865/status</a>\n",
       "                    </td>\n",
       "                    <td style=\"text-align: left;\">\n",
       "                        <strong>Total threads:</strong> 12\n",
       "                    </td>\n",
       "                </tr>\n",
       "                <tr>\n",
       "                    <td style=\"text-align: left;\">\n",
       "                        <strong>Started:</strong> Just now\n",
       "                    </td>\n",
       "                    <td style=\"text-align: left;\">\n",
       "                        <strong>Total memory:</strong> 7.45 GiB\n",
       "                    </td>\n",
       "                </tr>\n",
       "            </table>\n",
       "        </div>\n",
       "    </div>\n",
       "\n",
       "    <details style=\"margin-left: 48px;\">\n",
       "        <summary style=\"margin-bottom: 20px;\">\n",
       "            <h3 style=\"display: inline;\">Workers</h3>\n",
       "        </summary>\n",
       "\n",
       "        \n",
       "        <div style=\"margin-bottom: 20px;\">\n",
       "            <div style=\"width: 24px; height: 24px; background-color: #DBF5FF; border: 3px solid #4CC9FF; border-radius: 5px; position: absolute;\"> </div>\n",
       "            <div style=\"margin-left: 48px;\">\n",
       "            <details>\n",
       "                <summary>\n",
       "                    <h4 style=\"margin-bottom: 0px; display: inline;\">Worker: 0</h4>\n",
       "                </summary>\n",
       "                <table style=\"width: 100%; text-align: left;\">\n",
       "                    <tr>\n",
       "                        <td style=\"text-align: left;\">\n",
       "                            <strong>Comm: </strong> tcp://127.0.0.1:42365\n",
       "                        </td>\n",
       "                        <td style=\"text-align: left;\">\n",
       "                            <strong>Total threads: </strong> 3\n",
       "                        </td>\n",
       "                    </tr>\n",
       "                    <tr>\n",
       "                        <td style=\"text-align: left;\">\n",
       "                            <strong>Dashboard: </strong> <a href=\"http://127.0.0.1:45807/status\" target=\"_blank\">http://127.0.0.1:45807/status</a>\n",
       "                        </td>\n",
       "                        <td style=\"text-align: left;\">\n",
       "                            <strong>Memory: </strong> 1.86 GiB\n",
       "                        </td>\n",
       "                    </tr>\n",
       "                    <tr>\n",
       "                        <td style=\"text-align: left;\">\n",
       "                            <strong>Nanny: </strong> tcp://127.0.0.1:39865\n",
       "                        </td>\n",
       "                        <td style=\"text-align: left;\"></td>\n",
       "                    </tr>\n",
       "                    <tr>\n",
       "                        <td colspan=\"2\" style=\"text-align: left;\">\n",
       "                            <strong>Local directory: </strong> /tmp/dask-scratch-space/worker-10iyu_36\n",
       "                        </td>\n",
       "                    </tr>\n",
       "\n",
       "                    \n",
       "\n",
       "                    \n",
       "\n",
       "                </table>\n",
       "            </details>\n",
       "            </div>\n",
       "        </div>\n",
       "        \n",
       "        <div style=\"margin-bottom: 20px;\">\n",
       "            <div style=\"width: 24px; height: 24px; background-color: #DBF5FF; border: 3px solid #4CC9FF; border-radius: 5px; position: absolute;\"> </div>\n",
       "            <div style=\"margin-left: 48px;\">\n",
       "            <details>\n",
       "                <summary>\n",
       "                    <h4 style=\"margin-bottom: 0px; display: inline;\">Worker: 1</h4>\n",
       "                </summary>\n",
       "                <table style=\"width: 100%; text-align: left;\">\n",
       "                    <tr>\n",
       "                        <td style=\"text-align: left;\">\n",
       "                            <strong>Comm: </strong> tcp://127.0.0.1:45453\n",
       "                        </td>\n",
       "                        <td style=\"text-align: left;\">\n",
       "                            <strong>Total threads: </strong> 3\n",
       "                        </td>\n",
       "                    </tr>\n",
       "                    <tr>\n",
       "                        <td style=\"text-align: left;\">\n",
       "                            <strong>Dashboard: </strong> <a href=\"http://127.0.0.1:36683/status\" target=\"_blank\">http://127.0.0.1:36683/status</a>\n",
       "                        </td>\n",
       "                        <td style=\"text-align: left;\">\n",
       "                            <strong>Memory: </strong> 1.86 GiB\n",
       "                        </td>\n",
       "                    </tr>\n",
       "                    <tr>\n",
       "                        <td style=\"text-align: left;\">\n",
       "                            <strong>Nanny: </strong> tcp://127.0.0.1:39773\n",
       "                        </td>\n",
       "                        <td style=\"text-align: left;\"></td>\n",
       "                    </tr>\n",
       "                    <tr>\n",
       "                        <td colspan=\"2\" style=\"text-align: left;\">\n",
       "                            <strong>Local directory: </strong> /tmp/dask-scratch-space/worker-z6ae82_c\n",
       "                        </td>\n",
       "                    </tr>\n",
       "\n",
       "                    \n",
       "\n",
       "                    \n",
       "\n",
       "                </table>\n",
       "            </details>\n",
       "            </div>\n",
       "        </div>\n",
       "        \n",
       "        <div style=\"margin-bottom: 20px;\">\n",
       "            <div style=\"width: 24px; height: 24px; background-color: #DBF5FF; border: 3px solid #4CC9FF; border-radius: 5px; position: absolute;\"> </div>\n",
       "            <div style=\"margin-left: 48px;\">\n",
       "            <details>\n",
       "                <summary>\n",
       "                    <h4 style=\"margin-bottom: 0px; display: inline;\">Worker: 2</h4>\n",
       "                </summary>\n",
       "                <table style=\"width: 100%; text-align: left;\">\n",
       "                    <tr>\n",
       "                        <td style=\"text-align: left;\">\n",
       "                            <strong>Comm: </strong> tcp://127.0.0.1:44773\n",
       "                        </td>\n",
       "                        <td style=\"text-align: left;\">\n",
       "                            <strong>Total threads: </strong> 3\n",
       "                        </td>\n",
       "                    </tr>\n",
       "                    <tr>\n",
       "                        <td style=\"text-align: left;\">\n",
       "                            <strong>Dashboard: </strong> <a href=\"http://127.0.0.1:35955/status\" target=\"_blank\">http://127.0.0.1:35955/status</a>\n",
       "                        </td>\n",
       "                        <td style=\"text-align: left;\">\n",
       "                            <strong>Memory: </strong> 1.86 GiB\n",
       "                        </td>\n",
       "                    </tr>\n",
       "                    <tr>\n",
       "                        <td style=\"text-align: left;\">\n",
       "                            <strong>Nanny: </strong> tcp://127.0.0.1:34293\n",
       "                        </td>\n",
       "                        <td style=\"text-align: left;\"></td>\n",
       "                    </tr>\n",
       "                    <tr>\n",
       "                        <td colspan=\"2\" style=\"text-align: left;\">\n",
       "                            <strong>Local directory: </strong> /tmp/dask-scratch-space/worker-o4jo8im0\n",
       "                        </td>\n",
       "                    </tr>\n",
       "\n",
       "                    \n",
       "\n",
       "                    \n",
       "\n",
       "                </table>\n",
       "            </details>\n",
       "            </div>\n",
       "        </div>\n",
       "        \n",
       "        <div style=\"margin-bottom: 20px;\">\n",
       "            <div style=\"width: 24px; height: 24px; background-color: #DBF5FF; border: 3px solid #4CC9FF; border-radius: 5px; position: absolute;\"> </div>\n",
       "            <div style=\"margin-left: 48px;\">\n",
       "            <details>\n",
       "                <summary>\n",
       "                    <h4 style=\"margin-bottom: 0px; display: inline;\">Worker: 3</h4>\n",
       "                </summary>\n",
       "                <table style=\"width: 100%; text-align: left;\">\n",
       "                    <tr>\n",
       "                        <td style=\"text-align: left;\">\n",
       "                            <strong>Comm: </strong> tcp://127.0.0.1:46291\n",
       "                        </td>\n",
       "                        <td style=\"text-align: left;\">\n",
       "                            <strong>Total threads: </strong> 3\n",
       "                        </td>\n",
       "                    </tr>\n",
       "                    <tr>\n",
       "                        <td style=\"text-align: left;\">\n",
       "                            <strong>Dashboard: </strong> <a href=\"http://127.0.0.1:43235/status\" target=\"_blank\">http://127.0.0.1:43235/status</a>\n",
       "                        </td>\n",
       "                        <td style=\"text-align: left;\">\n",
       "                            <strong>Memory: </strong> 1.86 GiB\n",
       "                        </td>\n",
       "                    </tr>\n",
       "                    <tr>\n",
       "                        <td style=\"text-align: left;\">\n",
       "                            <strong>Nanny: </strong> tcp://127.0.0.1:33473\n",
       "                        </td>\n",
       "                        <td style=\"text-align: left;\"></td>\n",
       "                    </tr>\n",
       "                    <tr>\n",
       "                        <td colspan=\"2\" style=\"text-align: left;\">\n",
       "                            <strong>Local directory: </strong> /tmp/dask-scratch-space/worker-6i0c3fkz\n",
       "                        </td>\n",
       "                    </tr>\n",
       "\n",
       "                    \n",
       "\n",
       "                    \n",
       "\n",
       "                </table>\n",
       "            </details>\n",
       "            </div>\n",
       "        </div>\n",
       "        \n",
       "\n",
       "    </details>\n",
       "</div>\n",
       "\n",
       "        </details>\n",
       "    </div>\n",
       "</div>\n",
       "            </details>\n",
       "        \n",
       "\n",
       "    </div>\n",
       "</div>"
      ],
      "text/plain": [
       "<Client: 'tcp://127.0.0.1:36183' processes=4 threads=12, memory=7.45 GiB>"
      ]
     },
     "execution_count": 18,
     "metadata": {},
     "output_type": "execute_result"
    }
   ],
   "source": [
    "import matplotlib.pyplot as plt\n",
    "import dask.dataframe as dd\n",
    "import pandas as pd\n",
    "import hvplot.pandas\n",
    "import hvplot.dask\n",
    "from dask.distributed import Client\n",
    "\n",
    "hvplot.extension(\"matplotlib\")\n",
    "client = Client(n_workers=4, threads_per_worker=3, memory_limit='2GB')\n",
    "client"
   ]
  },
  {
   "cell_type": "markdown",
   "metadata": {},
   "source": [
    "Next, we will be using Dask to read the csv, just like pandas but we're *also* defining `dtype`s. This takes the work off of dask having to guess them and makes this step much faster. We've made the `FILE` a constant to switch between working on compressed and uncompressed data."
   ]
  },
  {
   "cell_type": "code",
   "execution_count": 2,
   "metadata": {},
   "outputs": [],
   "source": [
    "FILE = \"data.csv\"\n",
    "#FILE = \"data.csv.zst\"\n",
    "\n",
    "df = dd.read_csv(FILE, dtype={\n",
    "    \"anonymized_latitude\": float,\n",
    "    \"anonymized_longitude\": float,\n",
    "    \"species_name\": str,\n",
    "    \"common_name\": str,\n",
    "    \"scientific_name\": str\n",
    "}, parse_dates=['timestamp'])\n",
    "\n",
    "#df.memory_usage(deep=True).compute()"
   ]
  },
  {
   "cell_type": "markdown",
   "metadata": {},
   "source": [
    "At some point, Bird Buddy started providing scientific_names alongside the common names of the birds. Common Names are formatted in `lower case` rather than `Sentenace case` like the existing `species_name` field. For consistency and grouping, we'll do that ourselves.\n",
    "\n",
    "We do not care about the scientific_name, we are not analyzing this data and relieves us of 6GB of memory usage."
   ]
  },
  {
   "cell_type": "code",
   "execution_count": 3,
   "metadata": {},
   "outputs": [],
   "source": [
    "df['species_name'] = df['common_name'].str.title()\n",
    "df = df.drop(columns=['scientific_name', 'common_name'], errors='ignore')"
   ]
  },
  {
   "cell_type": "markdown",
   "metadata": {},
   "source": [
    "Finally, let's look at our new memory usage."
   ]
  },
  {
   "cell_type": "code",
   "execution_count": 4,
   "metadata": {},
   "outputs": [],
   "source": [
    "#df.memory_usage(deep=True).compute()"
   ]
  },
  {
   "cell_type": "markdown",
   "metadata": {},
   "source": [
    "Much better.\n",
    "\n",
    "Let's take some slices of two important seasons, as well as some data we'll use later."
   ]
  },
  {
   "cell_type": "code",
   "execution_count": 5,
   "metadata": {},
   "outputs": [],
   "source": [
    "january_df = df[(df['timestamp'] >= '2023-01-01') & (df['timestamp'] < '2023-02-01')]\n",
    "june_df = df[(df['timestamp'] >= '2023-06-01') & (df['timestamp'] < '2023-07-01')]\n",
    "\n",
    "#weekends = df['timestamp'].dt.weekday // 5\n",
    "#time_of_day = df['timestamp'].dt.hour.map({\n",
    "#        hour: \n",
    "#            'Night' if 0 <= hour < 6 else\n",
    "#            'Morning' if 6 <= hour < 12 else\n",
    "#            'Afternoon' if 12 <= hour < 18 else\n",
    "#            'Evening' for hour in range(24)\n",
    "#        },\n",
    "#        meta=('timestamp', 'category')).compute()"
   ]
  },
  {
   "cell_type": "markdown",
   "metadata": {},
   "source": [
    "---"
   ]
  },
  {
   "cell_type": "markdown",
   "metadata": {},
   "source": [
    "## Analysis"
   ]
  },
  {
   "cell_type": "markdown",
   "metadata": {},
   "source": [
    "#### Question 1: Which species of birds are the most commonly observed worldwide in bird feeders?"
   ]
  },
  {
   "cell_type": "code",
   "execution_count": 6,
   "metadata": {},
   "outputs": [],
   "source": [
    "# If you haven't noticed, `.compute()` turns us from a Dask DataFrame to a Pandas DataFrame.\n",
    "# This takes a while.\n",
    "\n",
    "species_counts = df['species_name'].value_counts().compute()"
   ]
  },
  {
   "cell_type": "code",
   "execution_count": 7,
   "metadata": {},
   "outputs": [
    {
     "data": {
      "text/plain": [
       "species_name\n",
       "House Finch                                            12197861\n",
       "House Sparrow                                           9526052\n",
       "Northern Cardinal                                       8848979\n",
       "Brown Headed Cowbird                                    1905493\n",
       "Mourning Dove                                           1813116\n",
       "                                                         ...   \n",
       "House Sparrow,Feral Pigeon,Pipipi                             1\n",
       "House Sparrow,Feral Pigeon,New Zealand Kaka                   1\n",
       "House Sparrow,Feral Pigeon,Mourning Dove                      1\n",
       "House Sparrow,Feral Pigeon,Glossy Black Cockatoo              1\n",
       "California Quail,Brown Headed Cowbird,House Sparrow           1\n",
       "Name: count, Length: 9310, dtype: int64"
      ]
     },
     "execution_count": 7,
     "metadata": {},
     "output_type": "execute_result"
    }
   ],
   "source": [
    "species_counts"
   ]
  },
  {
   "cell_type": "code",
   "execution_count": 8,
   "metadata": {},
   "outputs": [
    {
     "name": "stderr",
     "output_type": "stream",
     "text": [
      "/home/dj/school/acs2500/.venv/lib/python3.11/site-packages/holoviews/core/util.py:1175: FutureWarning: unique with argument that is not not a Series, Index, ExtensionArray, or np.ndarray is deprecated and will raise in a future version.\n",
      "  return pd.unique(values)\n",
      "/home/dj/school/acs2500/.venv/lib/python3.11/site-packages/holoviews/core/util.py:1175: FutureWarning: unique with argument that is not not a Series, Index, ExtensionArray, or np.ndarray is deprecated and will raise in a future version.\n",
      "  return pd.unique(values)\n"
     ]
    },
    {
     "data": {
      "text/html": [
       "<img src='data:image/png;base64,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' style='max-width:100%; margin: auto; display: block; '/>"
      ],
      "text/plain": [
       ":Bars   [species_name]   (count)"
      ]
     },
     "execution_count": 8,
     "metadata": {
      "application/vnd.holoviews_exec.v0+json": {}
     },
     "output_type": "execute_result"
    }
   ],
   "source": [
    "X_AMOUNT = 5\n",
    "\n",
    "top_species = species_counts.head(X_AMOUNT)\n",
    "\n",
    "plot = top_species.hvplot.bar(\n",
    "    color='green',\n",
    "    title='Top Most Commonly Observed Bird Species',\n",
    "    xlabel='Bird Species',\n",
    "    ylabel='Observation Count',\n",
    "    yformatter='%.0f', # no scientific notation !!!!\n",
    "    rot=45, \n",
    "    xticks=8, \n",
    ")\n",
    "\n",
    "plot"
   ]
  },
  {
   "cell_type": "markdown",
   "metadata": {},
   "source": [
    "We can see the House Finch and House Sparrow are the two most common birds by milestones. \n",
    "\n",
    "This shouldn't shock many, the Montana State Government even confirms House Finches have \"a fondness for feeding stations\". [[3]](https://fieldguide.mt.gov/speciesDetail.aspx?elcode=ABPBY04040)\n",
    "\n",
    "The Cornell Lab of Ornithology states:\n",
    "* \"If you haven't seen one recently, chances are you can find [the House Finch] at the next bird feeder you come across.\" [[4]](https://www.allaboutbirds.org/guide/House_Finch/overview) \n",
    "\n",
    "* \"[House Sparrows] are frequent visitors to backyard feeders\". [[5]](https://www.allaboutbirds.org/guide/House_Sparrow)\n",
    "\n",
    "Let's confirm our data isn't bad or otherwise skewed and take a look at bird distribution with:"
   ]
  },
  {
   "cell_type": "markdown",
   "metadata": {},
   "source": [
    "#### Question 2: What is the distribution of bird species?\n",
    "\n",
    "*This question uses hvplot with a MatPlotLib backend, it has been broken into two cells. One for calculation, another for graphing.*"
   ]
  },
  {
   "cell_type": "code",
   "execution_count": 9,
   "metadata": {
    "tags": []
   },
   "outputs": [],
   "source": [
    "df['month'] = df['timestamp'].dt.month\n",
    "\n",
    "# Group the data by 'month' and count occurrences\n",
    "monthly_counts = df['month'].value_counts().compute().sort_index()"
   ]
  },
  {
   "cell_type": "code",
   "execution_count": 10,
   "metadata": {
    "tags": []
   },
   "outputs": [
    {
     "data": {
      "text/html": [
       "<img src='data:image/png;base64,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' style='max-width:100%; margin: auto; display: block; '/>"
      ],
      "text/plain": [
       ":Curve   [month]   (count)"
      ]
     },
     "execution_count": 10,
     "metadata": {
      "application/vnd.holoviews_exec.v0+json": {}
     },
     "output_type": "execute_result"
    }
   ],
   "source": [
    "plot = monthly_counts.hvplot.line(\n",
    "    title='Bird Feedings per Month',\n",
    "    xlabel='Month', \n",
    "    ylabel='Observation Count',\n",
    "    yformatter='%.0f' # no scientific notation !!!!\n",
    ")\n",
    "\n",
    "plot"
   ]
  },
  {
   "cell_type": "markdown",
   "metadata": {},
   "source": [
    "We can see there seems to be a strange discrepancy in month 7, but that's okay."
   ]
  },
  {
   "cell_type": "markdown",
   "metadata": {},
   "source": [
    "#### Question 3: Where are the most popular regions to see bird (feeders)?\n",
    "\n",
    "*From now on, we'll be using hvplot. It works directly with Dask, but will output Matplotlib graphs.*"
   ]
  },
  {
   "cell_type": "code",
   "execution_count": 11,
   "metadata": {},
   "outputs": [],
   "source": [
    "sample = df.sample(frac=0.01).compute() # 1% of our data is a lot still, dw."
   ]
  },
  {
   "cell_type": "code",
   "execution_count": 12,
   "metadata": {},
   "outputs": [
    {
     "data": {
      "application/vnd.jupyter.widget-view+json": {
       "model_id": "5c65b23a07d14eec8eed771ccebfa4ab",
       "version_major": 2,
       "version_minor": 0
      },
      "text/plain": [
       "BokehModel(combine_events=True, render_bundle={'docs_json': {'4ceb8560-760b-4255-8253-82093424d4b0': {'version…"
      ]
     },
     "execution_count": 12,
     "metadata": {},
     "output_type": "execute_result"
    }
   ],
   "source": [
    "hvplot.output(backend='bokeh')\n",
    "\n",
    "# matplotlib doesnt have support for \"tiles\"\n",
    "\n",
    "plot = sample.hvplot.points(\n",
    "    'anonymized_longitude',\n",
    "    'anonymized_latitude',\n",
    "    features=['borders', 'states'],\n",
    "    geo=True,\n",
    "    tiles=True,\n",
    "    coastline=True,\n",
    "    datashade=True,\n",
    "    dynspread=True,\n",
    "    #width=1920,\n",
    "    #height=1080,\n",
    ")\n",
    "\n",
    "plot"
   ]
  },
  {
   "cell_type": "markdown",
   "metadata": {},
   "source": [
    "#### Question 4/5: Is there a correlation between the time of day and the number of bird sightings at feeders worldwide?\n",
    "\n",
    "Double question! This required a lot of complex graphing and I'm considering it two questions.\n",
    "\n",
    "First, let's even see what the number of feedings at a given time is."
   ]
  },
  {
   "cell_type": "code",
   "execution_count": 14,
   "metadata": {},
   "outputs": [],
   "source": [
    "from scipy.stats import pearsonr\n",
    "\n",
    "df['hour'] = df['timestamp'].dt.hour\n",
    "\n",
    "# Group data by hour and count observations\n",
    "hourly_counts = df.groupby('hour').size().compute()\n",
    "\n",
    "# Extract the 'hour' column from the Dask DataFrame\n",
    "hour_column = df['hour']"
   ]
  },
  {
   "cell_type": "code",
   "execution_count": 15,
   "metadata": {},
   "outputs": [
    {
     "data": {
      "text/html": [
       "<img src='data:image/png;base64,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' style='max-width:100%; margin: auto; display: block; '/>"
      ],
      "text/plain": [
       ":Curve   [hour]   (0)"
      ]
     },
     "execution_count": 15,
     "metadata": {
      "application/vnd.holoviews_exec.v0+json": {}
     },
     "output_type": "execute_result"
    }
   ],
   "source": [
    "hvplot.output(backend='matplotlib')\n",
    "\n",
    "plot = hourly_counts.hvplot.line(\n",
    "    title='',\n",
    "    xlabel='Hour of Day (UTC)', \n",
    "    ylabel='Observation Count',\n",
    "    grid=True,\n",
    "    yformatter='%.0f' # no scientific notation !!!!\n",
    ")\n",
    "\n",
    "plot"
   ]
  },
  {
   "cell_type": "markdown",
   "metadata": {},
   "source": [
    "Let's regenerate this graph with CST."
   ]
  },
  {
   "cell_type": "code",
   "execution_count": 33,
   "metadata": {},
   "outputs": [
    {
     "data": {
      "text/html": [
       "<img src='data:image/png;base64,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' style='max-width:100%; margin: auto; display: block; '/>"
      ],
      "text/plain": [
       ":Curve   [hour]   (0)"
      ]
     },
     "execution_count": 33,
     "metadata": {
      "application/vnd.holoviews_exec.v0+json": {}
     },
     "output_type": "execute_result"
    }
   ],
   "source": [
    "import pytz\n",
    "\n",
    "def cstify(timestamp_utc):\n",
    "    cst = pytz.timezone('US/Central')\n",
    "    tz = pd.Timestamp(timestamp_utc)\n",
    "    return tz.tz_localize('UTC').tz_convert(cst).strftime(\"%H\")\n",
    "\n",
    "plot = hourly_counts.hvplot.line(\n",
    "    title='Graph with Time in CST',\n",
    "    xlabel='Time (CST)', \n",
    "    ylabel='Value',\n",
    "    grid=True,\n",
    "    xformatter=cstify,\n",
    "    yformatter='%.0f', # no scientific notation !!!!\n",
    ")\n",
    "\n",
    "plot"
   ]
  },
  {
   "cell_type": "markdown",
   "metadata": {},
   "source": [
    "We don't see a linear correlation in the traditional definition. I've never taken a stats class a day in my life, so I may not be an expert we do see changes following America-centric timezones. Bird Buddy as a primarily American Customerbase gets most of it's traffic during American daytime hours."
   ]
  },
  {
   "cell_type": "markdown",
   "metadata": {},
   "source": [
    "#### Question 6: How does the distribution of bird species vary with respect to latitude? "
   ]
  },
  {
   "cell_type": "code",
   "execution_count": null,
   "metadata": {},
   "outputs": [],
   "source": [
    "# Step 2: Calculate species counts by latitude\n",
    "species_counts = sample.groupby('anonymized_latitude')['species_name'].nunique().reset_index()"
   ]
  },
  {
   "cell_type": "code",
   "execution_count": 38,
   "metadata": {},
   "outputs": [
    {
     "name": "stderr",
     "output_type": "stream",
     "text": [
      "2023-10-04 05:07:53,851 - distributed.utils_perf - WARNING - full garbage collections took 10% CPU time recently (threshold: 10%)\n",
      "2023-10-04 05:07:57,108 - distributed.utils_perf - WARNING - full garbage collections took 10% CPU time recently (threshold: 10%)\n",
      "Task exception was never retrieved\n",
      "future: <Task finished name='Task-717825' coro=<Client._gather.<locals>.wait() done, defined at /home/dj/school/acs2500/.venv/lib/python3.11/site-packages/distributed/client.py:2208> exception=AllExit()>\n",
      "Traceback (most recent call last):\n",
      "  File \"/home/dj/school/acs2500/.venv/lib/python3.11/site-packages/distributed/client.py\", line 2217, in wait\n",
      "    raise AllExit()\n",
      "distributed.client.AllExit\n",
      "Task exception was never retrieved\n",
      "future: <Task finished name='Task-717826' coro=<Client._gather.<locals>.wait() done, defined at /home/dj/school/acs2500/.venv/lib/python3.11/site-packages/distributed/client.py:2208> exception=AllExit()>\n",
      "Traceback (most recent call last):\n",
      "  File \"/home/dj/school/acs2500/.venv/lib/python3.11/site-packages/distributed/client.py\", line 2217, in wait\n",
      "    raise AllExit()\n",
      "distributed.client.AllExit\n"
     ]
    },
    {
     "ename": "KeyboardInterrupt",
     "evalue": "",
     "output_type": "error",
     "traceback": [
      "\u001b[0;31m---------------------------------------------------------------------------\u001b[0m",
      "\u001b[0;31mKeyboardInterrupt\u001b[0m                         Traceback (most recent call last)",
      "\u001b[1;32m/home/dj/school/acs2500/final/final.ipynb Cell 36\u001b[0m line \u001b[0;36m8\n\u001b[1;32m      <a href='vscode-notebook-cell:/home/dj/school/acs2500/final/final.ipynb#X66sZmlsZQ%3D%3D?line=0'>1</a>\u001b[0m \u001b[39m# Step 3: Create an interactive scatter plot using hvplot\u001b[39;00m\n\u001b[1;32m      <a href='vscode-notebook-cell:/home/dj/school/acs2500/final/final.ipynb#X66sZmlsZQ%3D%3D?line=1'>2</a>\u001b[0m scatter_plot \u001b[39m=\u001b[39m species_counts\u001b[39m.\u001b[39mhvplot\u001b[39m.\u001b[39mscatter(\n\u001b[1;32m      <a href='vscode-notebook-cell:/home/dj/school/acs2500/final/final.ipynb#X66sZmlsZQ%3D%3D?line=2'>3</a>\u001b[0m     x\u001b[39m=\u001b[39m\u001b[39m'\u001b[39m\u001b[39manonymized_latitude\u001b[39m\u001b[39m'\u001b[39m, y\u001b[39m=\u001b[39m\u001b[39m'\u001b[39m\u001b[39mspecies_name\u001b[39m\u001b[39m'\u001b[39m, title\u001b[39m=\u001b[39m\u001b[39m'\u001b[39m\u001b[39mBird Species Distribution with Respect to Latitude\u001b[39m\u001b[39m'\u001b[39m,\n\u001b[1;32m      <a href='vscode-notebook-cell:/home/dj/school/acs2500/final/final.ipynb#X66sZmlsZQ%3D%3D?line=3'>4</a>\u001b[0m     xlabel\u001b[39m=\u001b[39m\u001b[39m'\u001b[39m\u001b[39mLatitude\u001b[39m\u001b[39m'\u001b[39m, ylabel\u001b[39m=\u001b[39m\u001b[39m'\u001b[39m\u001b[39mNumber of Unique Bird Species\u001b[39m\u001b[39m'\u001b[39m,\n\u001b[1;32m      <a href='vscode-notebook-cell:/home/dj/school/acs2500/final/final.ipynb#X66sZmlsZQ%3D%3D?line=4'>5</a>\u001b[0m     grid\u001b[39m=\u001b[39m\u001b[39mTrue\u001b[39;00m, height\u001b[39m=\u001b[39m\u001b[39m400\u001b[39m, width\u001b[39m=\u001b[39m\u001b[39m600\u001b[39m, legend\u001b[39m=\u001b[39m\u001b[39mFalse\u001b[39;00m\n\u001b[1;32m      <a href='vscode-notebook-cell:/home/dj/school/acs2500/final/final.ipynb#X66sZmlsZQ%3D%3D?line=5'>6</a>\u001b[0m )\n\u001b[0;32m----> <a href='vscode-notebook-cell:/home/dj/school/acs2500/final/final.ipynb#X66sZmlsZQ%3D%3D?line=7'>8</a>\u001b[0m scatter_plot\n",
      "File \u001b[0;32m~/school/acs2500/.venv/lib/python3.11/site-packages/IPython/core/displayhook.py:268\u001b[0m, in \u001b[0;36mDisplayHook.__call__\u001b[0;34m(self, result)\u001b[0m\n\u001b[1;32m    266\u001b[0m \u001b[39mself\u001b[39m\u001b[39m.\u001b[39mstart_displayhook()\n\u001b[1;32m    267\u001b[0m \u001b[39mself\u001b[39m\u001b[39m.\u001b[39mwrite_output_prompt()\n\u001b[0;32m--> 268\u001b[0m format_dict, md_dict \u001b[39m=\u001b[39m \u001b[39mself\u001b[39;49m\u001b[39m.\u001b[39;49mcompute_format_data(result)\n\u001b[1;32m    269\u001b[0m \u001b[39mself\u001b[39m\u001b[39m.\u001b[39mupdate_user_ns(result)\n\u001b[1;32m    270\u001b[0m \u001b[39mself\u001b[39m\u001b[39m.\u001b[39mfill_exec_result(result)\n",
      "File \u001b[0;32m~/school/acs2500/.venv/lib/python3.11/site-packages/IPython/core/displayhook.py:157\u001b[0m, in \u001b[0;36mDisplayHook.compute_format_data\u001b[0;34m(self, result)\u001b[0m\n\u001b[1;32m    127\u001b[0m \u001b[39mdef\u001b[39;00m \u001b[39mcompute_format_data\u001b[39m(\u001b[39mself\u001b[39m, result):\n\u001b[1;32m    128\u001b[0m \u001b[39m    \u001b[39m\u001b[39m\"\"\"Compute format data of the object to be displayed.\u001b[39;00m\n\u001b[1;32m    129\u001b[0m \n\u001b[1;32m    130\u001b[0m \u001b[39m    The format data is a generalization of the :func:`repr` of an object.\u001b[39;00m\n\u001b[0;32m   (...)\u001b[0m\n\u001b[1;32m    155\u001b[0m \n\u001b[1;32m    156\u001b[0m \u001b[39m    \"\"\"\u001b[39;00m\n\u001b[0;32m--> 157\u001b[0m     \u001b[39mreturn\u001b[39;00m \u001b[39mself\u001b[39;49m\u001b[39m.\u001b[39;49mshell\u001b[39m.\u001b[39;49mdisplay_formatter\u001b[39m.\u001b[39;49mformat(result)\n",
      "File \u001b[0;32m~/school/acs2500/.venv/lib/python3.11/site-packages/IPython/core/formatters.py:149\u001b[0m, in \u001b[0;36mDisplayFormatter.format\u001b[0;34m(self, obj, include, exclude)\u001b[0m\n\u001b[1;32m    145\u001b[0m \u001b[39mif\u001b[39;00m \u001b[39mself\u001b[39m\u001b[39m.\u001b[39mipython_display_formatter(obj):\n\u001b[1;32m    146\u001b[0m     \u001b[39m# object handled itself, don't proceed\u001b[39;00m\n\u001b[1;32m    147\u001b[0m     \u001b[39mreturn\u001b[39;00m {}, {}\n\u001b[0;32m--> 149\u001b[0m format_dict, md_dict \u001b[39m=\u001b[39m \u001b[39mself\u001b[39;49m\u001b[39m.\u001b[39;49mmimebundle_formatter(obj, include\u001b[39m=\u001b[39;49minclude, exclude\u001b[39m=\u001b[39;49mexclude)\n\u001b[1;32m    151\u001b[0m \u001b[39mif\u001b[39;00m format_dict \u001b[39mor\u001b[39;00m md_dict:\n\u001b[1;32m    152\u001b[0m     \u001b[39mif\u001b[39;00m include:\n",
      "File \u001b[0;32m~/school/acs2500/.venv/lib/python3.11/site-packages/decorator.py:232\u001b[0m, in \u001b[0;36mdecorate.<locals>.fun\u001b[0;34m(*args, **kw)\u001b[0m\n\u001b[1;32m    230\u001b[0m \u001b[39mif\u001b[39;00m \u001b[39mnot\u001b[39;00m kwsyntax:\n\u001b[1;32m    231\u001b[0m     args, kw \u001b[39m=\u001b[39m fix(args, kw, sig)\n\u001b[0;32m--> 232\u001b[0m \u001b[39mreturn\u001b[39;00m caller(func, \u001b[39m*\u001b[39;49m(extras \u001b[39m+\u001b[39;49m args), \u001b[39m*\u001b[39;49m\u001b[39m*\u001b[39;49mkw)\n",
      "File \u001b[0;32m~/school/acs2500/.venv/lib/python3.11/site-packages/IPython/core/formatters.py:223\u001b[0m, in \u001b[0;36mcatch_format_error\u001b[0;34m(method, self, *args, **kwargs)\u001b[0m\n\u001b[1;32m    221\u001b[0m \u001b[39m\u001b[39m\u001b[39m\"\"\"show traceback on failed format call\"\"\"\u001b[39;00m\n\u001b[1;32m    222\u001b[0m \u001b[39mtry\u001b[39;00m:\n\u001b[0;32m--> 223\u001b[0m     r \u001b[39m=\u001b[39m method(\u001b[39mself\u001b[39;49m, \u001b[39m*\u001b[39;49margs, \u001b[39m*\u001b[39;49m\u001b[39m*\u001b[39;49mkwargs)\n\u001b[1;32m    224\u001b[0m \u001b[39mexcept\u001b[39;00m \u001b[39mNotImplementedError\u001b[39;00m:\n\u001b[1;32m    225\u001b[0m     \u001b[39m# don't warn on NotImplementedErrors\u001b[39;00m\n\u001b[1;32m    226\u001b[0m     \u001b[39mreturn\u001b[39;00m \u001b[39mself\u001b[39m\u001b[39m.\u001b[39m_check_return(\u001b[39mNone\u001b[39;00m, args[\u001b[39m0\u001b[39m])\n",
      "File \u001b[0;32m~/school/acs2500/.venv/lib/python3.11/site-packages/IPython/core/formatters.py:974\u001b[0m, in \u001b[0;36mMimeBundleFormatter.__call__\u001b[0;34m(self, obj, include, exclude)\u001b[0m\n\u001b[1;32m    971\u001b[0m     method \u001b[39m=\u001b[39m get_real_method(obj, \u001b[39mself\u001b[39m\u001b[39m.\u001b[39mprint_method)\n\u001b[1;32m    973\u001b[0m     \u001b[39mif\u001b[39;00m method \u001b[39mis\u001b[39;00m \u001b[39mnot\u001b[39;00m \u001b[39mNone\u001b[39;00m:\n\u001b[0;32m--> 974\u001b[0m         \u001b[39mreturn\u001b[39;00m method(include\u001b[39m=\u001b[39;49minclude, exclude\u001b[39m=\u001b[39;49mexclude)\n\u001b[1;32m    975\u001b[0m     \u001b[39mreturn\u001b[39;00m \u001b[39mNone\u001b[39;00m\n\u001b[1;32m    976\u001b[0m \u001b[39melse\u001b[39;00m:\n",
      "File \u001b[0;32m~/school/acs2500/.venv/lib/python3.11/site-packages/holoviews/core/dimension.py:1287\u001b[0m, in \u001b[0;36mDimensioned._repr_mimebundle_\u001b[0;34m(self, include, exclude)\u001b[0m\n\u001b[1;32m   1280\u001b[0m \u001b[39mdef\u001b[39;00m \u001b[39m_repr_mimebundle_\u001b[39m(\u001b[39mself\u001b[39m, include\u001b[39m=\u001b[39m\u001b[39mNone\u001b[39;00m, exclude\u001b[39m=\u001b[39m\u001b[39mNone\u001b[39;00m):\n\u001b[1;32m   1281\u001b[0m \u001b[39m    \u001b[39m\u001b[39m\"\"\"\u001b[39;00m\n\u001b[1;32m   1282\u001b[0m \u001b[39m    Resolves the class hierarchy for the class rendering the\u001b[39;00m\n\u001b[1;32m   1283\u001b[0m \u001b[39m    object using any display hooks registered on Store.display\u001b[39;00m\n\u001b[1;32m   1284\u001b[0m \u001b[39m    hooks.  The output of all registered display_hooks is then\u001b[39;00m\n\u001b[1;32m   1285\u001b[0m \u001b[39m    combined and returned.\u001b[39;00m\n\u001b[1;32m   1286\u001b[0m \u001b[39m    \"\"\"\u001b[39;00m\n\u001b[0;32m-> 1287\u001b[0m     \u001b[39mreturn\u001b[39;00m Store\u001b[39m.\u001b[39;49mrender(\u001b[39mself\u001b[39;49m)\n",
      "File \u001b[0;32m~/school/acs2500/.venv/lib/python3.11/site-packages/holoviews/core/options.py:1423\u001b[0m, in \u001b[0;36mStore.render\u001b[0;34m(cls, obj)\u001b[0m\n\u001b[1;32m   1421\u001b[0m data, metadata \u001b[39m=\u001b[39m {}, {}\n\u001b[1;32m   1422\u001b[0m \u001b[39mfor\u001b[39;00m hook \u001b[39min\u001b[39;00m hooks:\n\u001b[0;32m-> 1423\u001b[0m     ret \u001b[39m=\u001b[39m hook(obj)\n\u001b[1;32m   1424\u001b[0m     \u001b[39mif\u001b[39;00m ret \u001b[39mis\u001b[39;00m \u001b[39mNone\u001b[39;00m:\n\u001b[1;32m   1425\u001b[0m         \u001b[39mcontinue\u001b[39;00m\n",
      "File \u001b[0;32m~/school/acs2500/.venv/lib/python3.11/site-packages/holoviews/ipython/display_hooks.py:280\u001b[0m, in \u001b[0;36mpprint_display\u001b[0;34m(obj)\u001b[0m\n\u001b[1;32m    278\u001b[0m \u001b[39mif\u001b[39;00m \u001b[39mnot\u001b[39;00m ip\u001b[39m.\u001b[39mdisplay_formatter\u001b[39m.\u001b[39mformatters[\u001b[39m'\u001b[39m\u001b[39mtext/plain\u001b[39m\u001b[39m'\u001b[39m]\u001b[39m.\u001b[39mpprint:\n\u001b[1;32m    279\u001b[0m     \u001b[39mreturn\u001b[39;00m \u001b[39mNone\u001b[39;00m\n\u001b[0;32m--> 280\u001b[0m \u001b[39mreturn\u001b[39;00m display(obj, raw_output\u001b[39m=\u001b[39;49m\u001b[39mTrue\u001b[39;49;00m)\n",
      "File \u001b[0;32m~/school/acs2500/.venv/lib/python3.11/site-packages/holoviews/ipython/display_hooks.py:248\u001b[0m, in \u001b[0;36mdisplay\u001b[0;34m(obj, raw_output, **kwargs)\u001b[0m\n\u001b[1;32m    246\u001b[0m \u001b[39melif\u001b[39;00m \u001b[39misinstance\u001b[39m(obj, (CompositeOverlay, ViewableElement)):\n\u001b[1;32m    247\u001b[0m     \u001b[39mwith\u001b[39;00m option_state(obj):\n\u001b[0;32m--> 248\u001b[0m         output \u001b[39m=\u001b[39m element_display(obj)\n\u001b[1;32m    249\u001b[0m \u001b[39melif\u001b[39;00m \u001b[39misinstance\u001b[39m(obj, (Layout, NdLayout, AdjointLayout)):\n\u001b[1;32m    250\u001b[0m     \u001b[39mwith\u001b[39;00m option_state(obj):\n",
      "File \u001b[0;32m~/school/acs2500/.venv/lib/python3.11/site-packages/holoviews/ipython/display_hooks.py:142\u001b[0m, in \u001b[0;36mdisplay_hook.<locals>.wrapped\u001b[0;34m(element)\u001b[0m\n\u001b[1;32m    140\u001b[0m \u001b[39mtry\u001b[39;00m:\n\u001b[1;32m    141\u001b[0m     max_frames \u001b[39m=\u001b[39m OutputSettings\u001b[39m.\u001b[39moptions[\u001b[39m'\u001b[39m\u001b[39mmax_frames\u001b[39m\u001b[39m'\u001b[39m]\n\u001b[0;32m--> 142\u001b[0m     mimebundle \u001b[39m=\u001b[39m fn(element, max_frames\u001b[39m=\u001b[39;49mmax_frames)\n\u001b[1;32m    143\u001b[0m     \u001b[39mif\u001b[39;00m mimebundle \u001b[39mis\u001b[39;00m \u001b[39mNone\u001b[39;00m:\n\u001b[1;32m    144\u001b[0m         \u001b[39mreturn\u001b[39;00m {}, {}\n",
      "File \u001b[0;32m~/school/acs2500/.venv/lib/python3.11/site-packages/holoviews/ipython/display_hooks.py:188\u001b[0m, in \u001b[0;36melement_display\u001b[0;34m(element, max_frames)\u001b[0m\n\u001b[1;32m    185\u001b[0m \u001b[39mif\u001b[39;00m \u001b[39mtype\u001b[39m(element) \u001b[39mnot\u001b[39;00m \u001b[39min\u001b[39;00m Store\u001b[39m.\u001b[39mregistry[backend]:\n\u001b[1;32m    186\u001b[0m     \u001b[39mreturn\u001b[39;00m \u001b[39mNone\u001b[39;00m\n\u001b[0;32m--> 188\u001b[0m \u001b[39mreturn\u001b[39;00m render(element)\n",
      "File \u001b[0;32m~/school/acs2500/.venv/lib/python3.11/site-packages/holoviews/ipython/display_hooks.py:69\u001b[0m, in \u001b[0;36mrender\u001b[0;34m(obj, **kwargs)\u001b[0m\n\u001b[1;32m     66\u001b[0m \u001b[39mif\u001b[39;00m renderer\u001b[39m.\u001b[39mfig \u001b[39m==\u001b[39m \u001b[39m'\u001b[39m\u001b[39mpdf\u001b[39m\u001b[39m'\u001b[39m:\n\u001b[1;32m     67\u001b[0m     renderer \u001b[39m=\u001b[39m renderer\u001b[39m.\u001b[39minstance(fig\u001b[39m=\u001b[39m\u001b[39m'\u001b[39m\u001b[39mpng\u001b[39m\u001b[39m'\u001b[39m)\n\u001b[0;32m---> 69\u001b[0m \u001b[39mreturn\u001b[39;00m renderer\u001b[39m.\u001b[39;49mcomponents(obj, \u001b[39m*\u001b[39;49m\u001b[39m*\u001b[39;49mkwargs)\n",
      "File \u001b[0;32m~/school/acs2500/.venv/lib/python3.11/site-packages/holoviews/plotting/renderer.py:379\u001b[0m, in \u001b[0;36mRenderer.components\u001b[0;34m(self, obj, fmt, comm, **kwargs)\u001b[0m\n\u001b[1;32m    377\u001b[0m     plot \u001b[39m=\u001b[39m obj\n\u001b[1;32m    378\u001b[0m \u001b[39melse\u001b[39;00m:\n\u001b[0;32m--> 379\u001b[0m     plot, fmt \u001b[39m=\u001b[39m \u001b[39mself\u001b[39;49m\u001b[39m.\u001b[39;49m_validate(obj, fmt)\n\u001b[1;32m    381\u001b[0m \u001b[39mif\u001b[39;00m \u001b[39mnot\u001b[39;00m \u001b[39misinstance\u001b[39m(plot, Viewable):\n\u001b[1;32m    382\u001b[0m     html \u001b[39m=\u001b[39m \u001b[39mself\u001b[39m\u001b[39m.\u001b[39m_figure_data(plot, fmt, as_script\u001b[39m=\u001b[39m\u001b[39mTrue\u001b[39;00m, \u001b[39m*\u001b[39m\u001b[39m*\u001b[39mkwargs)\n",
      "File \u001b[0;32m~/school/acs2500/.venv/lib/python3.11/site-packages/holoviews/plotting/renderer.py:310\u001b[0m, in \u001b[0;36mRenderer._validate\u001b[0;34m(self, obj, fmt, **kwargs)\u001b[0m\n\u001b[1;32m    307\u001b[0m     plot \u001b[39m=\u001b[39m HoloViewsPane(obj, center\u001b[39m=\u001b[39m\u001b[39mself\u001b[39m\u001b[39m.\u001b[39mcenter, backend\u001b[39m=\u001b[39m\u001b[39mself\u001b[39m\u001b[39m.\u001b[39mbackend,\n\u001b[1;32m    308\u001b[0m                          renderer\u001b[39m=\u001b[39m\u001b[39mself\u001b[39m)\n\u001b[1;32m    309\u001b[0m \u001b[39melse\u001b[39;00m:\n\u001b[0;32m--> 310\u001b[0m     plot \u001b[39m=\u001b[39m \u001b[39mself\u001b[39;49m\u001b[39m.\u001b[39;49mget_plot(obj, renderer\u001b[39m=\u001b[39;49m\u001b[39mself\u001b[39;49m, \u001b[39m*\u001b[39;49m\u001b[39m*\u001b[39;49mkwargs)\n\u001b[1;32m    312\u001b[0m all_formats \u001b[39m=\u001b[39m \u001b[39mset\u001b[39m(fig_formats \u001b[39m+\u001b[39m holomap_formats)\n\u001b[1;32m    313\u001b[0m \u001b[39mif\u001b[39;00m fmt \u001b[39mnot\u001b[39;00m \u001b[39min\u001b[39;00m all_formats:\n",
      "File \u001b[0;32m~/school/acs2500/.venv/lib/python3.11/site-packages/holoviews/plotting/renderer.py:241\u001b[0m, in \u001b[0;36mRenderer.get_plot\u001b[0;34m(self_or_cls, obj, doc, renderer, comm, **kwargs)\u001b[0m\n\u001b[1;32m    238\u001b[0m     defaults \u001b[39m=\u001b[39m [kd\u001b[39m.\u001b[39mdefault \u001b[39mfor\u001b[39;00m kd \u001b[39min\u001b[39;00m plot\u001b[39m.\u001b[39mdimensions]\n\u001b[1;32m    239\u001b[0m     init_key \u001b[39m=\u001b[39m \u001b[39mtuple\u001b[39m(v \u001b[39mif\u001b[39;00m d \u001b[39mis\u001b[39;00m \u001b[39mNone\u001b[39;00m \u001b[39melse\u001b[39;00m d \u001b[39mfor\u001b[39;00m v, d \u001b[39min\u001b[39;00m\n\u001b[1;32m    240\u001b[0m                      \u001b[39mzip\u001b[39m(plot\u001b[39m.\u001b[39mkeys[\u001b[39m0\u001b[39m], defaults))\n\u001b[0;32m--> 241\u001b[0m     plot\u001b[39m.\u001b[39;49mupdate(init_key)\n\u001b[1;32m    242\u001b[0m \u001b[39melse\u001b[39;00m:\n\u001b[1;32m    243\u001b[0m     plot \u001b[39m=\u001b[39m obj\n",
      "File \u001b[0;32m~/school/acs2500/.venv/lib/python3.11/site-packages/holoviews/plotting/mpl/plot.py:256\u001b[0m, in \u001b[0;36mMPLPlot.update\u001b[0;34m(self, key)\u001b[0m\n\u001b[1;32m    254\u001b[0m \u001b[39mdef\u001b[39;00m \u001b[39mupdate\u001b[39m(\u001b[39mself\u001b[39m, key):\n\u001b[1;32m    255\u001b[0m     \u001b[39mif\u001b[39;00m \u001b[39mlen\u001b[39m(\u001b[39mself\u001b[39m) \u001b[39m==\u001b[39m \u001b[39m1\u001b[39m \u001b[39mand\u001b[39;00m key \u001b[39min\u001b[39;00m (\u001b[39m0\u001b[39m, \u001b[39mself\u001b[39m\u001b[39m.\u001b[39mkeys[\u001b[39m0\u001b[39m]) \u001b[39mand\u001b[39;00m \u001b[39mnot\u001b[39;00m \u001b[39mself\u001b[39m\u001b[39m.\u001b[39mdrawn:\n\u001b[0;32m--> 256\u001b[0m         \u001b[39mreturn\u001b[39;00m \u001b[39mself\u001b[39;49m\u001b[39m.\u001b[39;49minitialize_plot()\n\u001b[1;32m    257\u001b[0m     \u001b[39mreturn\u001b[39;00m \u001b[39mself\u001b[39m\u001b[39m.\u001b[39m\u001b[39m__getitem__\u001b[39m(key)\n",
      "File \u001b[0;32m~/school/acs2500/.venv/lib/python3.11/site-packages/holoviews/plotting/mpl/plot.py:45\u001b[0m, in \u001b[0;36mmpl_rc_context.<locals>.wrapper\u001b[0;34m(self, *args, **kwargs)\u001b[0m\n\u001b[1;32m     43\u001b[0m \u001b[39mdef\u001b[39;00m \u001b[39mwrapper\u001b[39m(\u001b[39mself\u001b[39m, \u001b[39m*\u001b[39margs, \u001b[39m*\u001b[39m\u001b[39m*\u001b[39mkwargs):\n\u001b[1;32m     44\u001b[0m     \u001b[39mwith\u001b[39;00m _rc_context(\u001b[39mself\u001b[39m\u001b[39m.\u001b[39mfig_rcparams):\n\u001b[0;32m---> 45\u001b[0m         \u001b[39mreturn\u001b[39;00m f(\u001b[39mself\u001b[39;49m, \u001b[39m*\u001b[39;49margs, \u001b[39m*\u001b[39;49m\u001b[39m*\u001b[39;49mkwargs)\n",
      "File \u001b[0;32m~/school/acs2500/.venv/lib/python3.11/site-packages/holoviews/plotting/mpl/element.py:561\u001b[0m, in \u001b[0;36mElementPlot.initialize_plot\u001b[0;34m(self, ranges)\u001b[0m\n\u001b[1;32m    559\u001b[0m dim_map \u001b[39m=\u001b[39m \u001b[39mdict\u001b[39m(\u001b[39mzip\u001b[39m((d\u001b[39m.\u001b[39mname \u001b[39mfor\u001b[39;00m d \u001b[39min\u001b[39;00m \u001b[39mself\u001b[39m\u001b[39m.\u001b[39mhmap\u001b[39m.\u001b[39mkdims), key))\n\u001b[1;32m    560\u001b[0m key \u001b[39m=\u001b[39m \u001b[39mtuple\u001b[39m(dim_map\u001b[39m.\u001b[39mget(d\u001b[39m.\u001b[39mname, \u001b[39mNone\u001b[39;00m) \u001b[39mfor\u001b[39;00m d \u001b[39min\u001b[39;00m \u001b[39mself\u001b[39m\u001b[39m.\u001b[39mdimensions)\n\u001b[0;32m--> 561\u001b[0m ranges \u001b[39m=\u001b[39m \u001b[39mself\u001b[39;49m\u001b[39m.\u001b[39;49mcompute_ranges(\u001b[39mself\u001b[39;49m\u001b[39m.\u001b[39;49mhmap, key, ranges)\n\u001b[1;32m    562\u001b[0m \u001b[39mself\u001b[39m\u001b[39m.\u001b[39mcurrent_ranges \u001b[39m=\u001b[39m ranges\n\u001b[1;32m    563\u001b[0m \u001b[39mself\u001b[39m\u001b[39m.\u001b[39mcurrent_frame \u001b[39m=\u001b[39m element\n",
      "File \u001b[0;32m~/school/acs2500/.venv/lib/python3.11/site-packages/holoviews/plotting/plot.py:602\u001b[0m, in \u001b[0;36mDimensionedPlot.compute_ranges\u001b[0;34m(self, obj, key, ranges)\u001b[0m\n\u001b[1;32m    598\u001b[0m     \u001b[39m# Only compute ranges if not axiswise on a composite plot\u001b[39;00m\n\u001b[1;32m    599\u001b[0m     \u001b[39m# or not framewise on a Overlay or ElementPlot\u001b[39;00m\n\u001b[1;32m    600\u001b[0m     \u001b[39mif\u001b[39;00m (\u001b[39mnot\u001b[39;00m (axiswise \u001b[39mand\u001b[39;00m \u001b[39mnot\u001b[39;00m \u001b[39misinstance\u001b[39m(obj, HoloMap)) \u001b[39mor\u001b[39;00m\n\u001b[1;32m    601\u001b[0m         (\u001b[39mnot\u001b[39;00m framewise \u001b[39mand\u001b[39;00m \u001b[39misinstance\u001b[39m(obj, HoloMap))):\n\u001b[0;32m--> 602\u001b[0m         \u001b[39mself\u001b[39;49m\u001b[39m.\u001b[39;49m_compute_group_range(group, elements, ranges, framewise,\n\u001b[1;32m    603\u001b[0m                                   axiswise, robust, \u001b[39mself\u001b[39;49m\u001b[39m.\u001b[39;49mtop_level,\n\u001b[1;32m    604\u001b[0m                                   prev_frame)\n\u001b[1;32m    605\u001b[0m \u001b[39mself\u001b[39m\u001b[39m.\u001b[39mranges\u001b[39m.\u001b[39mupdate(ranges)\n\u001b[1;32m    606\u001b[0m \u001b[39mreturn\u001b[39;00m ranges\n",
      "File \u001b[0;32m~/school/acs2500/.venv/lib/python3.11/site-packages/holoviews/plotting/plot.py:712\u001b[0m, in \u001b[0;36mDimensionedPlot._compute_group_range\u001b[0;34m(cls, group, elements, ranges, framewise, axiswise, robust, top_level, prev_frame)\u001b[0m\n\u001b[1;32m    710\u001b[0m     data_range \u001b[39m=\u001b[39m ds\u001b[39m.\u001b[39mrange(el_dim, dimension_range\u001b[39m=\u001b[39m\u001b[39mFalse\u001b[39;00m)\n\u001b[1;32m    711\u001b[0m \u001b[39melse\u001b[39;00m:\n\u001b[0;32m--> 712\u001b[0m     data_range \u001b[39m=\u001b[39m el\u001b[39m.\u001b[39;49mrange(el_dim, dimension_range\u001b[39m=\u001b[39;49m\u001b[39mFalse\u001b[39;49;00m)\n\u001b[1;32m    714\u001b[0m data_ranges[(el, el_dim)] \u001b[39m=\u001b[39m data_range\n\u001b[1;32m    715\u001b[0m \u001b[39mif\u001b[39;00m dtype \u001b[39mis\u001b[39;00m \u001b[39mnot\u001b[39;00m \u001b[39mNone\u001b[39;00m \u001b[39mand\u001b[39;00m dtype\u001b[39m.\u001b[39mkind \u001b[39min\u001b[39;00m \u001b[39m'\u001b[39m\u001b[39muif\u001b[39m\u001b[39m'\u001b[39m \u001b[39mand\u001b[39;00m robust:\n",
      "File \u001b[0;32m~/school/acs2500/.venv/lib/python3.11/site-packages/holoviews/core/data/__init__.py:195\u001b[0m, in \u001b[0;36mPipelineMeta.pipelined.<locals>.pipelined_fn\u001b[0;34m(*args, **kwargs)\u001b[0m\n\u001b[1;32m    192\u001b[0m     inst\u001b[39m.\u001b[39m_in_method \u001b[39m=\u001b[39m \u001b[39mTrue\u001b[39;00m\n\u001b[1;32m    194\u001b[0m \u001b[39mtry\u001b[39;00m:\n\u001b[0;32m--> 195\u001b[0m     result \u001b[39m=\u001b[39m method_fn(\u001b[39m*\u001b[39;49margs, \u001b[39m*\u001b[39;49m\u001b[39m*\u001b[39;49mkwargs)\n\u001b[1;32m    196\u001b[0m     \u001b[39mif\u001b[39;00m PipelineMeta\u001b[39m.\u001b[39mdisable:\n\u001b[1;32m    197\u001b[0m         \u001b[39mreturn\u001b[39;00m result\n",
      "File \u001b[0;32m~/school/acs2500/.venv/lib/python3.11/site-packages/holoviews/core/data/__init__.py:504\u001b[0m, in \u001b[0;36mDataset.range\u001b[0;34m(self, dim, data_range, dimension_range)\u001b[0m\n\u001b[1;32m    502\u001b[0m     \u001b[39mreturn\u001b[39;00m dim\u001b[39m.\u001b[39mrange\n\u001b[1;32m    503\u001b[0m \u001b[39melif\u001b[39;00m dim \u001b[39min\u001b[39;00m \u001b[39mself\u001b[39m\u001b[39m.\u001b[39mdimensions() \u001b[39mand\u001b[39;00m data_range \u001b[39mand\u001b[39;00m \u001b[39mbool\u001b[39m(\u001b[39mself\u001b[39m):\n\u001b[0;32m--> 504\u001b[0m     lower, upper \u001b[39m=\u001b[39m \u001b[39mself\u001b[39;49m\u001b[39m.\u001b[39;49minterface\u001b[39m.\u001b[39;49mrange(\u001b[39mself\u001b[39;49m, dim)\n\u001b[1;32m    505\u001b[0m \u001b[39melse\u001b[39;00m:\n\u001b[1;32m    506\u001b[0m     lower, upper \u001b[39m=\u001b[39m (np\u001b[39m.\u001b[39mNaN, np\u001b[39m.\u001b[39mNaN)\n",
      "File \u001b[0;32m~/school/acs2500/.venv/lib/python3.11/site-packages/holoviews/core/data/dask.py:90\u001b[0m, in \u001b[0;36mDaskInterface.range\u001b[0;34m(cls, dataset, dimension)\u001b[0m\n\u001b[1;32m     88\u001b[0m \u001b[39mif\u001b[39;00m dimension\u001b[39m.\u001b[39mnodata \u001b[39mis\u001b[39;00m \u001b[39mnot\u001b[39;00m \u001b[39mNone\u001b[39;00m:\n\u001b[1;32m     89\u001b[0m     column \u001b[39m=\u001b[39m \u001b[39mcls\u001b[39m\u001b[39m.\u001b[39mreplace_value(column, dimension\u001b[39m.\u001b[39mnodata)\n\u001b[0;32m---> 90\u001b[0m \u001b[39mreturn\u001b[39;00m dd\u001b[39m.\u001b[39;49mcompute(column\u001b[39m.\u001b[39;49mmin(), column\u001b[39m.\u001b[39;49mmax())\n",
      "File \u001b[0;32m~/school/acs2500/.venv/lib/python3.11/site-packages/dask/base.py:628\u001b[0m, in \u001b[0;36mcompute\u001b[0;34m(traverse, optimize_graph, scheduler, get, *args, **kwargs)\u001b[0m\n\u001b[1;32m    625\u001b[0m     postcomputes\u001b[39m.\u001b[39mappend(x\u001b[39m.\u001b[39m__dask_postcompute__())\n\u001b[1;32m    627\u001b[0m \u001b[39mwith\u001b[39;00m shorten_traceback():\n\u001b[0;32m--> 628\u001b[0m     results \u001b[39m=\u001b[39m schedule(dsk, keys, \u001b[39m*\u001b[39;49m\u001b[39m*\u001b[39;49mkwargs)\n\u001b[1;32m    630\u001b[0m \u001b[39mreturn\u001b[39;00m repack([f(r, \u001b[39m*\u001b[39ma) \u001b[39mfor\u001b[39;00m r, (f, a) \u001b[39min\u001b[39;00m \u001b[39mzip\u001b[39m(results, postcomputes)])\n",
      "File \u001b[0;32m/usr/lib/python3.11/threading.py:622\u001b[0m, in \u001b[0;36mEvent.wait\u001b[0;34m(self, timeout)\u001b[0m\n\u001b[1;32m    620\u001b[0m signaled \u001b[39m=\u001b[39m \u001b[39mself\u001b[39m\u001b[39m.\u001b[39m_flag\n\u001b[1;32m    621\u001b[0m \u001b[39mif\u001b[39;00m \u001b[39mnot\u001b[39;00m signaled:\n\u001b[0;32m--> 622\u001b[0m     signaled \u001b[39m=\u001b[39m \u001b[39mself\u001b[39;49m\u001b[39m.\u001b[39;49m_cond\u001b[39m.\u001b[39;49mwait(timeout)\n\u001b[1;32m    623\u001b[0m \u001b[39mreturn\u001b[39;00m signaled\n",
      "File \u001b[0;32m/usr/lib/python3.11/threading.py:324\u001b[0m, in \u001b[0;36mCondition.wait\u001b[0;34m(self, timeout)\u001b[0m\n\u001b[1;32m    322\u001b[0m \u001b[39melse\u001b[39;00m:\n\u001b[1;32m    323\u001b[0m     \u001b[39mif\u001b[39;00m timeout \u001b[39m>\u001b[39m \u001b[39m0\u001b[39m:\n\u001b[0;32m--> 324\u001b[0m         gotit \u001b[39m=\u001b[39m waiter\u001b[39m.\u001b[39;49macquire(\u001b[39mTrue\u001b[39;49;00m, timeout)\n\u001b[1;32m    325\u001b[0m     \u001b[39melse\u001b[39;00m:\n\u001b[1;32m    326\u001b[0m         gotit \u001b[39m=\u001b[39m waiter\u001b[39m.\u001b[39macquire(\u001b[39mFalse\u001b[39;00m)\n",
      "\u001b[0;31mKeyboardInterrupt\u001b[0m: "
     ]
    }
   ],
   "source": [
    "# Step 3: Create an interactive scatter plot using hvplot\n",
    "scatter_plot = species_counts.hvplot.scatter(\n",
    "    x='anonymized_latitude', y='species_name', title='Bird Species Distribution with Respect to Latitude',\n",
    "    xlabel='Latitude', ylabel='Number of Unique Bird Species',\n",
    "    grid=True, height=400, width=600, legend=False\n",
    ")\n",
    "\n",
    "scatter_plot"
   ]
  },
  {
   "cell_type": "markdown",
   "metadata": {},
   "source": [
    "---"
   ]
  },
  {
   "cell_type": "markdown",
   "metadata": {},
   "source": [
    "## Conclusion"
   ]
  },
  {
   "cell_type": "markdown",
   "metadata": {},
   "source": [
    "I have never done a day of data science in my life, nor do I have any interest in birds. I learned a lot in my efforts to analyze **BIG DATA** and it's that this is not for me at all. \n",
    "\n",
    "Most of the data is as expected, it was never my intention to discover anything new but rather show off trends we mostly could've guessed. I'm happy to have done it and the challenge has kept me up later than I'd like to admit twice.  "
   ]
  },
  {
   "cell_type": "markdown",
   "metadata": {},
   "source": [
    "## Appendix\n",
    "\n",
    "Please see `generate.py` for how this data was collected."
   ]
  },
  {
   "cell_type": "markdown",
   "metadata": {},
   "source": [
    "## Citations\n",
    "\n",
    "A huge thank you to everything I used to write this.\n",
    "\n",
    "* [Dask DataFrame](https://docs.dask.org/en/stable/dataframe.html)\n",
    "* [Dask GeoPandas](https://dask-geopandas.readthedocs.io/en/stable/index.html)\n",
    "* [hvplot's documentation](https://hvplot.holoviz.org/index.html)\n",
    "* [geopandas' documentation as well](https://geopandas.org/en/stable/index.html)\n",
    "* [BirdBuddy for hosting the data in the first place](https://live.mybirdbuddy.com/)\n",
    "* [OpenAI's ChatGPT](https://chat.openai.com)\n",
    "  - I was curious what it was like to use AI to assist with a large project. It was bad. I do not recommend it. AI cannot remember anything and I feel like I spent a lot of time cleaning up after it. However it did help to launch new ideas and write complex passages. Excluding this one! \n",
    "\n",
    "As well as any links sourced inline like so[100]."
   ]
  }
 ],
 "metadata": {
  "kernelspec": {
   "display_name": "acs2500-RdKJ0DG0",
   "language": "python",
   "name": "python3"
  },
  "language_info": {
   "codemirror_mode": {
    "name": "ipython",
    "version": 3
   },
   "file_extension": ".py",
   "mimetype": "text/x-python",
   "name": "python",
   "nbconvert_exporter": "python",
   "pygments_lexer": "ipython3",
   "version": "3.11.5"
  },
  "orig_nbformat": 4
 },
 "nbformat": 4,
 "nbformat_minor": 2
}
