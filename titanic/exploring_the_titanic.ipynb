{
 "cells": [
  {
   "cell_type": "markdown",
   "metadata": {
    "id": "5Q50vNeSToyZ"
   },
   "source": [
    "---\n",
    "---\n",
    "---"
   ]
  },
  {
   "cell_type": "markdown",
   "metadata": {
    "id": "B9rAcZZlQaeE"
   },
   "source": [
    "## 🚢 **_Titanic_ Exploratory Data Analysis** 🔍\n",
    "\n",
    "In this notebook, we'll lightly introduce the core technical concepts inherent in data analysis by taking a look at the infamous _Titanic Dataset_."
   ]
  },
  {
   "cell_type": "markdown",
   "metadata": {
    "id": "55R0-9ZuTZrD"
   },
   "source": [
    "---\n",
    "---"
   ]
  },
  {
   "cell_type": "markdown",
   "metadata": {
    "id": "vaKGnZy3Q09S"
   },
   "source": [
    "### 🔹 Import Our Data Science Toolkit"
   ]
  },
  {
   "cell_type": "code",
   "execution_count": 1,
   "metadata": {
    "execution": {
     "iopub.execute_input": "2023-09-13T00:41:25.620618Z",
     "iopub.status.busy": "2023-09-13T00:41:25.620418Z",
     "iopub.status.idle": "2023-09-13T00:41:26.809949Z",
     "shell.execute_reply": "2023-09-13T00:41:26.808935Z"
    },
    "id": "ZHf8pkdUPFEO"
   },
   "outputs": [],
   "source": [
    "import numpy as np                  # Numerical/Mathematical Operations\n",
    "import pandas as pd                 # Data Manipulation Operations\n",
    "import seaborn as sns               # Extended (Beautified) Graphing Operations"
   ]
  },
  {
   "cell_type": "markdown",
   "metadata": {
    "id": "eScuQoIWQC82"
   },
   "source": [
    "### 🔹 Get the Titanic Dataset\n",
    "\n",
    "1. Define the path to our data.\n",
    "2. Call the data as a _Pandas DataFrame_."
   ]
  },
  {
   "cell_type": "code",
   "execution_count": 2,
   "metadata": {
    "execution": {
     "iopub.execute_input": "2023-09-13T00:41:26.814003Z",
     "iopub.status.busy": "2023-09-13T00:41:26.813405Z",
     "iopub.status.idle": "2023-09-13T00:41:26.823125Z",
     "shell.execute_reply": "2023-09-13T00:41:26.822327Z"
    },
    "id": "8b5WLdNEQEE8"
   },
   "outputs": [],
   "source": [
    "DATAPATH = \"titanic.csv\"\n",
    "\n",
    "dataset = pd.read_csv(DATAPATH)"
   ]
  },
  {
   "cell_type": "markdown",
   "metadata": {
    "id": "pa6Sh8_VTtky"
   },
   "source": [
    "#### 🔹 Peak at our Data"
   ]
  },
  {
   "cell_type": "code",
   "execution_count": 3,
   "metadata": {
    "colab": {
     "base_uri": "https://localhost:8080/",
     "height": 504
    },
    "execution": {
     "iopub.execute_input": "2023-09-13T00:41:26.826570Z",
     "iopub.status.busy": "2023-09-13T00:41:26.826342Z",
     "iopub.status.idle": "2023-09-13T00:41:26.843141Z",
     "shell.execute_reply": "2023-09-13T00:41:26.842395Z"
    },
    "id": "akZVWoCETAcs",
    "outputId": "b6616a81-e884-4766-e6f7-f8706db1e79e"
   },
   "outputs": [
    {
     "data": {
      "text/html": [
       "<div>\n",
       "<style scoped>\n",
       "    .dataframe tbody tr th:only-of-type {\n",
       "        vertical-align: middle;\n",
       "    }\n",
       "\n",
       "    .dataframe tbody tr th {\n",
       "        vertical-align: top;\n",
       "    }\n",
       "\n",
       "    .dataframe thead th {\n",
       "        text-align: right;\n",
       "    }\n",
       "</style>\n",
       "<table border=\"1\" class=\"dataframe\">\n",
       "  <thead>\n",
       "    <tr style=\"text-align: right;\">\n",
       "      <th></th>\n",
       "      <th>PassengerId</th>\n",
       "      <th>Survived</th>\n",
       "      <th>Pclass</th>\n",
       "      <th>Name</th>\n",
       "      <th>Sex</th>\n",
       "      <th>Age</th>\n",
       "      <th>SibSp</th>\n",
       "      <th>Parch</th>\n",
       "      <th>Ticket</th>\n",
       "      <th>Fare</th>\n",
       "      <th>Cabin</th>\n",
       "      <th>Embarked</th>\n",
       "    </tr>\n",
       "  </thead>\n",
       "  <tbody>\n",
       "    <tr>\n",
       "      <th>0</th>\n",
       "      <td>1</td>\n",
       "      <td>0</td>\n",
       "      <td>3</td>\n",
       "      <td>Braund, Mr. Owen Harris</td>\n",
       "      <td>male</td>\n",
       "      <td>22.0</td>\n",
       "      <td>1</td>\n",
       "      <td>0</td>\n",
       "      <td>A/5 21171</td>\n",
       "      <td>7.2500</td>\n",
       "      <td>NaN</td>\n",
       "      <td>S</td>\n",
       "    </tr>\n",
       "    <tr>\n",
       "      <th>1</th>\n",
       "      <td>2</td>\n",
       "      <td>1</td>\n",
       "      <td>1</td>\n",
       "      <td>Cumings, Mrs. John Bradley (Florence Briggs Th...</td>\n",
       "      <td>female</td>\n",
       "      <td>38.0</td>\n",
       "      <td>1</td>\n",
       "      <td>0</td>\n",
       "      <td>PC 17599</td>\n",
       "      <td>71.2833</td>\n",
       "      <td>C85</td>\n",
       "      <td>C</td>\n",
       "    </tr>\n",
       "    <tr>\n",
       "      <th>2</th>\n",
       "      <td>3</td>\n",
       "      <td>1</td>\n",
       "      <td>3</td>\n",
       "      <td>Heikkinen, Miss. Laina</td>\n",
       "      <td>female</td>\n",
       "      <td>26.0</td>\n",
       "      <td>0</td>\n",
       "      <td>0</td>\n",
       "      <td>STON/O2. 3101282</td>\n",
       "      <td>7.9250</td>\n",
       "      <td>NaN</td>\n",
       "      <td>S</td>\n",
       "    </tr>\n",
       "    <tr>\n",
       "      <th>3</th>\n",
       "      <td>4</td>\n",
       "      <td>1</td>\n",
       "      <td>1</td>\n",
       "      <td>Futrelle, Mrs. Jacques Heath (Lily May Peel)</td>\n",
       "      <td>female</td>\n",
       "      <td>35.0</td>\n",
       "      <td>1</td>\n",
       "      <td>0</td>\n",
       "      <td>113803</td>\n",
       "      <td>53.1000</td>\n",
       "      <td>C123</td>\n",
       "      <td>S</td>\n",
       "    </tr>\n",
       "    <tr>\n",
       "      <th>4</th>\n",
       "      <td>5</td>\n",
       "      <td>0</td>\n",
       "      <td>3</td>\n",
       "      <td>Allen, Mr. William Henry</td>\n",
       "      <td>male</td>\n",
       "      <td>35.0</td>\n",
       "      <td>0</td>\n",
       "      <td>0</td>\n",
       "      <td>373450</td>\n",
       "      <td>8.0500</td>\n",
       "      <td>NaN</td>\n",
       "      <td>S</td>\n",
       "    </tr>\n",
       "  </tbody>\n",
       "</table>\n",
       "</div>"
      ],
      "text/plain": [
       "   PassengerId  Survived  Pclass  \\\n",
       "0            1         0       3   \n",
       "1            2         1       1   \n",
       "2            3         1       3   \n",
       "3            4         1       1   \n",
       "4            5         0       3   \n",
       "\n",
       "                                                Name     Sex   Age  SibSp  \\\n",
       "0                            Braund, Mr. Owen Harris    male  22.0      1   \n",
       "1  Cumings, Mrs. John Bradley (Florence Briggs Th...  female  38.0      1   \n",
       "2                             Heikkinen, Miss. Laina  female  26.0      0   \n",
       "3       Futrelle, Mrs. Jacques Heath (Lily May Peel)  female  35.0      1   \n",
       "4                           Allen, Mr. William Henry    male  35.0      0   \n",
       "\n",
       "   Parch            Ticket     Fare Cabin Embarked  \n",
       "0      0         A/5 21171   7.2500   NaN        S  \n",
       "1      0          PC 17599  71.2833   C85        C  \n",
       "2      0  STON/O2. 3101282   7.9250   NaN        S  \n",
       "3      0            113803  53.1000  C123        S  \n",
       "4      0            373450   8.0500   NaN        S  "
      ]
     },
     "execution_count": 3,
     "metadata": {},
     "output_type": "execute_result"
    }
   ],
   "source": [
    "dataset.head(5)     # Shows the first five rows"
   ]
  },
  {
   "cell_type": "code",
   "execution_count": 4,
   "metadata": {
    "colab": {
     "base_uri": "https://localhost:8080/",
     "height": 452
    },
    "execution": {
     "iopub.execute_input": "2023-09-13T00:41:26.893510Z",
     "iopub.status.busy": "2023-09-13T00:41:26.892928Z",
     "iopub.status.idle": "2023-09-13T00:41:26.907188Z",
     "shell.execute_reply": "2023-09-13T00:41:26.906484Z"
    },
    "id": "fK1aNw5cTnCq",
    "outputId": "f0f0dc3d-ddfb-4606-98a5-40b2e8fc4aa7"
   },
   "outputs": [
    {
     "data": {
      "text/html": [
       "<div>\n",
       "<style scoped>\n",
       "    .dataframe tbody tr th:only-of-type {\n",
       "        vertical-align: middle;\n",
       "    }\n",
       "\n",
       "    .dataframe tbody tr th {\n",
       "        vertical-align: top;\n",
       "    }\n",
       "\n",
       "    .dataframe thead th {\n",
       "        text-align: right;\n",
       "    }\n",
       "</style>\n",
       "<table border=\"1\" class=\"dataframe\">\n",
       "  <thead>\n",
       "    <tr style=\"text-align: right;\">\n",
       "      <th></th>\n",
       "      <th>PassengerId</th>\n",
       "      <th>Survived</th>\n",
       "      <th>Pclass</th>\n",
       "      <th>Name</th>\n",
       "      <th>Sex</th>\n",
       "      <th>Age</th>\n",
       "      <th>SibSp</th>\n",
       "      <th>Parch</th>\n",
       "      <th>Ticket</th>\n",
       "      <th>Fare</th>\n",
       "      <th>Cabin</th>\n",
       "      <th>Embarked</th>\n",
       "    </tr>\n",
       "  </thead>\n",
       "  <tbody>\n",
       "    <tr>\n",
       "      <th>886</th>\n",
       "      <td>887</td>\n",
       "      <td>0</td>\n",
       "      <td>2</td>\n",
       "      <td>Montvila, Rev. Juozas</td>\n",
       "      <td>male</td>\n",
       "      <td>27.0</td>\n",
       "      <td>0</td>\n",
       "      <td>0</td>\n",
       "      <td>211536</td>\n",
       "      <td>13.00</td>\n",
       "      <td>NaN</td>\n",
       "      <td>S</td>\n",
       "    </tr>\n",
       "    <tr>\n",
       "      <th>887</th>\n",
       "      <td>888</td>\n",
       "      <td>1</td>\n",
       "      <td>1</td>\n",
       "      <td>Graham, Miss. Margaret Edith</td>\n",
       "      <td>female</td>\n",
       "      <td>19.0</td>\n",
       "      <td>0</td>\n",
       "      <td>0</td>\n",
       "      <td>112053</td>\n",
       "      <td>30.00</td>\n",
       "      <td>B42</td>\n",
       "      <td>S</td>\n",
       "    </tr>\n",
       "    <tr>\n",
       "      <th>888</th>\n",
       "      <td>889</td>\n",
       "      <td>0</td>\n",
       "      <td>3</td>\n",
       "      <td>Johnston, Miss. Catherine Helen \"Carrie\"</td>\n",
       "      <td>female</td>\n",
       "      <td>NaN</td>\n",
       "      <td>1</td>\n",
       "      <td>2</td>\n",
       "      <td>W./C. 6607</td>\n",
       "      <td>23.45</td>\n",
       "      <td>NaN</td>\n",
       "      <td>S</td>\n",
       "    </tr>\n",
       "    <tr>\n",
       "      <th>889</th>\n",
       "      <td>890</td>\n",
       "      <td>1</td>\n",
       "      <td>1</td>\n",
       "      <td>Behr, Mr. Karl Howell</td>\n",
       "      <td>male</td>\n",
       "      <td>26.0</td>\n",
       "      <td>0</td>\n",
       "      <td>0</td>\n",
       "      <td>111369</td>\n",
       "      <td>30.00</td>\n",
       "      <td>C148</td>\n",
       "      <td>C</td>\n",
       "    </tr>\n",
       "    <tr>\n",
       "      <th>890</th>\n",
       "      <td>891</td>\n",
       "      <td>0</td>\n",
       "      <td>3</td>\n",
       "      <td>Dooley, Mr. Patrick</td>\n",
       "      <td>male</td>\n",
       "      <td>32.0</td>\n",
       "      <td>0</td>\n",
       "      <td>0</td>\n",
       "      <td>370376</td>\n",
       "      <td>7.75</td>\n",
       "      <td>NaN</td>\n",
       "      <td>Q</td>\n",
       "    </tr>\n",
       "  </tbody>\n",
       "</table>\n",
       "</div>"
      ],
      "text/plain": [
       "     PassengerId  Survived  Pclass                                      Name  \\\n",
       "886          887         0       2                     Montvila, Rev. Juozas   \n",
       "887          888         1       1              Graham, Miss. Margaret Edith   \n",
       "888          889         0       3  Johnston, Miss. Catherine Helen \"Carrie\"   \n",
       "889          890         1       1                     Behr, Mr. Karl Howell   \n",
       "890          891         0       3                       Dooley, Mr. Patrick   \n",
       "\n",
       "        Sex   Age  SibSp  Parch      Ticket   Fare Cabin Embarked  \n",
       "886    male  27.0      0      0      211536  13.00   NaN        S  \n",
       "887  female  19.0      0      0      112053  30.00   B42        S  \n",
       "888  female   NaN      1      2  W./C. 6607  23.45   NaN        S  \n",
       "889    male  26.0      0      0      111369  30.00  C148        C  \n",
       "890    male  32.0      0      0      370376   7.75   NaN        Q  "
      ]
     },
     "execution_count": 4,
     "metadata": {},
     "output_type": "execute_result"
    }
   ],
   "source": [
    "dataset.tail(5)     # Shows the last five rows"
   ]
  },
  {
   "cell_type": "markdown",
   "metadata": {
    "id": "Jwn2iwOkUzMP"
   },
   "source": [
    "#### 🔹 Create a Quick Data Dictionary\n",
    "\n",
    "- `PassengerId`: IDs of Passengers\n",
    "- `Survived`: Whether a passenger survived or not.\n",
    "  - `0`: Did not survive.\n",
    "  - `1`: Did survive.\n",
    "- `Pclass`: Economic class of passenger.\n",
    "- `Name`: Name of passenger.\n",
    "- `Sex`: Sex of passenger.\n",
    "- `Age`: Age of passenger.\n",
    "- `SibSp`: Number of siblings and spouses that passenger has on board the vessel.\n",
    "- `Parch`: (ParCh) Number of parents and children that passenger has on board the vessel.\n",
    "- `Ticket`: Ticket number of passenger.\n",
    "- `Fare`: Amount (in dollars) paid by passenger for ticket.\n",
    "- `Cabin`: Precise cabin that passenger stayed in on vessel.\n",
    "- `Embarked`: Location that passenger embarked upon vessel."
   ]
  },
  {
   "cell_type": "markdown",
   "metadata": {
    "id": "04m0hEQpVwl6"
   },
   "source": [
    "---\n",
    "\n",
    "**Our goal is to distinguish between descriptive questions, inferential questions, and predictive questions.**\n",
    "\n",
    "Descriptive questions examine basic patterns and relationships across our dataset.\n",
    "\n",
    "> EX: What percentages of passengers were 1st class, 2nd class, and 3rd class?\n",
    "\n",
    "Inferential questions explore deeper relationships with a heavier reliance on statistics and probability.\n",
    "\n",
    "> EX: Given that a passenger paid less than $200 and was relatively young, what's the likelihood that they were 3rd class?\n",
    "\n",
    "Predictive questions explore machine learning and modeling to examine hidden patterns on newer data.\n",
    "\n",
    "> EX: If a new 3rd-class passenger embarks on the Titanic, are they going to survive or not?\n",
    "\n",
    "---"
   ]
  },
  {
   "cell_type": "markdown",
   "metadata": {
    "id": "2RWmsjVNW--A"
   },
   "source": [
    "### 🔹 Get Some Descriptive Statistics Across Our Data"
   ]
  },
  {
   "cell_type": "code",
   "execution_count": 5,
   "metadata": {
    "colab": {
     "base_uri": "https://localhost:8080/",
     "height": 300
    },
    "execution": {
     "iopub.execute_input": "2023-09-13T00:41:26.910643Z",
     "iopub.status.busy": "2023-09-13T00:41:26.910254Z",
     "iopub.status.idle": "2023-09-13T00:41:26.935992Z",
     "shell.execute_reply": "2023-09-13T00:41:26.935128Z"
    },
    "id": "mbNsBK5xb8Jj",
    "outputId": "748af145-e8cb-4061-823e-9e068c6c8838"
   },
   "outputs": [
    {
     "data": {
      "text/html": [
       "<div>\n",
       "<style scoped>\n",
       "    .dataframe tbody tr th:only-of-type {\n",
       "        vertical-align: middle;\n",
       "    }\n",
       "\n",
       "    .dataframe tbody tr th {\n",
       "        vertical-align: top;\n",
       "    }\n",
       "\n",
       "    .dataframe thead th {\n",
       "        text-align: right;\n",
       "    }\n",
       "</style>\n",
       "<table border=\"1\" class=\"dataframe\">\n",
       "  <thead>\n",
       "    <tr style=\"text-align: right;\">\n",
       "      <th></th>\n",
       "      <th>PassengerId</th>\n",
       "      <th>Survived</th>\n",
       "      <th>Pclass</th>\n",
       "      <th>Age</th>\n",
       "      <th>SibSp</th>\n",
       "      <th>Parch</th>\n",
       "      <th>Fare</th>\n",
       "    </tr>\n",
       "  </thead>\n",
       "  <tbody>\n",
       "    <tr>\n",
       "      <th>count</th>\n",
       "      <td>891.000000</td>\n",
       "      <td>891.000000</td>\n",
       "      <td>891.000000</td>\n",
       "      <td>714.000000</td>\n",
       "      <td>891.000000</td>\n",
       "      <td>891.000000</td>\n",
       "      <td>891.000000</td>\n",
       "    </tr>\n",
       "    <tr>\n",
       "      <th>mean</th>\n",
       "      <td>446.000000</td>\n",
       "      <td>0.383838</td>\n",
       "      <td>2.308642</td>\n",
       "      <td>29.699118</td>\n",
       "      <td>0.523008</td>\n",
       "      <td>0.381594</td>\n",
       "      <td>32.204208</td>\n",
       "    </tr>\n",
       "    <tr>\n",
       "      <th>std</th>\n",
       "      <td>257.353842</td>\n",
       "      <td>0.486592</td>\n",
       "      <td>0.836071</td>\n",
       "      <td>14.526497</td>\n",
       "      <td>1.102743</td>\n",
       "      <td>0.806057</td>\n",
       "      <td>49.693429</td>\n",
       "    </tr>\n",
       "    <tr>\n",
       "      <th>min</th>\n",
       "      <td>1.000000</td>\n",
       "      <td>0.000000</td>\n",
       "      <td>1.000000</td>\n",
       "      <td>0.420000</td>\n",
       "      <td>0.000000</td>\n",
       "      <td>0.000000</td>\n",
       "      <td>0.000000</td>\n",
       "    </tr>\n",
       "    <tr>\n",
       "      <th>25%</th>\n",
       "      <td>223.500000</td>\n",
       "      <td>0.000000</td>\n",
       "      <td>2.000000</td>\n",
       "      <td>20.125000</td>\n",
       "      <td>0.000000</td>\n",
       "      <td>0.000000</td>\n",
       "      <td>7.910400</td>\n",
       "    </tr>\n",
       "    <tr>\n",
       "      <th>50%</th>\n",
       "      <td>446.000000</td>\n",
       "      <td>0.000000</td>\n",
       "      <td>3.000000</td>\n",
       "      <td>28.000000</td>\n",
       "      <td>0.000000</td>\n",
       "      <td>0.000000</td>\n",
       "      <td>14.454200</td>\n",
       "    </tr>\n",
       "    <tr>\n",
       "      <th>75%</th>\n",
       "      <td>668.500000</td>\n",
       "      <td>1.000000</td>\n",
       "      <td>3.000000</td>\n",
       "      <td>38.000000</td>\n",
       "      <td>1.000000</td>\n",
       "      <td>0.000000</td>\n",
       "      <td>31.000000</td>\n",
       "    </tr>\n",
       "    <tr>\n",
       "      <th>max</th>\n",
       "      <td>891.000000</td>\n",
       "      <td>1.000000</td>\n",
       "      <td>3.000000</td>\n",
       "      <td>80.000000</td>\n",
       "      <td>8.000000</td>\n",
       "      <td>6.000000</td>\n",
       "      <td>512.329200</td>\n",
       "    </tr>\n",
       "  </tbody>\n",
       "</table>\n",
       "</div>"
      ],
      "text/plain": [
       "       PassengerId    Survived      Pclass         Age       SibSp  \\\n",
       "count   891.000000  891.000000  891.000000  714.000000  891.000000   \n",
       "mean    446.000000    0.383838    2.308642   29.699118    0.523008   \n",
       "std     257.353842    0.486592    0.836071   14.526497    1.102743   \n",
       "min       1.000000    0.000000    1.000000    0.420000    0.000000   \n",
       "25%     223.500000    0.000000    2.000000   20.125000    0.000000   \n",
       "50%     446.000000    0.000000    3.000000   28.000000    0.000000   \n",
       "75%     668.500000    1.000000    3.000000   38.000000    1.000000   \n",
       "max     891.000000    1.000000    3.000000   80.000000    8.000000   \n",
       "\n",
       "            Parch        Fare  \n",
       "count  891.000000  891.000000  \n",
       "mean     0.381594   32.204208  \n",
       "std      0.806057   49.693429  \n",
       "min      0.000000    0.000000  \n",
       "25%      0.000000    7.910400  \n",
       "50%      0.000000   14.454200  \n",
       "75%      0.000000   31.000000  \n",
       "max      6.000000  512.329200  "
      ]
     },
     "execution_count": 5,
     "metadata": {},
     "output_type": "execute_result"
    }
   ],
   "source": [
    "dataset.describe()"
   ]
  },
  {
   "cell_type": "code",
   "execution_count": 6,
   "metadata": {
    "colab": {
     "base_uri": "https://localhost:8080/",
     "height": 175
    },
    "execution": {
     "iopub.execute_input": "2023-09-13T00:41:26.939710Z",
     "iopub.status.busy": "2023-09-13T00:41:26.939187Z",
     "iopub.status.idle": "2023-09-13T00:41:26.963047Z",
     "shell.execute_reply": "2023-09-13T00:41:26.962214Z"
    },
    "id": "K53nkaCeT8Zx",
    "outputId": "65b549ff-9c57-424e-f6d6-33cd0c737d61"
   },
   "outputs": [
    {
     "data": {
      "text/html": [
       "<div>\n",
       "<style scoped>\n",
       "    .dataframe tbody tr th:only-of-type {\n",
       "        vertical-align: middle;\n",
       "    }\n",
       "\n",
       "    .dataframe tbody tr th {\n",
       "        vertical-align: top;\n",
       "    }\n",
       "\n",
       "    .dataframe thead th {\n",
       "        text-align: right;\n",
       "    }\n",
       "</style>\n",
       "<table border=\"1\" class=\"dataframe\">\n",
       "  <thead>\n",
       "    <tr style=\"text-align: right;\">\n",
       "      <th></th>\n",
       "      <th>Name</th>\n",
       "      <th>Sex</th>\n",
       "      <th>Ticket</th>\n",
       "      <th>Cabin</th>\n",
       "      <th>Embarked</th>\n",
       "    </tr>\n",
       "  </thead>\n",
       "  <tbody>\n",
       "    <tr>\n",
       "      <th>count</th>\n",
       "      <td>891</td>\n",
       "      <td>891</td>\n",
       "      <td>891</td>\n",
       "      <td>204</td>\n",
       "      <td>889</td>\n",
       "    </tr>\n",
       "    <tr>\n",
       "      <th>unique</th>\n",
       "      <td>891</td>\n",
       "      <td>2</td>\n",
       "      <td>681</td>\n",
       "      <td>147</td>\n",
       "      <td>3</td>\n",
       "    </tr>\n",
       "    <tr>\n",
       "      <th>top</th>\n",
       "      <td>Braund, Mr. Owen Harris</td>\n",
       "      <td>male</td>\n",
       "      <td>347082</td>\n",
       "      <td>B96 B98</td>\n",
       "      <td>S</td>\n",
       "    </tr>\n",
       "    <tr>\n",
       "      <th>freq</th>\n",
       "      <td>1</td>\n",
       "      <td>577</td>\n",
       "      <td>7</td>\n",
       "      <td>4</td>\n",
       "      <td>644</td>\n",
       "    </tr>\n",
       "  </tbody>\n",
       "</table>\n",
       "</div>"
      ],
      "text/plain": [
       "                           Name   Sex  Ticket    Cabin Embarked\n",
       "count                       891   891     891      204      889\n",
       "unique                      891     2     681      147        3\n",
       "top     Braund, Mr. Owen Harris  male  347082  B96 B98        S\n",
       "freq                          1   577       7        4      644"
      ]
     },
     "execution_count": 6,
     "metadata": {},
     "output_type": "execute_result"
    }
   ],
   "source": [
    "dataset.describe(include=\"O\")"
   ]
  },
  {
   "cell_type": "markdown",
   "metadata": {
    "id": "utUErY2aXe2D"
   },
   "source": [
    "#### 🔹 Get the Dataset's Dimensionality"
   ]
  },
  {
   "cell_type": "code",
   "execution_count": 7,
   "metadata": {
    "colab": {
     "base_uri": "https://localhost:8080/"
    },
    "execution": {
     "iopub.execute_input": "2023-09-13T00:41:26.970620Z",
     "iopub.status.busy": "2023-09-13T00:41:26.970376Z",
     "iopub.status.idle": "2023-09-13T00:41:26.976225Z",
     "shell.execute_reply": "2023-09-13T00:41:26.975031Z"
    },
    "id": "9ivw7MiSXH7o",
    "outputId": "525483f6-511c-4b0c-e057-513df39dfc04"
   },
   "outputs": [
    {
     "data": {
      "text/plain": [
       "891"
      ]
     },
     "execution_count": 7,
     "metadata": {},
     "output_type": "execute_result"
    }
   ],
   "source": [
    "len(dataset)            # Returns number of rows in data"
   ]
  },
  {
   "cell_type": "code",
   "execution_count": 8,
   "metadata": {
    "colab": {
     "base_uri": "https://localhost:8080/"
    },
    "execution": {
     "iopub.execute_input": "2023-09-13T00:41:26.981524Z",
     "iopub.status.busy": "2023-09-13T00:41:26.981256Z",
     "iopub.status.idle": "2023-09-13T00:41:26.986284Z",
     "shell.execute_reply": "2023-09-13T00:41:26.985507Z"
    },
    "id": "HozMbDzrXj-L",
    "outputId": "ea2b4474-b2d0-45b3-96ef-88b138656468"
   },
   "outputs": [
    {
     "data": {
      "text/plain": [
       "(891, 12)"
      ]
     },
     "execution_count": 8,
     "metadata": {},
     "output_type": "execute_result"
    }
   ],
   "source": [
    "np.shape(dataset)       # Returns number of rows and columns in data"
   ]
  },
  {
   "cell_type": "markdown",
   "metadata": {
    "id": "232ixHMJYYto"
   },
   "source": [
    "#### 🔹 Detect Null Values Across Dataset\n",
    "\n",
    "_This is one of the immediate first things you want to do for ANY data: **ensure all null values are accounted for and \"imputed\".**_"
   ]
  },
  {
   "cell_type": "code",
   "execution_count": 9,
   "metadata": {
    "colab": {
     "base_uri": "https://localhost:8080/"
    },
    "execution": {
     "iopub.execute_input": "2023-09-13T00:41:26.990479Z",
     "iopub.status.busy": "2023-09-13T00:41:26.990260Z",
     "iopub.status.idle": "2023-09-13T00:41:26.997118Z",
     "shell.execute_reply": "2023-09-13T00:41:26.996331Z"
    },
    "id": "4uol2QmEXm87",
    "outputId": "01067340-0696-4a88-f733-e5717a4cc26f"
   },
   "outputs": [
    {
     "data": {
      "text/plain": [
       "PassengerId      0\n",
       "Survived         0\n",
       "Pclass           0\n",
       "Name             0\n",
       "Sex              0\n",
       "Age            177\n",
       "SibSp            0\n",
       "Parch            0\n",
       "Ticket           0\n",
       "Fare             0\n",
       "Cabin          687\n",
       "Embarked         2\n",
       "dtype: int64"
      ]
     },
     "execution_count": 9,
     "metadata": {},
     "output_type": "execute_result"
    }
   ],
   "source": [
    "dataset.isna().sum()      # if value is null, True. if value is not null, False."
   ]
  },
  {
   "cell_type": "markdown",
   "metadata": {
    "id": "5AdBZ2agY7If"
   },
   "source": [
    "Most `Cabin` rows do _not_ have values - they are _null_.\n",
    "\n",
    "Some `Age` rows do _not_ have values and are null.\n",
    "\n",
    "Very few `Embarked` rows do _not_ have values and are null."
   ]
  },
  {
   "cell_type": "markdown",
   "metadata": {
    "id": "uzkoXHrtZOX5"
   },
   "source": [
    "#### 🔹 Drop Heavily-Null Data and Useless Data (`Cabin`, `PassengerId`)"
   ]
  },
  {
   "cell_type": "code",
   "execution_count": 10,
   "metadata": {
    "execution": {
     "iopub.execute_input": "2023-09-13T00:41:27.004777Z",
     "iopub.status.busy": "2023-09-13T00:41:27.004508Z",
     "iopub.status.idle": "2023-09-13T00:41:27.009569Z",
     "shell.execute_reply": "2023-09-13T00:41:27.008641Z"
    },
    "id": "XDDtBLkGX6KS"
   },
   "outputs": [],
   "source": [
    "COLUMNS_TO_DROP = [\"Cabin\", \"PassengerId\", \"Age_Group\"]\n",
    "\n",
    "try:\n",
    "  dataset.drop(columns=COLUMNS_TO_DROP, inplace=True)\n",
    "except:\n",
    "  KeyError(\"Column(s) already dropped.\")"
   ]
  },
  {
   "cell_type": "code",
   "execution_count": 11,
   "metadata": {
    "colab": {
     "base_uri": "https://localhost:8080/",
     "height": 293
    },
    "execution": {
     "iopub.execute_input": "2023-09-13T00:41:27.013002Z",
     "iopub.status.busy": "2023-09-13T00:41:27.012507Z",
     "iopub.status.idle": "2023-09-13T00:41:27.025727Z",
     "shell.execute_reply": "2023-09-13T00:41:27.024955Z"
    },
    "id": "81P6qN7HZTGK",
    "outputId": "eabb9024-76f7-4400-f7fe-b0fdea8a4fd3"
   },
   "outputs": [
    {
     "data": {
      "text/html": [
       "<div>\n",
       "<style scoped>\n",
       "    .dataframe tbody tr th:only-of-type {\n",
       "        vertical-align: middle;\n",
       "    }\n",
       "\n",
       "    .dataframe tbody tr th {\n",
       "        vertical-align: top;\n",
       "    }\n",
       "\n",
       "    .dataframe thead th {\n",
       "        text-align: right;\n",
       "    }\n",
       "</style>\n",
       "<table border=\"1\" class=\"dataframe\">\n",
       "  <thead>\n",
       "    <tr style=\"text-align: right;\">\n",
       "      <th></th>\n",
       "      <th>PassengerId</th>\n",
       "      <th>Survived</th>\n",
       "      <th>Pclass</th>\n",
       "      <th>Name</th>\n",
       "      <th>Sex</th>\n",
       "      <th>Age</th>\n",
       "      <th>SibSp</th>\n",
       "      <th>Parch</th>\n",
       "      <th>Ticket</th>\n",
       "      <th>Fare</th>\n",
       "      <th>Cabin</th>\n",
       "      <th>Embarked</th>\n",
       "    </tr>\n",
       "  </thead>\n",
       "  <tbody>\n",
       "    <tr>\n",
       "      <th>0</th>\n",
       "      <td>1</td>\n",
       "      <td>0</td>\n",
       "      <td>3</td>\n",
       "      <td>Braund, Mr. Owen Harris</td>\n",
       "      <td>male</td>\n",
       "      <td>22.0</td>\n",
       "      <td>1</td>\n",
       "      <td>0</td>\n",
       "      <td>A/5 21171</td>\n",
       "      <td>7.2500</td>\n",
       "      <td>NaN</td>\n",
       "      <td>S</td>\n",
       "    </tr>\n",
       "    <tr>\n",
       "      <th>1</th>\n",
       "      <td>2</td>\n",
       "      <td>1</td>\n",
       "      <td>1</td>\n",
       "      <td>Cumings, Mrs. John Bradley (Florence Briggs Th...</td>\n",
       "      <td>female</td>\n",
       "      <td>38.0</td>\n",
       "      <td>1</td>\n",
       "      <td>0</td>\n",
       "      <td>PC 17599</td>\n",
       "      <td>71.2833</td>\n",
       "      <td>C85</td>\n",
       "      <td>C</td>\n",
       "    </tr>\n",
       "    <tr>\n",
       "      <th>2</th>\n",
       "      <td>3</td>\n",
       "      <td>1</td>\n",
       "      <td>3</td>\n",
       "      <td>Heikkinen, Miss. Laina</td>\n",
       "      <td>female</td>\n",
       "      <td>26.0</td>\n",
       "      <td>0</td>\n",
       "      <td>0</td>\n",
       "      <td>STON/O2. 3101282</td>\n",
       "      <td>7.9250</td>\n",
       "      <td>NaN</td>\n",
       "      <td>S</td>\n",
       "    </tr>\n",
       "    <tr>\n",
       "      <th>3</th>\n",
       "      <td>4</td>\n",
       "      <td>1</td>\n",
       "      <td>1</td>\n",
       "      <td>Futrelle, Mrs. Jacques Heath (Lily May Peel)</td>\n",
       "      <td>female</td>\n",
       "      <td>35.0</td>\n",
       "      <td>1</td>\n",
       "      <td>0</td>\n",
       "      <td>113803</td>\n",
       "      <td>53.1000</td>\n",
       "      <td>C123</td>\n",
       "      <td>S</td>\n",
       "    </tr>\n",
       "    <tr>\n",
       "      <th>4</th>\n",
       "      <td>5</td>\n",
       "      <td>0</td>\n",
       "      <td>3</td>\n",
       "      <td>Allen, Mr. William Henry</td>\n",
       "      <td>male</td>\n",
       "      <td>35.0</td>\n",
       "      <td>0</td>\n",
       "      <td>0</td>\n",
       "      <td>373450</td>\n",
       "      <td>8.0500</td>\n",
       "      <td>NaN</td>\n",
       "      <td>S</td>\n",
       "    </tr>\n",
       "  </tbody>\n",
       "</table>\n",
       "</div>"
      ],
      "text/plain": [
       "   PassengerId  Survived  Pclass  \\\n",
       "0            1         0       3   \n",
       "1            2         1       1   \n",
       "2            3         1       3   \n",
       "3            4         1       1   \n",
       "4            5         0       3   \n",
       "\n",
       "                                                Name     Sex   Age  SibSp  \\\n",
       "0                            Braund, Mr. Owen Harris    male  22.0      1   \n",
       "1  Cumings, Mrs. John Bradley (Florence Briggs Th...  female  38.0      1   \n",
       "2                             Heikkinen, Miss. Laina  female  26.0      0   \n",
       "3       Futrelle, Mrs. Jacques Heath (Lily May Peel)  female  35.0      1   \n",
       "4                           Allen, Mr. William Henry    male  35.0      0   \n",
       "\n",
       "   Parch            Ticket     Fare Cabin Embarked  \n",
       "0      0         A/5 21171   7.2500   NaN        S  \n",
       "1      0          PC 17599  71.2833   C85        C  \n",
       "2      0  STON/O2. 3101282   7.9250   NaN        S  \n",
       "3      0            113803  53.1000  C123        S  \n",
       "4      0            373450   8.0500   NaN        S  "
      ]
     },
     "execution_count": 11,
     "metadata": {},
     "output_type": "execute_result"
    }
   ],
   "source": [
    "dataset.head()"
   ]
  },
  {
   "cell_type": "code",
   "execution_count": 12,
   "metadata": {
    "colab": {
     "base_uri": "https://localhost:8080/"
    },
    "execution": {
     "iopub.execute_input": "2023-09-13T00:41:27.030983Z",
     "iopub.status.busy": "2023-09-13T00:41:27.029491Z",
     "iopub.status.idle": "2023-09-13T00:41:27.039351Z",
     "shell.execute_reply": "2023-09-13T00:41:27.038638Z"
    },
    "id": "JoaXZE4MZkzn",
    "outputId": "d7fc359d-83c2-4787-b65e-d7af4b673d75"
   },
   "outputs": [
    {
     "data": {
      "text/plain": [
       "PassengerId      0\n",
       "Survived         0\n",
       "Pclass           0\n",
       "Name             0\n",
       "Sex              0\n",
       "Age            177\n",
       "SibSp            0\n",
       "Parch            0\n",
       "Ticket           0\n",
       "Fare             0\n",
       "Cabin          687\n",
       "Embarked         2\n",
       "dtype: int64"
      ]
     },
     "execution_count": 12,
     "metadata": {},
     "output_type": "execute_result"
    }
   ],
   "source": [
    "dataset.isna().sum()"
   ]
  },
  {
   "cell_type": "markdown",
   "metadata": {
    "id": "AWPOuCHyTnDB"
   },
   "source": [
    "---"
   ]
  },
  {
   "cell_type": "markdown",
   "metadata": {
    "id": "k8h1qWuIhcvs"
   },
   "source": [
    "### 🔶 Q1: What are the percentages of passengers per class?"
   ]
  },
  {
   "cell_type": "markdown",
   "metadata": {
    "id": "lxrN3mJsbN5V"
   },
   "source": [
    "#### 🔹 Slice Our Data\n",
    "\n",
    "**Data Slicing** is a way of getting proportions of our dataset/DataFrame based on _logical statements_."
   ]
  },
  {
   "cell_type": "code",
   "execution_count": 13,
   "metadata": {
    "colab": {
     "base_uri": "https://localhost:8080/"
    },
    "execution": {
     "iopub.execute_input": "2023-09-13T00:41:27.043272Z",
     "iopub.status.busy": "2023-09-13T00:41:27.043027Z",
     "iopub.status.idle": "2023-09-13T00:41:27.056107Z",
     "shell.execute_reply": "2023-09-13T00:41:27.054576Z"
    },
    "id": "PV_BKWIAalvC",
    "outputId": "fcd668bf-54bb-42f9-c8b5-0edc5d079ba2"
   },
   "outputs": [
    {
     "name": "stdout",
     "output_type": "stream",
     "text": [
      "Percentage of 1st-Class Passengers: 24.242%\n",
      "Percentage of 2nd-Class Passengers: 20.651%\n",
      "Percentage of 3rd-Class Passengers: 55.107%\n"
     ]
    }
   ],
   "source": [
    "\"\"\"\n",
    "QUESTION: What are the percentages of passengers per class?\n",
    "\n",
    "ASSUMPTIONS:\n",
    "   - There are 891 passengers that represent 100% of the data.\n",
    "   - There are three classes.\n",
    "\n",
    "METHODOLOGY:\n",
    "   1. Determine specific values per passenger class (`Pclass`).\n",
    "   2. Get slices (proportions) of our data per each class.\n",
    "   3. Divide size of sliced data by size of original data.\n",
    "\"\"\"\n",
    "\n",
    "#STEP 1: Determine specific values per passenger class (`Pclass`).\n",
    "\n",
    "#Slicing works the same way we get values from dictionaries: dict[key] -> values\n",
    "\n",
    "dataset[\"Pclass\"]               # Returns Series representation of sliced feature\n",
    "dataset[[\"Pclass\"]]             # Returns DF representation of sliced feature\n",
    "\n",
    "dataset[\"Pclass\"].unique()      # Returns set of unique values within feature\n",
    "\n",
    "# Returns counts of unique values per unique value\n",
    "# print(pd.DataFrame(dataset[\"Pclass\"].value_counts()))\n",
    "# print(type(dataset[\"Pclass\"].value_counts()))\n",
    "\n",
    "# # STEP 2: Get slices (proportions) of our data per each class.\n",
    "\n",
    "# ### COMMON METHOD OF SLICING BY LOGICAL ARGUMENTS\n",
    "\n",
    "dataset[(dataset[\"Pclass\"] == 1)]\n",
    "dataset[(dataset[\"Pclass\"] == 2)]\n",
    "dataset[(dataset[\"Pclass\"] == 3)]\n",
    "\n",
    "### DESCRIPTIVE METHOD OF SLICING BY LOGICAL ARGUMENTS\n",
    "\n",
    "ARG_PCLASS_FIRST = (dataset[\"Pclass\"] == 1)\n",
    "dataset_pclass_first = dataset[ARG_PCLASS_FIRST]\n",
    "\n",
    "ARG_PCLASS_SECOND = (dataset[\"Pclass\"] == 2)\n",
    "dataset_pclass_second = dataset[ARG_PCLASS_SECOND]\n",
    "\n",
    "ARG_PCLASS_THIRD = (dataset[\"Pclass\"] == 3)\n",
    "dataset_pclass_third = dataset[ARG_PCLASS_THIRD]\n",
    "\n",
    "# # STEP 3: Divide size of sliced data by size of original data.\n",
    "\n",
    "total_p = len(dataset)\n",
    "p1 = len(dataset_pclass_first)\n",
    "p2 = len(dataset_pclass_second)\n",
    "p3 = len(dataset_pclass_third)\n",
    "\n",
    "print(\"Percentage of 1st-Class Passengers: {:.3f}%\".format(100 * p1 / total_p))\n",
    "print(\"Percentage of 2nd-Class Passengers: {:.3f}%\".format(100 * p2 / total_p))\n",
    "print(\"Percentage of 3rd-Class Passengers: {:.3f}%\".format(100 * p3 / total_p))"
   ]
  },
  {
   "cell_type": "markdown",
   "metadata": {
    "id": "9QPumGf5gRFG"
   },
   "source": [
    "### 🔶 Q2: How many passengers were female and under the age of 30?\n",
    "\n",
    "**Two major logical arguments:**\n",
    "- `Sex`: _Female_\n",
    "- `Age`: <30"
   ]
  },
  {
   "cell_type": "code",
   "execution_count": 14,
   "metadata": {
    "colab": {
     "base_uri": "https://localhost:8080/"
    },
    "execution": {
     "iopub.execute_input": "2023-09-13T00:41:27.060631Z",
     "iopub.status.busy": "2023-09-13T00:41:27.060371Z",
     "iopub.status.idle": "2023-09-13T00:41:27.067050Z",
     "shell.execute_reply": "2023-09-13T00:41:27.066253Z"
    },
    "id": "8UNw7Bwdch8X",
    "outputId": "2543be80-94af-4378-b036-85f4d4bf3dfa"
   },
   "outputs": [
    {
     "data": {
      "text/plain": [
       "147"
      ]
     },
     "execution_count": 14,
     "metadata": {},
     "output_type": "execute_result"
    }
   ],
   "source": [
    "# Identify logical arguments/constraints\n",
    "ARG_FEMALE =        (dataset[\"Sex\"] == \"female\")\n",
    "ARG_LESS_THAN_30 =  (dataset[\"Age\"] < 30)\n",
    "\n",
    "# Multislice dataset based on logical arguments\n",
    "dataset_young_women = dataset[ARG_FEMALE & ARG_LESS_THAN_30]\n",
    "\n",
    "len(dataset_young_women)"
   ]
  },
  {
   "cell_type": "markdown",
   "metadata": {
    "id": "xSNDSdS5RGhh"
   },
   "source": [
    "### 🔶 Q3: In Class Question:\n",
    "\n",
    "#### `What percentage of passengers paid more than $38.00 per ticket and survived the wreck?`\n",
    "\n",
    "(**NOTE**: _Make sure it's a descriptive question and not inferential or predictive!_)\n"
   ]
  },
  {
   "cell_type": "code",
   "execution_count": 15,
   "metadata": {
    "execution": {
     "iopub.execute_input": "2023-09-13T00:41:27.071512Z",
     "iopub.status.busy": "2023-09-13T00:41:27.071281Z",
     "iopub.status.idle": "2023-09-13T00:41:27.077835Z",
     "shell.execute_reply": "2023-09-13T00:41:27.076926Z"
    }
   },
   "outputs": [
    {
     "data": {
      "text/plain": [
       "118"
      ]
     },
     "execution_count": 15,
     "metadata": {},
     "output_type": "execute_result"
    }
   ],
   "source": [
    "len(dataset[(dataset[\"Fare\"] > 38.00) & (dataset[\"Survived\"] == 1)])"
   ]
  },
  {
   "cell_type": "markdown",
   "metadata": {
    "id": "AzfZ4tpMhiFW"
   },
   "source": [
    "---\n",
    "\n",
    "## 📌 **REQUIRED OBJECTIVE!** 📌\n",
    "\n",
    "**Ask at least three more descriptive questions and make use of data slicing, basic data analysis techniques, and any methods available in the Numpy/Pandas cheatsheets to answer the questions.**\n",
    "\n",
    "(_If you do not know the technical method to answer a question, at least define the general process for how to do so._)\n",
    "\n",
    "---"
   ]
  },
  {
   "cell_type": "code",
   "execution_count": 16,
   "metadata": {
    "execution": {
     "iopub.execute_input": "2023-09-13T00:41:27.081104Z",
     "iopub.status.busy": "2023-09-13T00:41:27.080871Z",
     "iopub.status.idle": "2023-09-13T00:41:27.091800Z",
     "shell.execute_reply": "2023-09-13T00:41:27.086345Z"
    },
    "id": "Y6rbeuQ3TVnE"
   },
   "outputs": [
    {
     "data": {
      "text/plain": [
       "36"
      ]
     },
     "execution_count": 16,
     "metadata": {},
     "output_type": "execute_result"
    }
   ],
   "source": [
    "# Question One:\n",
    "# Of the survivors, how many had a family onboard?\n",
    "survivors = dataset[\"Survived\"] == 1\n",
    "had_family = (dataset[\"SibSp\"] & dataset[\"Parch\"])\n",
    "\n",
    "len(dataset[survivors & had_family])"
   ]
  },
  {
   "cell_type": "code",
   "execution_count": 17,
   "metadata": {
    "execution": {
     "iopub.execute_input": "2023-09-13T00:41:27.095028Z",
     "iopub.status.busy": "2023-09-13T00:41:27.094630Z",
     "iopub.status.idle": "2023-09-13T00:41:27.104441Z",
     "shell.execute_reply": "2023-09-13T00:41:27.103636Z"
    }
   },
   "outputs": [
    {
     "data": {
      "text/plain": [
       "Age\n",
       "20.0-24.0    114\n",
       "Name: count, dtype: int64"
      ]
     },
     "execution_count": 17,
     "metadata": {},
     "output_type": "execute_result"
    }
   ],
   "source": [
    "# Question Two:\n",
    "# Chunking the ages into groups of 5, what age chunk had the most survivors?\n",
    "\n",
    "only_aged_passengers = dataset[dataset[\"Age\"].notna()]\n",
    "age_groups = only_aged_passengers[\"Age\"].apply(lambda age: f\"{(age // 5) * 5}-{((age // 5) * 5) + 4}\")\n",
    "\n",
    "# Find the age_group that appears the most\n",
    "age_groups.value_counts().head(1)\n"
   ]
  },
  {
   "cell_type": "code",
   "execution_count": 18,
   "metadata": {
    "execution": {
     "iopub.execute_input": "2023-09-13T00:41:27.107826Z",
     "iopub.status.busy": "2023-09-13T00:41:27.107338Z",
     "iopub.status.idle": "2023-09-13T00:41:27.114528Z",
     "shell.execute_reply": "2023-09-13T00:41:27.113752Z"
    }
   },
   "outputs": [
    {
     "name": "stderr",
     "output_type": "stream",
     "text": [
      "/tmp/ipykernel_1997/760560915.py:4: UserWarning: Boolean Series key will be reindexed to match DataFrame index.\n",
      "  young_survivors = only_aged_passengers[(dataset[\"Age\"] <= 16) & (dataset[\"Survived\"] == 1)]\n"
     ]
    },
    {
     "data": {
      "text/plain": [
       "55"
      ]
     },
     "execution_count": 18,
     "metadata": {},
     "output_type": "execute_result"
    }
   ],
   "source": [
    "# Question Three:\n",
    "# How many children, those less than 16, survive?\n",
    "\n",
    "young_survivors = only_aged_passengers[(dataset[\"Age\"] <= 16) & (dataset[\"Survived\"] == 1)]\n",
    "\n",
    "len(young_survivors)\n"
   ]
  },
  {
   "cell_type": "markdown",
   "metadata": {
    "id": "izza2IY8EhCs"
   },
   "source": [
    "---\n",
    "\n",
    "## 📌 **REQUIRED OBJECTIVE!** 📌\n",
    "\n",
    "Refer to the **[Pandas Cheatsheet](https://images.datacamp.com/image/upload/v1676302204/Marketing/Blog/Pandas_Cheat_Sheet.pdf)** and **[NumPy Cheatsheet](https://images.datacamp.com/image/upload/v1676302459/Marketing/Blog/Numpy_Cheat_Sheet.pdf)** and implement at least three unique functions/methods from each package that you have not yet used before.\n",
    "\n",
    "Feel free to refer to documentation and resources online to better understand what you can do with `pandas` and `numpy`!\n",
    "\n",
    "---"
   ]
  },
  {
   "cell_type": "code",
   "execution_count": 19,
   "metadata": {
    "execution": {
     "iopub.execute_input": "2023-09-13T00:41:27.118391Z",
     "iopub.status.busy": "2023-09-13T00:41:27.117962Z",
     "iopub.status.idle": "2023-09-13T00:41:27.122582Z",
     "shell.execute_reply": "2023-09-13T00:41:27.121912Z"
    },
    "id": "Mh6hDf_uLUgX"
   },
   "outputs": [],
   "source": [
    "# Students: write some code here!\n",
    "\n",
    "# accidentally did all of that above lol\n",
    "# notna\n",
    "# apply\n",
    "# dataset slicing (only_aged_passengers = dataset[dataset[\"Age\"].notna()]))"
   ]
  },
  {
   "cell_type": "markdown",
   "metadata": {
    "id": "BYiwi_tAfFnx"
   },
   "source": [
    "---\n",
    "\n",
    "## ✨ **LEVEL UP IN DATA SCIENCE** ✨\n",
    "\n",
    "Complete the following objectives to ensure you have a good introductory presence in the world of data science:\n",
    "\n",
    "1. Download an individual version of the **[Anaconda Distribution](https://www.anaconda.com/products/individual)** so you can have a Python distribution dedicated for data science and analysis on your local computer. 🐍\n",
    "\n",
    "2. From your Anaconda Distribution, open a **Jupyter Notebook** and save it to a relevant location on your computer (e.g. a development folder or your Desktop). 🪐\n",
    "\n",
    "3. Ensure your Python distribution is working effectively by creating a **dummy script/function** (e.g. Hello World) in a Jupyter cell. ✅\n",
    "\n",
    "4. Take a quick break and visit **[Kaggle.com](https://www.kaggle.com/)**; create an individual account using either your DU credentials or an email account of your preference. 👤\n",
    "\n",
    "5. Using the sidebar on the Kaggle page, explore the expanse of **[Kaggle Datasets](https://www.kaggle.com/datasets)** and download a dataset of your choice that seems interesting to explore. (**NOTE**: _For simplicity's sake, ensure that the dataset is a `.csv`-type file._) 📜\n",
    "\n",
    "6. Utilize **`NumPy`** and **`Pandas`** in a Jupyter Notebook to begin **exploring your dataset** as a DataFrame object. 🔍\n",
    "\n",
    "7. Perform an introductory **Exploratory Data Analysis** on your newly downloaded data similar to what we performed in this current notebook: explore and clean up your data a little bit before asking and answering some **basic descriptive analysis questions**. 💬\n",
    "\n",
    "---"
   ]
  },
  {
   "cell_type": "markdown",
   "metadata": {
    "id": "ph2NDCmdTiID"
   },
   "source": [
    "---\n",
    "---\n",
    "---"
   ]
  }
 ],
 "metadata": {
  "colab": {
   "provenance": []
  },
  "kernelspec": {
   "display_name": "Python 3",
   "name": "python3"
  },
  "language_info": {
   "codemirror_mode": {
    "name": "ipython",
    "version": 3
   },
   "file_extension": ".py",
   "mimetype": "text/x-python",
   "name": "python",
   "nbconvert_exporter": "python",
   "pygments_lexer": "ipython3",
   "version": "3.11.5"
  }
 },
 "nbformat": 4,
 "nbformat_minor": 0
}
