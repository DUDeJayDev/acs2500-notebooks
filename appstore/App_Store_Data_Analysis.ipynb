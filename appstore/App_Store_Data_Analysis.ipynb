{
 "cells": [
  {
   "cell_type": "markdown",
   "metadata": {
    "id": "wBnAVInWP4jg"
   },
   "source": [
    "---\n",
    "---\n",
    "---"
   ]
  },
  {
   "cell_type": "markdown",
   "metadata": {
    "id": "7piNVX5eBvMW"
   },
   "source": [
    "# ✨ **CHALLENGE**: Introductory Data Analysis with App Store Data ✨\n",
    "\n",
    "In this challenge, you'll put your basic descriptive data analysis skills to the test by performing some basic data exploration and evaluation of an unfamiliar dataset before answer a multitude of predetermined and conditional descriptive questions.\n",
    "\n",
    "By the end of this notebook, you should feel much more comfortable with your analysis and exploration skill set, even when limited to just leveraging `numpy` and `pandas`."
   ]
  },
  {
   "cell_type": "markdown",
   "metadata": {
    "id": "JGoILSx0CFil"
   },
   "source": [
    "---\n",
    "---"
   ]
  },
  {
   "cell_type": "markdown",
   "metadata": {
    "id": "02B0P767CGz_"
   },
   "source": [
    "## 💠 **PART ONE**: Importations and Initializations 💠"
   ]
  },
  {
   "cell_type": "markdown",
   "metadata": {
    "id": "86BFSgsuCMIM"
   },
   "source": [
    "Every time we do anything in the realm of data science, we should consider designing our development process to most effectively reflect an engineering pipeline that makes sense.\n",
    "\n",
    "Generally, it can be useful to identify all major dependencies and libraries up front so we don't have to worry about outstanding external dependencies later on.\n",
    "\n",
    "As such, we'll start by importing relevant data structures, objects, and libraries needed to perform some exploratory data analyses - namely `numpy` and `pandas`."
   ]
  },
  {
   "cell_type": "code",
   "execution_count": 1,
   "metadata": {
    "execution": {
     "iopub.execute_input": "2023-10-04T08:42:34.258568Z",
     "iopub.status.busy": "2023-10-04T08:42:34.258165Z",
     "iopub.status.idle": "2023-10-04T08:42:34.580857Z",
     "shell.execute_reply": "2023-10-04T08:42:34.579742Z"
    },
    "id": "hTDj7-MAPuMk"
   },
   "outputs": [],
   "source": [
    "import numpy as numpy    # Numerical Python Operations\n",
    "import pandas as pandas      # DataFrame Operations\n"
   ]
  },
  {
   "cell_type": "markdown",
   "metadata": {
    "id": "dI-PnEF7fdni"
   },
   "source": [
    "---\n",
    "\n",
    "### 📌 **REQUIRED CHALLENGE!** 📌\n",
    "\n",
    "> Take a moment to reflect on the full scale of libraries, packages, and dependencies available to you as a data analyst.\n",
    ">\n",
    "> **For this challenge, create a text cell below and write some thoughts on what other libraries and tools you'd like to use to augment your data analysis skills, given what you already know.**\n",
    ">\n",
    "> Feel free to be creative with this question; you do not have to reference only the specific libraries that we've covered in class.\n",
    "\n",
    "---"
   ]
  },
  {
   "cell_type": "markdown",
   "metadata": {
    "id": "KU1CWDxmgAYj"
   },
   "source": [
    "We're now ready to get access to our dataset: the **App Store** data!"
   ]
  },
  {
   "cell_type": "code",
   "execution_count": 2,
   "metadata": {
    "execution": {
     "iopub.execute_input": "2023-10-04T08:42:34.585893Z",
     "iopub.status.busy": "2023-10-04T08:42:34.585324Z",
     "iopub.status.idle": "2023-10-04T08:42:34.618393Z",
     "shell.execute_reply": "2023-10-04T08:42:34.617587Z"
    },
    "id": "xHYLVgJDP0cG"
   },
   "outputs": [],
   "source": [
    "# Create and set absolute dataset path\n",
    "# Note: reuploaded into this repo for ease of viewing locally\n",
    "PATH_DATASET = \"AppleStore.csv\"\n",
    "\n",
    "# Save dataset as Pandas DataFrame\n",
    "dataset = pandas.read_csv(PATH_DATASET)"
   ]
  },
  {
   "cell_type": "code",
   "execution_count": 3,
   "metadata": {
    "colab": {
     "base_uri": "https://localhost:8080/",
     "height": 135
    },
    "execution": {
     "iopub.execute_input": "2023-10-04T08:42:34.622477Z",
     "iopub.status.busy": "2023-10-04T08:42:34.622032Z",
     "iopub.status.idle": "2023-10-04T08:42:34.638415Z",
     "shell.execute_reply": "2023-10-04T08:42:34.637730Z"
    },
    "id": "5BXwVOpXnuIA",
    "outputId": "dd056c82-a08a-4c83-a86b-1a345a587d87"
   },
   "outputs": [
    {
     "data": {
      "text/html": [
       "<div>\n",
       "<style scoped>\n",
       "    .dataframe tbody tr th:only-of-type {\n",
       "        vertical-align: middle;\n",
       "    }\n",
       "\n",
       "    .dataframe tbody tr th {\n",
       "        vertical-align: top;\n",
       "    }\n",
       "\n",
       "    .dataframe thead th {\n",
       "        text-align: right;\n",
       "    }\n",
       "</style>\n",
       "<table border=\"1\" class=\"dataframe\">\n",
       "  <thead>\n",
       "    <tr style=\"text-align: right;\">\n",
       "      <th></th>\n",
       "      <th>Unnamed: 0</th>\n",
       "      <th>id</th>\n",
       "      <th>track_name</th>\n",
       "      <th>size_bytes</th>\n",
       "      <th>currency</th>\n",
       "      <th>price</th>\n",
       "      <th>rating_count_tot</th>\n",
       "      <th>rating_count_ver</th>\n",
       "      <th>user_rating</th>\n",
       "      <th>user_rating_ver</th>\n",
       "      <th>ver</th>\n",
       "      <th>cont_rating</th>\n",
       "      <th>prime_genre</th>\n",
       "      <th>sup_devices.num</th>\n",
       "      <th>ipadSc_urls.num</th>\n",
       "      <th>lang.num</th>\n",
       "      <th>vpp_lic</th>\n",
       "    </tr>\n",
       "  </thead>\n",
       "  <tbody>\n",
       "    <tr>\n",
       "      <th>0</th>\n",
       "      <td>1</td>\n",
       "      <td>281656475</td>\n",
       "      <td>PAC-MAN Premium</td>\n",
       "      <td>100788224</td>\n",
       "      <td>USD</td>\n",
       "      <td>3.99</td>\n",
       "      <td>21292</td>\n",
       "      <td>26</td>\n",
       "      <td>4.0</td>\n",
       "      <td>4.5</td>\n",
       "      <td>6.3.5</td>\n",
       "      <td>4+</td>\n",
       "      <td>Games</td>\n",
       "      <td>38</td>\n",
       "      <td>5</td>\n",
       "      <td>10</td>\n",
       "      <td>1</td>\n",
       "    </tr>\n",
       "  </tbody>\n",
       "</table>\n",
       "</div>"
      ],
      "text/plain": [
       "   Unnamed: 0         id       track_name  size_bytes currency  price  \\\n",
       "0           1  281656475  PAC-MAN Premium   100788224      USD   3.99   \n",
       "\n",
       "   rating_count_tot  rating_count_ver  user_rating  user_rating_ver    ver  \\\n",
       "0             21292                26          4.0              4.5  6.3.5   \n",
       "\n",
       "  cont_rating prime_genre  sup_devices.num  ipadSc_urls.num  lang.num  vpp_lic  \n",
       "0          4+       Games               38                5        10        1  "
      ]
     },
     "execution_count": 3,
     "metadata": {},
     "output_type": "execute_result"
    }
   ],
   "source": [
    "dataset.head(1)"
   ]
  },
  {
   "cell_type": "markdown",
   "metadata": {
    "id": "wqiyNMS9l-OK"
   },
   "source": [
    "Before we jump too deeply into an analysis, it's important to apply some creative thinking to help us better understand our data."
   ]
  },
  {
   "cell_type": "markdown",
   "metadata": {
    "id": "wjiQ1CfjmdVk"
   },
   "source": [
    "---\n",
    "\n",
    "### 📌 **REQUIRED CHALLENGE!** 📌\n",
    "\n",
    "> If you recall, data dictionaries can help us exponentially in understanding how our data is shaped, what features/variables it comprises, and what sorts of questions we can ask.\n",
    ">\n",
    "> Many times, we can access data dictionaries as metadata, external objects, or other files associated with a data download.\n",
    ">\n",
    "> However, for this exercise, let's see if you can't intuit your way into interpret what each column most likely represents by creating your own data dictionary.\n",
    ">\n",
    "> **Your challenge is to fill in the following cell's data dictionary structure with interpretations for each of the dataset's features.**\n",
    ">\n",
    "> Apply logic and reasoning, and feel free to access any external reasoning to maintain confidence about what each column most likely means across the data.\n",
    ">\n",
    "> (**NOTE**: If you become stumped and want to check your answers, feel free to **[access the data source](https://www.kaggle.com/ramamet4/app-store-apple-data-set-10k-apps)** to ***verify*** your data dictionary assignments and ensure you have the appropriate information before moving forward.)\n",
    "\n",
    "---"
   ]
  },
  {
   "cell_type": "markdown",
   "metadata": {
    "id": "CFcjs56qni0y"
   },
   "source": [
    "#### 🔎 **App Store Data Dictionary** 🔍\n",
    "\n",
    "- `Unnamed:0`: index\n",
    "- `id`: app id\n",
    "- `track_name`: app name\n",
    "- `size_bytes`: ipa filesize bundle\n",
    "- `currency`: purchase currency\n",
    "- `price`: price in local currency\n",
    "- `rating_count_tot`: amount of ratings in total\n",
    "- `rating_count_ver`: amount of ratings for this version of the app\n",
    "- `user_rating`: calculated app rating\n",
    "- `user_rating_ver`: calculated app rating for this version of the app\n",
    "- `ver`: app version\n",
    "- `cont_rating`: content rating\n",
    "- `prime_genre`: primary genre\n",
    "- `sup_devices.num`: amount of devices supported by the app\n",
    "- `lang.num`: amount of languages supported by the app\n",
    "- `vpp_lic`: apple bs i dont remember"
   ]
  },
  {
   "cell_type": "markdown",
   "metadata": {
    "id": "FrvHnY6qf-8b"
   },
   "source": [
    "Now that we have our toolkit and dataset, it's time to start exploring our data... the best way you know how. After all, you're the one exploring it!"
   ]
  },
  {
   "cell_type": "markdown",
   "metadata": {
    "id": "ypcFps7qrjAa"
   },
   "source": [
    "---\n",
    "---"
   ]
  },
  {
   "cell_type": "markdown",
   "metadata": {
    "id": "weSufZ6uhw7t"
   },
   "source": [
    "## 💠 **PART TWO**: Basic Data Exploration 💠"
   ]
  },
  {
   "cell_type": "markdown",
   "metadata": {
    "id": "xc5GQ4UfM_kt"
   },
   "source": [
    "---\n",
    "\n",
    "### 📌 **REQUIRED CHALLENGE!** 📌\n",
    "\n",
    "> Data exploration is an incredibly important skill to hone and maintain, no matter the data!\n",
    ">\n",
    "> How else will you start developing the ability to ask interesting and relevant descriptive questions?\n",
    ">\n",
    "> **For this challenge, you will use as little or as many cells as you'd like to perform some basic data exploration and cleaning, ensuring that your data's integrity is as optimized as possible.**\n",
    ">\n",
    "> This could mean imputing null values, categorizing data, combining features, dropping noisy columns, etc.\n",
    ">\n",
    "> In other words, now's the time for creative decision-making - do whatever you think is best to ensure your data is as sanitary as it could be while ideating on some interesting questions to ask!\n",
    "\n",
    "---"
   ]
  },
  {
   "cell_type": "markdown",
   "metadata": {},
   "source": []
  },
  {
   "cell_type": "code",
   "execution_count": 4,
   "metadata": {
    "execution": {
     "iopub.execute_input": "2023-10-04T08:42:34.688338Z",
     "iopub.status.busy": "2023-10-04T08:42:34.687656Z",
     "iopub.status.idle": "2023-10-04T08:42:34.702541Z",
     "shell.execute_reply": "2023-10-04T08:42:34.701970Z"
    },
    "id": "8gKnwdRugXW9"
   },
   "outputs": [
    {
     "data": {
      "text/html": [
       "<div>\n",
       "<style scoped>\n",
       "    .dataframe tbody tr th:only-of-type {\n",
       "        vertical-align: middle;\n",
       "    }\n",
       "\n",
       "    .dataframe tbody tr th {\n",
       "        vertical-align: top;\n",
       "    }\n",
       "\n",
       "    .dataframe thead th {\n",
       "        text-align: right;\n",
       "    }\n",
       "</style>\n",
       "<table border=\"1\" class=\"dataframe\">\n",
       "  <thead>\n",
       "    <tr style=\"text-align: right;\">\n",
       "      <th></th>\n",
       "      <th>id</th>\n",
       "      <th>track_name</th>\n",
       "      <th>size_bytes</th>\n",
       "      <th>currency</th>\n",
       "      <th>price</th>\n",
       "      <th>rating_count_tot</th>\n",
       "      <th>rating_count_ver</th>\n",
       "      <th>user_rating</th>\n",
       "      <th>user_rating_ver</th>\n",
       "      <th>ver</th>\n",
       "      <th>cont_rating</th>\n",
       "      <th>prime_genre</th>\n",
       "      <th>sup_devices.num</th>\n",
       "      <th>ipadSc_urls.num</th>\n",
       "      <th>lang.num</th>\n",
       "      <th>vpp_lic</th>\n",
       "    </tr>\n",
       "  </thead>\n",
       "  <tbody>\n",
       "    <tr>\n",
       "      <th>0</th>\n",
       "      <td>281656475</td>\n",
       "      <td>PAC-MAN Premium</td>\n",
       "      <td>100788224</td>\n",
       "      <td>USD</td>\n",
       "      <td>3.99</td>\n",
       "      <td>21292</td>\n",
       "      <td>26</td>\n",
       "      <td>4.0</td>\n",
       "      <td>4.5</td>\n",
       "      <td>6.3.5</td>\n",
       "      <td>4+</td>\n",
       "      <td>Games</td>\n",
       "      <td>38</td>\n",
       "      <td>5</td>\n",
       "      <td>10</td>\n",
       "      <td>1</td>\n",
       "    </tr>\n",
       "    <tr>\n",
       "      <th>1</th>\n",
       "      <td>281796108</td>\n",
       "      <td>Evernote - stay organized</td>\n",
       "      <td>158578688</td>\n",
       "      <td>USD</td>\n",
       "      <td>0.00</td>\n",
       "      <td>161065</td>\n",
       "      <td>26</td>\n",
       "      <td>4.0</td>\n",
       "      <td>3.5</td>\n",
       "      <td>8.2.2</td>\n",
       "      <td>4+</td>\n",
       "      <td>Productivity</td>\n",
       "      <td>37</td>\n",
       "      <td>5</td>\n",
       "      <td>23</td>\n",
       "      <td>1</td>\n",
       "    </tr>\n",
       "  </tbody>\n",
       "</table>\n",
       "</div>"
      ],
      "text/plain": [
       "          id                 track_name  size_bytes currency  price  \\\n",
       "0  281656475            PAC-MAN Premium   100788224      USD   3.99   \n",
       "1  281796108  Evernote - stay organized   158578688      USD   0.00   \n",
       "\n",
       "   rating_count_tot  rating_count_ver  user_rating  user_rating_ver    ver  \\\n",
       "0             21292                26          4.0              4.5  6.3.5   \n",
       "1            161065                26          4.0              3.5  8.2.2   \n",
       "\n",
       "  cont_rating   prime_genre  sup_devices.num  ipadSc_urls.num  lang.num  \\\n",
       "0          4+         Games               38                5        10   \n",
       "1          4+  Productivity               37                5        23   \n",
       "\n",
       "   vpp_lic  \n",
       "0        1  \n",
       "1        1  "
      ]
     },
     "execution_count": 4,
     "metadata": {},
     "output_type": "execute_result"
    }
   ],
   "source": [
    "# Drop Unneeded Unnamed:0\n",
    "\n",
    "try:\n",
    "    dataset.drop(columns='Unnamed: 0', inplace=True)\n",
    "except:\n",
    "    pass \n",
    "\n",
    "dataset.head(2)"
   ]
  },
  {
   "cell_type": "code",
   "execution_count": 5,
   "metadata": {
    "execution": {
     "iopub.execute_input": "2023-10-04T08:42:34.705831Z",
     "iopub.status.busy": "2023-10-04T08:42:34.705105Z",
     "iopub.status.idle": "2023-10-04T08:42:34.715380Z",
     "shell.execute_reply": "2023-10-04T08:42:34.714701Z"
    },
    "id": "J9MWpCWbgklv"
   },
   "outputs": [
    {
     "data": {
      "text/plain": [
       "0                                         PAC-MAN Premium\n",
       "1                               Evernote - stay organized\n",
       "2         WeatherBug - Local Weather, Radar, Maps, Alerts\n",
       "3       eBay: Best App to Buy, Sell, Save! Online Shop...\n",
       "4                                                   Bible\n",
       "                              ...                        \n",
       "7192                                                Kubik\n",
       "7193                                    VR Roller-Coaster\n",
       "7194                Bret Michaels Emojis + Lyric Keyboard\n",
       "7195            VR Roller Coaster World - Virtual Reality\n",
       "7196                         Escape the Sweet Shop Series\n",
       "Name: track_name, Length: 7197, dtype: object"
      ]
     },
     "execution_count": 5,
     "metadata": {},
     "output_type": "execute_result"
    }
   ],
   "source": [
    "# STUDENTS: write some code here! Feel free to create more cells too!\n",
    "\n",
    "# Replace smart quotes with standard quotes\n",
    "def replace_smart_quotes(text):\n",
    "    text = text.replace(u'\\u201c', u'\"').replace(u'\\u201d', u'\"')\n",
    "    text = text.replace(u'\\u2014', u'-').replace(u'\\u2013', u'-')\n",
    "    return text\n",
    "\n",
    "dataset['track_name'].apply(lambda name: replace_smart_quotes(name))\n"
   ]
  },
  {
   "cell_type": "markdown",
   "metadata": {
    "id": "OLTbsPA9gchK"
   },
   "source": [
    "---\n",
    "---"
   ]
  },
  {
   "cell_type": "markdown",
   "metadata": {
    "id": "arAv56RKhijh"
   },
   "source": [
    "## 💠 **PART THREE**: Descriptive Analysis 💠"
   ]
  },
  {
   "cell_type": "markdown",
   "metadata": {
    "id": "THa6ihVKhNwo"
   },
   "source": [
    "---\n",
    "\n",
    "### 📌 **REQUIRED CHALLENGE!** 📌\n",
    "\n",
    "> Descriptive analyses are powered by one major idea: asking critical questions about our data's relationships, patterns, and distributions.\n",
    ">\n",
    "> However, before we get there, let's at least get some basic fundamentals down for assessing our descriptive analysis capabilities.\n",
    ">\n",
    "> **Your challenge is to answer the following five descriptive analysis questions as best as you can and as programmatically as you can, relying on `numpy` and `pandas` to get the job done.**\n",
    ">\n",
    "> For starters, we'll navigate through some predetermined descriptive questions - ensure you utilize the full range of your `numpy` and `pandas` analytical skills to answer them to the best of your ability!\n",
    ">\n",
    "> Additionally, major predetermined questions have some helper comments provided to assist you in streamlining your development process.\n",
    "\n",
    "---"
   ]
  },
  {
   "cell_type": "markdown",
   "metadata": {
    "id": "6TtvsllfRHhj"
   },
   "source": [
    "### 🔸 **Q1**: `What are the top ten highest rated free to play apps?`\n",
    "\n",
    "(**NOTE**: _Use ratings of current versions._)"
   ]
  },
  {
   "cell_type": "code",
   "execution_count": 6,
   "metadata": {
    "execution": {
     "iopub.execute_input": "2023-10-04T08:42:34.718547Z",
     "iopub.status.busy": "2023-10-04T08:42:34.718200Z",
     "iopub.status.idle": "2023-10-04T08:42:34.737827Z",
     "shell.execute_reply": "2023-10-04T08:42:34.737279Z"
    },
    "id": "H6Fquzn0Sek3"
   },
   "outputs": [
    {
     "data": {
      "text/html": [
       "<div>\n",
       "<style scoped>\n",
       "    .dataframe tbody tr th:only-of-type {\n",
       "        vertical-align: middle;\n",
       "    }\n",
       "\n",
       "    .dataframe tbody tr th {\n",
       "        vertical-align: top;\n",
       "    }\n",
       "\n",
       "    .dataframe thead th {\n",
       "        text-align: right;\n",
       "    }\n",
       "</style>\n",
       "<table border=\"1\" class=\"dataframe\">\n",
       "  <thead>\n",
       "    <tr style=\"text-align: right;\">\n",
       "      <th></th>\n",
       "      <th>id</th>\n",
       "      <th>track_name</th>\n",
       "      <th>size_bytes</th>\n",
       "      <th>currency</th>\n",
       "      <th>price</th>\n",
       "      <th>rating_count_tot</th>\n",
       "      <th>rating_count_ver</th>\n",
       "      <th>user_rating</th>\n",
       "      <th>user_rating_ver</th>\n",
       "      <th>ver</th>\n",
       "      <th>cont_rating</th>\n",
       "      <th>prime_genre</th>\n",
       "      <th>sup_devices.num</th>\n",
       "      <th>ipadSc_urls.num</th>\n",
       "      <th>lang.num</th>\n",
       "      <th>vpp_lic</th>\n",
       "    </tr>\n",
       "  </thead>\n",
       "  <tbody>\n",
       "    <tr>\n",
       "      <th>5903</th>\n",
       "      <td>1102828488</td>\n",
       "      <td>Delicious - Emily’s Message in a Bottle</td>\n",
       "      <td>336847872</td>\n",
       "      <td>USD</td>\n",
       "      <td>0.0</td>\n",
       "      <td>333</td>\n",
       "      <td>42</td>\n",
       "      <td>4.0</td>\n",
       "      <td>5.0</td>\n",
       "      <td>1.5</td>\n",
       "      <td>4+</td>\n",
       "      <td>Games</td>\n",
       "      <td>38</td>\n",
       "      <td>5</td>\n",
       "      <td>11</td>\n",
       "      <td>1</td>\n",
       "    </tr>\n",
       "    <tr>\n",
       "      <th>4124</th>\n",
       "      <td>1024000488</td>\n",
       "      <td>浪漫庄园(自由创造你的梦想)</td>\n",
       "      <td>97181696</td>\n",
       "      <td>USD</td>\n",
       "      <td>0.0</td>\n",
       "      <td>36</td>\n",
       "      <td>17</td>\n",
       "      <td>4.5</td>\n",
       "      <td>5.0</td>\n",
       "      <td>1.3.9</td>\n",
       "      <td>12+</td>\n",
       "      <td>Games</td>\n",
       "      <td>40</td>\n",
       "      <td>5</td>\n",
       "      <td>1</td>\n",
       "      <td>1</td>\n",
       "    </tr>\n",
       "    <tr>\n",
       "      <th>5896</th>\n",
       "      <td>1102520605</td>\n",
       "      <td>CNN Politics</td>\n",
       "      <td>30449664</td>\n",
       "      <td>USD</td>\n",
       "      <td>0.0</td>\n",
       "      <td>254</td>\n",
       "      <td>1</td>\n",
       "      <td>3.0</td>\n",
       "      <td>5.0</td>\n",
       "      <td>2.8.2</td>\n",
       "      <td>4+</td>\n",
       "      <td>News</td>\n",
       "      <td>37</td>\n",
       "      <td>0</td>\n",
       "      <td>1</td>\n",
       "      <td>1</td>\n",
       "    </tr>\n",
       "    <tr>\n",
       "      <th>1234</th>\n",
       "      <td>510461758</td>\n",
       "      <td>Bike Race - Top Motorcycle Racing Games</td>\n",
       "      <td>120187904</td>\n",
       "      <td>USD</td>\n",
       "      <td>0.0</td>\n",
       "      <td>405007</td>\n",
       "      <td>4053</td>\n",
       "      <td>4.5</td>\n",
       "      <td>5.0</td>\n",
       "      <td>7.3.11</td>\n",
       "      <td>4+</td>\n",
       "      <td>Games</td>\n",
       "      <td>38</td>\n",
       "      <td>5</td>\n",
       "      <td>9</td>\n",
       "      <td>1</td>\n",
       "    </tr>\n",
       "    <tr>\n",
       "      <th>1236</th>\n",
       "      <td>510855668</td>\n",
       "      <td>Amazon Music</td>\n",
       "      <td>77778944</td>\n",
       "      <td>USD</td>\n",
       "      <td>0.0</td>\n",
       "      <td>106235</td>\n",
       "      <td>4605</td>\n",
       "      <td>4.5</td>\n",
       "      <td>5.0</td>\n",
       "      <td>6.5.0</td>\n",
       "      <td>4+</td>\n",
       "      <td>Music</td>\n",
       "      <td>37</td>\n",
       "      <td>5</td>\n",
       "      <td>6</td>\n",
       "      <td>1</td>\n",
       "    </tr>\n",
       "    <tr>\n",
       "      <th>4230</th>\n",
       "      <td>1032240256</td>\n",
       "      <td>【真・お絵かきパズル】〇〇投げてみた結果ｗｗ　完全無料！</td>\n",
       "      <td>69857280</td>\n",
       "      <td>USD</td>\n",
       "      <td>0.0</td>\n",
       "      <td>12</td>\n",
       "      <td>1</td>\n",
       "      <td>4.5</td>\n",
       "      <td>5.0</td>\n",
       "      <td>1.1.0</td>\n",
       "      <td>4+</td>\n",
       "      <td>Games</td>\n",
       "      <td>40</td>\n",
       "      <td>0</td>\n",
       "      <td>1</td>\n",
       "      <td>1</td>\n",
       "    </tr>\n",
       "    <tr>\n",
       "      <th>5791</th>\n",
       "      <td>1097469600</td>\n",
       "      <td>Beyond 14</td>\n",
       "      <td>99192832</td>\n",
       "      <td>USD</td>\n",
       "      <td>0.0</td>\n",
       "      <td>426</td>\n",
       "      <td>29</td>\n",
       "      <td>4.5</td>\n",
       "      <td>5.0</td>\n",
       "      <td>1.1.2</td>\n",
       "      <td>4+</td>\n",
       "      <td>Games</td>\n",
       "      <td>38</td>\n",
       "      <td>5</td>\n",
       "      <td>6</td>\n",
       "      <td>1</td>\n",
       "    </tr>\n",
       "    <tr>\n",
       "      <th>5778</th>\n",
       "      <td>1096825045</td>\n",
       "      <td>Coin Dozer: Casino</td>\n",
       "      <td>151451648</td>\n",
       "      <td>USD</td>\n",
       "      <td>0.0</td>\n",
       "      <td>2024</td>\n",
       "      <td>340</td>\n",
       "      <td>5.0</td>\n",
       "      <td>5.0</td>\n",
       "      <td>1.6</td>\n",
       "      <td>12+</td>\n",
       "      <td>Games</td>\n",
       "      <td>37</td>\n",
       "      <td>5</td>\n",
       "      <td>1</td>\n",
       "      <td>1</td>\n",
       "    </tr>\n",
       "    <tr>\n",
       "      <th>1252</th>\n",
       "      <td>515094775</td>\n",
       "      <td>Bazaart Photo Editor Pro and Picture Collage M...</td>\n",
       "      <td>120474624</td>\n",
       "      <td>USD</td>\n",
       "      <td>0.0</td>\n",
       "      <td>4909</td>\n",
       "      <td>479</td>\n",
       "      <td>4.5</td>\n",
       "      <td>5.0</td>\n",
       "      <td>4.6.3</td>\n",
       "      <td>4+</td>\n",
       "      <td>Photo &amp; Video</td>\n",
       "      <td>37</td>\n",
       "      <td>2</td>\n",
       "      <td>13</td>\n",
       "      <td>1</td>\n",
       "    </tr>\n",
       "    <tr>\n",
       "      <th>3866</th>\n",
       "      <td>1001501844</td>\n",
       "      <td>Deliveroo: Restaurant Delivery - Order Food Ne...</td>\n",
       "      <td>62734336</td>\n",
       "      <td>USD</td>\n",
       "      <td>0.0</td>\n",
       "      <td>1702</td>\n",
       "      <td>580</td>\n",
       "      <td>4.5</td>\n",
       "      <td>5.0</td>\n",
       "      <td>2.16.1</td>\n",
       "      <td>12+</td>\n",
       "      <td>Food &amp; Drink</td>\n",
       "      <td>37</td>\n",
       "      <td>0</td>\n",
       "      <td>9</td>\n",
       "      <td>1</td>\n",
       "    </tr>\n",
       "  </tbody>\n",
       "</table>\n",
       "</div>"
      ],
      "text/plain": [
       "              id                                         track_name  \\\n",
       "5903  1102828488            Delicious - Emily’s Message in a Bottle   \n",
       "4124  1024000488                                     浪漫庄园(自由创造你的梦想)   \n",
       "5896  1102520605                                       CNN Politics   \n",
       "1234   510461758            Bike Race - Top Motorcycle Racing Games   \n",
       "1236   510855668                                       Amazon Music   \n",
       "4230  1032240256                       【真・お絵かきパズル】〇〇投げてみた結果ｗｗ　完全無料！   \n",
       "5791  1097469600                                          Beyond 14   \n",
       "5778  1096825045                                 Coin Dozer: Casino   \n",
       "1252   515094775  Bazaart Photo Editor Pro and Picture Collage M...   \n",
       "3866  1001501844  Deliveroo: Restaurant Delivery - Order Food Ne...   \n",
       "\n",
       "      size_bytes currency  price  rating_count_tot  rating_count_ver  \\\n",
       "5903   336847872      USD    0.0               333                42   \n",
       "4124    97181696      USD    0.0                36                17   \n",
       "5896    30449664      USD    0.0               254                 1   \n",
       "1234   120187904      USD    0.0            405007              4053   \n",
       "1236    77778944      USD    0.0            106235              4605   \n",
       "4230    69857280      USD    0.0                12                 1   \n",
       "5791    99192832      USD    0.0               426                29   \n",
       "5778   151451648      USD    0.0              2024               340   \n",
       "1252   120474624      USD    0.0              4909               479   \n",
       "3866    62734336      USD    0.0              1702               580   \n",
       "\n",
       "      user_rating  user_rating_ver     ver cont_rating    prime_genre  \\\n",
       "5903          4.0              5.0     1.5          4+          Games   \n",
       "4124          4.5              5.0   1.3.9         12+          Games   \n",
       "5896          3.0              5.0   2.8.2          4+           News   \n",
       "1234          4.5              5.0  7.3.11          4+          Games   \n",
       "1236          4.5              5.0   6.5.0          4+          Music   \n",
       "4230          4.5              5.0   1.1.0          4+          Games   \n",
       "5791          4.5              5.0   1.1.2          4+          Games   \n",
       "5778          5.0              5.0     1.6         12+          Games   \n",
       "1252          4.5              5.0   4.6.3          4+  Photo & Video   \n",
       "3866          4.5              5.0  2.16.1         12+   Food & Drink   \n",
       "\n",
       "      sup_devices.num  ipadSc_urls.num  lang.num  vpp_lic  \n",
       "5903               38                5        11        1  \n",
       "4124               40                5         1        1  \n",
       "5896               37                0         1        1  \n",
       "1234               38                5         9        1  \n",
       "1236               37                5         6        1  \n",
       "4230               40                0         1        1  \n",
       "5791               38                5         6        1  \n",
       "5778               37                5         1        1  \n",
       "1252               37                2        13        1  \n",
       "3866               37                0         9        1  "
      ]
     },
     "execution_count": 6,
     "metadata": {},
     "output_type": "execute_result"
    }
   ],
   "source": [
    "\"\"\"\n",
    "What are the top ten highest rated (use rating of current version) free-to-play apps?\n",
    "\n",
    "> STEP 1: Get all free-to-play apps.\n",
    "> STEP 2: Sort by current version rating.\n",
    "> STEP 3: Get top ten apps.\n",
    "\"\"\"\n",
    "\n",
    "free_apps = dataset[(dataset[\"price\"] == 0.00)]\n",
    "free_apps = free_apps.sort_values(\"user_rating_ver\", ascending=False)\n",
    "\n",
    "# get top ten\n",
    "free_apps.head(10)"
   ]
  },
  {
   "cell_type": "markdown",
   "metadata": {
    "id": "nQdpsjS3RJLr"
   },
   "source": [
    "### 🔸 **Q2**: `What genre has the most apps?`"
   ]
  },
  {
   "cell_type": "code",
   "execution_count": 7,
   "metadata": {
    "execution": {
     "iopub.execute_input": "2023-10-04T08:42:34.741088Z",
     "iopub.status.busy": "2023-10-04T08:42:34.740565Z",
     "iopub.status.idle": "2023-10-04T08:42:34.748095Z",
     "shell.execute_reply": "2023-10-04T08:42:34.747426Z"
    },
    "id": "ypCakz0tS7I6"
   },
   "outputs": [
    {
     "data": {
      "text/plain": [
       "prime_genre\n",
       "Games    3862\n",
       "Name: count, dtype: int64"
      ]
     },
     "execution_count": 7,
     "metadata": {},
     "output_type": "execute_result"
    }
   ],
   "source": [
    "\"\"\"\n",
    "What genre has the most apps?\n",
    "\n",
    "> STEP 1: Use `.value_counts()` to combine app counts by genre.\n",
    "\"\"\"\n",
    "\n",
    "dataset[\"prime_genre\"].value_counts().head(1)"
   ]
  },
  {
   "cell_type": "markdown",
   "metadata": {
    "id": "FN97GpMcRJPd"
   },
   "source": [
    "### 🔸 **Q3**: `For paid apps that are sold in dollars, what is the median rating for each genre?`"
   ]
  },
  {
   "cell_type": "code",
   "execution_count": 8,
   "metadata": {
    "execution": {
     "iopub.execute_input": "2023-10-04T08:42:34.751159Z",
     "iopub.status.busy": "2023-10-04T08:42:34.750812Z",
     "iopub.status.idle": "2023-10-04T08:42:34.870577Z",
     "shell.execute_reply": "2023-10-04T08:42:34.869801Z"
    },
    "id": "Bsgo9PSuTH6K"
   },
   "outputs": [
    {
     "data": {
      "text/html": [
       "<div>\n",
       "<style scoped>\n",
       "    .dataframe tbody tr th:only-of-type {\n",
       "        vertical-align: middle;\n",
       "    }\n",
       "\n",
       "    .dataframe tbody tr th {\n",
       "        vertical-align: top;\n",
       "    }\n",
       "\n",
       "    .dataframe thead th {\n",
       "        text-align: right;\n",
       "    }\n",
       "</style>\n",
       "<table border=\"1\" class=\"dataframe\">\n",
       "  <thead>\n",
       "    <tr style=\"text-align: right;\">\n",
       "      <th></th>\n",
       "      <th>prime_genre</th>\n",
       "      <th>user_rating</th>\n",
       "    </tr>\n",
       "  </thead>\n",
       "  <tbody>\n",
       "    <tr>\n",
       "      <th>0</th>\n",
       "      <td>Book</td>\n",
       "      <td>4.50</td>\n",
       "    </tr>\n",
       "    <tr>\n",
       "      <th>1</th>\n",
       "      <td>Business</td>\n",
       "      <td>4.00</td>\n",
       "    </tr>\n",
       "    <tr>\n",
       "      <th>2</th>\n",
       "      <td>Catalogs</td>\n",
       "      <td>4.50</td>\n",
       "    </tr>\n",
       "    <tr>\n",
       "      <th>3</th>\n",
       "      <td>Education</td>\n",
       "      <td>4.00</td>\n",
       "    </tr>\n",
       "    <tr>\n",
       "      <th>4</th>\n",
       "      <td>Entertainment</td>\n",
       "      <td>4.00</td>\n",
       "    </tr>\n",
       "    <tr>\n",
       "      <th>5</th>\n",
       "      <td>Finance</td>\n",
       "      <td>4.25</td>\n",
       "    </tr>\n",
       "    <tr>\n",
       "      <th>6</th>\n",
       "      <td>Food &amp; Drink</td>\n",
       "      <td>4.00</td>\n",
       "    </tr>\n",
       "    <tr>\n",
       "      <th>7</th>\n",
       "      <td>Games</td>\n",
       "      <td>4.50</td>\n",
       "    </tr>\n",
       "    <tr>\n",
       "      <th>8</th>\n",
       "      <td>Health &amp; Fitness</td>\n",
       "      <td>4.50</td>\n",
       "    </tr>\n",
       "    <tr>\n",
       "      <th>9</th>\n",
       "      <td>Lifestyle</td>\n",
       "      <td>4.00</td>\n",
       "    </tr>\n",
       "    <tr>\n",
       "      <th>10</th>\n",
       "      <td>Medical</td>\n",
       "      <td>4.50</td>\n",
       "    </tr>\n",
       "    <tr>\n",
       "      <th>11</th>\n",
       "      <td>Music</td>\n",
       "      <td>4.00</td>\n",
       "    </tr>\n",
       "    <tr>\n",
       "      <th>12</th>\n",
       "      <td>Navigation</td>\n",
       "      <td>3.50</td>\n",
       "    </tr>\n",
       "    <tr>\n",
       "      <th>13</th>\n",
       "      <td>News</td>\n",
       "      <td>4.00</td>\n",
       "    </tr>\n",
       "    <tr>\n",
       "      <th>14</th>\n",
       "      <td>Photo &amp; Video</td>\n",
       "      <td>4.00</td>\n",
       "    </tr>\n",
       "    <tr>\n",
       "      <th>15</th>\n",
       "      <td>Productivity</td>\n",
       "      <td>4.00</td>\n",
       "    </tr>\n",
       "    <tr>\n",
       "      <th>16</th>\n",
       "      <td>Reference</td>\n",
       "      <td>4.00</td>\n",
       "    </tr>\n",
       "    <tr>\n",
       "      <th>17</th>\n",
       "      <td>Shopping</td>\n",
       "      <td>4.50</td>\n",
       "    </tr>\n",
       "    <tr>\n",
       "      <th>18</th>\n",
       "      <td>Social Networking</td>\n",
       "      <td>3.25</td>\n",
       "    </tr>\n",
       "    <tr>\n",
       "      <th>19</th>\n",
       "      <td>Sports</td>\n",
       "      <td>3.50</td>\n",
       "    </tr>\n",
       "    <tr>\n",
       "      <th>20</th>\n",
       "      <td>Travel</td>\n",
       "      <td>4.00</td>\n",
       "    </tr>\n",
       "    <tr>\n",
       "      <th>21</th>\n",
       "      <td>Utilities</td>\n",
       "      <td>3.50</td>\n",
       "    </tr>\n",
       "    <tr>\n",
       "      <th>22</th>\n",
       "      <td>Weather</td>\n",
       "      <td>4.00</td>\n",
       "    </tr>\n",
       "  </tbody>\n",
       "</table>\n",
       "</div>"
      ],
      "text/plain": [
       "          prime_genre  user_rating\n",
       "0                Book         4.50\n",
       "1            Business         4.00\n",
       "2            Catalogs         4.50\n",
       "3           Education         4.00\n",
       "4       Entertainment         4.00\n",
       "5             Finance         4.25\n",
       "6        Food & Drink         4.00\n",
       "7               Games         4.50\n",
       "8    Health & Fitness         4.50\n",
       "9           Lifestyle         4.00\n",
       "10            Medical         4.50\n",
       "11              Music         4.00\n",
       "12         Navigation         3.50\n",
       "13               News         4.00\n",
       "14      Photo & Video         4.00\n",
       "15       Productivity         4.00\n",
       "16          Reference         4.00\n",
       "17           Shopping         4.50\n",
       "18  Social Networking         3.25\n",
       "19             Sports         3.50\n",
       "20             Travel         4.00\n",
       "21          Utilities         3.50\n",
       "22            Weather         4.00"
      ]
     },
     "execution_count": 8,
     "metadata": {},
     "output_type": "execute_result"
    }
   ],
   "source": [
    "from statistics import median\n",
    "\"\"\"\n",
    "For paid apps that are sold in dollars, what is the median rating for each genre?\n",
    "\n",
    "> STEP 1: Get all paid apps.\n",
    "> STEP 2: Get a subset of paid apps sold in dollars (USD).\n",
    "> STEP 3: Calculate median rating per genre.\n",
    "\"\"\"\n",
    "\n",
    "paid_apps = dataset[dataset[\"price\"] != 0.00]\n",
    "paid_apps_usd = paid_apps.query(\"currency == 'USD'\")\n",
    "\n",
    "paid_apps_usd.groupby('prime_genre')['user_rating'].median().reset_index()"
   ]
  },
  {
   "cell_type": "markdown",
   "metadata": {
    "id": "YoPeZuOORJS_"
   },
   "source": [
    "### 🔸 **Q4**: `What is the average size in megabytes for each genre for apps rated 4.0 or higher?`\n",
    "\n",
    "(**NOTE**: _Use ratings of current version._)"
   ]
  },
  {
   "cell_type": "code",
   "execution_count": 9,
   "metadata": {
    "execution": {
     "iopub.execute_input": "2023-10-04T08:42:34.874499Z",
     "iopub.status.busy": "2023-10-04T08:42:34.874124Z",
     "iopub.status.idle": "2023-10-04T08:42:34.886580Z",
     "shell.execute_reply": "2023-10-04T08:42:34.885884Z"
    }
   },
   "outputs": [
    {
     "data": {
      "text/plain": [
       "0     235.47\n",
       "1      62.80\n",
       "2      75.63\n",
       "3     191.34\n",
       "4     126.20\n",
       "5      94.73\n",
       "6      81.94\n",
       "7     293.07\n",
       "8     101.13\n",
       "9      68.78\n",
       "10    543.63\n",
       "11    121.64\n",
       "12     73.05\n",
       "13     66.27\n",
       "14     71.62\n",
       "15     90.29\n",
       "16    112.73\n",
       "17    104.06\n",
       "18     94.62\n",
       "19     90.73\n",
       "20     68.40\n",
       "21     57.80\n",
       "22     73.82\n",
       "Name: size_bytes, dtype: float64"
      ]
     },
     "execution_count": 9,
     "metadata": {},
     "output_type": "execute_result"
    }
   ],
   "source": [
    "four_rated_apps = dataset.query('user_rating_ver >= 4.0')\n",
    "mean_size_per_genre_of_four_rated_apps = four_rated_apps.groupby('prime_genre')['size_bytes'].mean().reset_index()\n",
    "\n",
    "round(mean_size_per_genre_of_four_rated_apps['size_bytes'] / 1_000_000, 2)"
   ]
  },
  {
   "cell_type": "markdown",
   "metadata": {
    "id": "bE0o-DDqRJWg"
   },
   "source": [
    "### 🔸 **Q5**: `What is the average price (in USD) by genre for paid apps rated higher than 3.0?`\n",
    "\n",
    "(**NOTE**: _Assume that all non-USD prices are dropped from consideration._)"
   ]
  },
  {
   "cell_type": "code",
   "execution_count": 10,
   "metadata": {
    "execution": {
     "iopub.execute_input": "2023-10-04T08:42:34.889574Z",
     "iopub.status.busy": "2023-10-04T08:42:34.889232Z",
     "iopub.status.idle": "2023-10-04T08:42:34.903140Z",
     "shell.execute_reply": "2023-10-04T08:42:34.902464Z"
    },
    "id": "q_AXxl7yTIZz"
   },
   "outputs": [
    {
     "data": {
      "text/html": [
       "<div>\n",
       "<style scoped>\n",
       "    .dataframe tbody tr th:only-of-type {\n",
       "        vertical-align: middle;\n",
       "    }\n",
       "\n",
       "    .dataframe tbody tr th {\n",
       "        vertical-align: top;\n",
       "    }\n",
       "\n",
       "    .dataframe thead th {\n",
       "        text-align: right;\n",
       "    }\n",
       "</style>\n",
       "<table border=\"1\" class=\"dataframe\">\n",
       "  <thead>\n",
       "    <tr style=\"text-align: right;\">\n",
       "      <th></th>\n",
       "      <th>prime_genre</th>\n",
       "      <th>user_rating</th>\n",
       "    </tr>\n",
       "  </thead>\n",
       "  <tbody>\n",
       "    <tr>\n",
       "      <th>0</th>\n",
       "      <td>Book</td>\n",
       "      <td>4.50</td>\n",
       "    </tr>\n",
       "    <tr>\n",
       "      <th>1</th>\n",
       "      <td>Business</td>\n",
       "      <td>4.00</td>\n",
       "    </tr>\n",
       "    <tr>\n",
       "      <th>2</th>\n",
       "      <td>Catalogs</td>\n",
       "      <td>4.50</td>\n",
       "    </tr>\n",
       "    <tr>\n",
       "      <th>3</th>\n",
       "      <td>Education</td>\n",
       "      <td>4.00</td>\n",
       "    </tr>\n",
       "    <tr>\n",
       "      <th>4</th>\n",
       "      <td>Entertainment</td>\n",
       "      <td>4.00</td>\n",
       "    </tr>\n",
       "    <tr>\n",
       "      <th>5</th>\n",
       "      <td>Finance</td>\n",
       "      <td>4.25</td>\n",
       "    </tr>\n",
       "    <tr>\n",
       "      <th>6</th>\n",
       "      <td>Food &amp; Drink</td>\n",
       "      <td>4.00</td>\n",
       "    </tr>\n",
       "    <tr>\n",
       "      <th>7</th>\n",
       "      <td>Games</td>\n",
       "      <td>4.50</td>\n",
       "    </tr>\n",
       "    <tr>\n",
       "      <th>8</th>\n",
       "      <td>Health &amp; Fitness</td>\n",
       "      <td>4.50</td>\n",
       "    </tr>\n",
       "    <tr>\n",
       "      <th>9</th>\n",
       "      <td>Lifestyle</td>\n",
       "      <td>4.00</td>\n",
       "    </tr>\n",
       "    <tr>\n",
       "      <th>10</th>\n",
       "      <td>Medical</td>\n",
       "      <td>4.50</td>\n",
       "    </tr>\n",
       "    <tr>\n",
       "      <th>11</th>\n",
       "      <td>Music</td>\n",
       "      <td>4.00</td>\n",
       "    </tr>\n",
       "    <tr>\n",
       "      <th>12</th>\n",
       "      <td>Navigation</td>\n",
       "      <td>3.50</td>\n",
       "    </tr>\n",
       "    <tr>\n",
       "      <th>13</th>\n",
       "      <td>News</td>\n",
       "      <td>4.00</td>\n",
       "    </tr>\n",
       "    <tr>\n",
       "      <th>14</th>\n",
       "      <td>Photo &amp; Video</td>\n",
       "      <td>4.00</td>\n",
       "    </tr>\n",
       "    <tr>\n",
       "      <th>15</th>\n",
       "      <td>Productivity</td>\n",
       "      <td>4.00</td>\n",
       "    </tr>\n",
       "    <tr>\n",
       "      <th>16</th>\n",
       "      <td>Reference</td>\n",
       "      <td>4.00</td>\n",
       "    </tr>\n",
       "    <tr>\n",
       "      <th>17</th>\n",
       "      <td>Shopping</td>\n",
       "      <td>4.50</td>\n",
       "    </tr>\n",
       "    <tr>\n",
       "      <th>18</th>\n",
       "      <td>Social Networking</td>\n",
       "      <td>3.25</td>\n",
       "    </tr>\n",
       "    <tr>\n",
       "      <th>19</th>\n",
       "      <td>Sports</td>\n",
       "      <td>3.50</td>\n",
       "    </tr>\n",
       "    <tr>\n",
       "      <th>20</th>\n",
       "      <td>Travel</td>\n",
       "      <td>4.00</td>\n",
       "    </tr>\n",
       "    <tr>\n",
       "      <th>21</th>\n",
       "      <td>Utilities</td>\n",
       "      <td>3.50</td>\n",
       "    </tr>\n",
       "    <tr>\n",
       "      <th>22</th>\n",
       "      <td>Weather</td>\n",
       "      <td>4.00</td>\n",
       "    </tr>\n",
       "  </tbody>\n",
       "</table>\n",
       "</div>"
      ],
      "text/plain": [
       "          prime_genre  user_rating\n",
       "0                Book         4.50\n",
       "1            Business         4.00\n",
       "2            Catalogs         4.50\n",
       "3           Education         4.00\n",
       "4       Entertainment         4.00\n",
       "5             Finance         4.25\n",
       "6        Food & Drink         4.00\n",
       "7               Games         4.50\n",
       "8    Health & Fitness         4.50\n",
       "9           Lifestyle         4.00\n",
       "10            Medical         4.50\n",
       "11              Music         4.00\n",
       "12         Navigation         3.50\n",
       "13               News         4.00\n",
       "14      Photo & Video         4.00\n",
       "15       Productivity         4.00\n",
       "16          Reference         4.00\n",
       "17           Shopping         4.50\n",
       "18  Social Networking         3.25\n",
       "19             Sports         3.50\n",
       "20             Travel         4.00\n",
       "21          Utilities         3.50\n",
       "22            Weather         4.00"
      ]
     },
     "execution_count": 10,
     "metadata": {},
     "output_type": "execute_result"
    }
   ],
   "source": [
    "\"\"\"\n",
    "What is the average price (in USD) by genre for paid apps rated higher than 3.0?\n",
    "(NOTE: Assume that all non-USD prices are not considered.)\n",
    "\n",
    "> STEP 1: Get all apps rated higher than 3.0.\n",
    "> STEP 2: Get subset of data by paid apps.\n",
    "> STEP 3: Get subset of data by USD currencies only.\n",
    "> STEP 4: Calculate mean app price by genre.\n",
    "\"\"\"\n",
    "\n",
    "three_rated_apps = paid_apps_usd.query(\"user_rating_ver > 3.0\")\n",
    "paid_apps_usd.groupby('prime_genre')['user_rating'].median().reset_index()"
   ]
  },
  {
   "cell_type": "markdown",
   "metadata": {
    "id": "Ya9ztM0mtR47"
   },
   "source": [
    "Great work! However, answering some predetermined questions does not make you a professional data analyst.\n",
    "\n",
    "At the end of the day, your own creativity and intrigue are what guide your analytical and technical hand."
   ]
  },
  {
   "cell_type": "markdown",
   "metadata": {
    "id": "OAuJL2eDtkC4"
   },
   "source": [
    "---\n",
    "\n",
    "### 📌 **REQUIRED CHALLENGE!** 📌\n",
    "\n",
    "> It's worthwhile putting you in the batter's box and allowing you to ask some complex descriptive questions... that you'll also take the opportunity to answer.\n",
    ">\n",
    "> **Your challenge is to create _two_ (2) additional descriptive questions to ask and answer them using the cells provided below.**\n",
    ">\n",
    "> We want to be wary of straying too deeply into the realm of inferentially statistical and/or predictively analytical questions, as those may be easy to ask but very challenging to effectively answer.\n",
    ">\n",
    "> As such, be direct and concise with your questions, but also don't be afraid of being ambitious; this is the way to becoming a better, more confident data scientist, after all!\n",
    "\n",
    "---"
   ]
  },
  {
   "cell_type": "markdown",
   "metadata": {
    "id": "OYC_xlNCuMIH"
   },
   "source": [
    "### 🔸 **Q6**: Of the top 25 highly rated apps, what percentage of those apps are paid?"
   ]
  },
  {
   "cell_type": "code",
   "execution_count": 11,
   "metadata": {
    "execution": {
     "iopub.execute_input": "2023-10-04T08:42:34.906254Z",
     "iopub.status.busy": "2023-10-04T08:42:34.905847Z",
     "iopub.status.idle": "2023-10-04T08:42:34.913786Z",
     "shell.execute_reply": "2023-10-04T08:42:34.913116Z"
    },
    "id": "RoV1RWbmu8Lo"
   },
   "outputs": [
    {
     "name": "stdout",
     "output_type": "stream",
     "text": [
      "56.00000000000001% of the top 25 highly rated apps are paid.\n"
     ]
    }
   ],
   "source": [
    "# STUDENTS: Write some code to answer your first proposed descriptive question!\n",
    "\n",
    "# Of the top 25 highly rated apps, what percentage of those apps are paid?\n",
    "\n",
    "top_25_apps = dataset.sort_values(by='user_rating', ascending=False).head(25)\n",
    "\n",
    "paid_apps_count = top_25_apps[top_25_apps['price'] > 0]['id'].count()\n",
    "total_apps_count = top_25_apps['id'].count()\n",
    "percentage_paid_apps = (paid_apps_count / total_apps_count) * 100\n",
    "\n",
    "print(\"{}% of the top 25 highly rated apps are paid.\".format(percentage_paid_apps))"
   ]
  },
  {
   "cell_type": "markdown",
   "metadata": {
    "id": "RxsJXU4zvFBN"
   },
   "source": [
    "### 🔸 **Q7**: Of all paid apps sold in USD, what is the most common pricepoint?"
   ]
  },
  {
   "cell_type": "code",
   "execution_count": 12,
   "metadata": {
    "execution": {
     "iopub.execute_input": "2023-10-04T08:42:34.916790Z",
     "iopub.status.busy": "2023-10-04T08:42:34.916357Z",
     "iopub.status.idle": "2023-10-04T08:42:34.921807Z",
     "shell.execute_reply": "2023-10-04T08:42:34.921152Z"
    },
    "id": "5VW4JU_cvFTP"
   },
   "outputs": [
    {
     "data": {
      "text/plain": [
       "0.99"
      ]
     },
     "execution_count": 12,
     "metadata": {},
     "output_type": "execute_result"
    }
   ],
   "source": [
    "paid_apps_usd[\"price\"].mode()[0]"
   ]
  },
  {
   "cell_type": "markdown",
   "metadata": {
    "id": "zD1VMNq8vipE"
   },
   "source": [
    "---\n",
    "---"
   ]
  },
  {
   "cell_type": "markdown",
   "metadata": {
    "id": "gLtpdG2lvkEu"
   },
   "source": [
    "## 💠 **PART FOUR**: Conclusions 💠"
   ]
  },
  {
   "cell_type": "markdown",
   "metadata": {
    "id": "9DEWH4n4vTLp"
   },
   "source": [
    "With seven descriptive questions asked and answered and a data exploration under your belt, your basic skills have been put to the test!\n",
    "\n",
    "Hopefully you feel proud of your ability to combine creative thinking with technical design and explore a dataset previously unknown to you.\n",
    "\n",
    "There'll be a lot more opportunity to do so moving forward!"
   ]
  },
  {
   "cell_type": "markdown",
   "metadata": {
    "id": "IwqCY3KzSS-v"
   },
   "source": [
    "---\n",
    "---\n",
    "---"
   ]
  }
 ],
 "metadata": {
  "colab": {
   "provenance": []
  },
  "kernelspec": {
   "display_name": "Python 3",
   "name": "python3"
  },
  "language_info": {
   "codemirror_mode": {
    "name": "ipython",
    "version": 3
   },
   "file_extension": ".py",
   "mimetype": "text/x-python",
   "name": "python",
   "nbconvert_exporter": "python",
   "pygments_lexer": "ipython3",
   "version": "3.11.5"
  }
 },
 "nbformat": 4,
 "nbformat_minor": 0
}
