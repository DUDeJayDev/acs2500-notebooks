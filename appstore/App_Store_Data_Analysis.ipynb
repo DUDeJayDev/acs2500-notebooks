{
  "cells": [
    {
      "cell_type": "markdown",
      "metadata": {
        "id": "wBnAVInWP4jg"
      },
      "source": [
        "---\n",
        "---\n",
        "---"
      ]
    },
    {
      "cell_type": "markdown",
      "metadata": {
        "id": "7piNVX5eBvMW"
      },
      "source": [
        "# ✨ **CHALLENGE**: Introductory Data Analysis with App Store Data ✨\n",
        "\n",
        "In this challenge, you'll put your basic descriptive data analysis skills to the test by performing some basic data exploration and evaluation of an unfamiliar dataset before answer a multitude of predetermined and conditional descriptive questions.\n",
        "\n",
        "By the end of this notebook, you should feel much more comfortable with your analysis and exploration skill set, even when limited to just leveraging `numpy` and `pandas`."
      ]
    },
    {
      "cell_type": "markdown",
      "metadata": {
        "id": "JGoILSx0CFil"
      },
      "source": [
        "---\n",
        "---"
      ]
    },
    {
      "cell_type": "markdown",
      "metadata": {
        "id": "02B0P767CGz_"
      },
      "source": [
        "## 💠 **PART ONE**: Importations and Initializations 💠"
      ]
    },
    {
      "cell_type": "markdown",
      "metadata": {
        "id": "86BFSgsuCMIM"
      },
      "source": [
        "Every time we do anything in the realm of data science, we should consider designing our development process to most effectively reflect an engineering pipeline that makes sense.\n",
        "\n",
        "Generally, it can be useful to identify all major dependencies and libraries up front so we don't have to worry about outstanding external dependencies later on.\n",
        "\n",
        "As such, we'll start by importing relevant data structures, objects, and libraries needed to perform some exploratory data analyses - namely `numpy` and `pandas`."
      ]
    },
    {
      "cell_type": "code",
      "execution_count": 41,
      "metadata": {
        "id": "hTDj7-MAPuMk"
      },
      "outputs": [],
      "source": [
        "import numpy as numpy    # Numerical Python Operations\n",
        "import pandas as pandas      # DataFrame Operations\n",
        "import seaborn as sns "
      ]
    },
    {
      "cell_type": "markdown",
      "metadata": {
        "id": "dI-PnEF7fdni"
      },
      "source": [
        "---\n",
        "\n",
        "### 📌 **REQUIRED CHALLENGE!** 📌\n",
        "\n",
        "> Take a moment to reflect on the full scale of libraries, packages, and dependencies available to you as a data analyst.\n",
        ">\n",
        "> **For this challenge, create a text cell below and write some thoughts on what other libraries and tools you'd like to use to augment your data analysis skills, given what you already know.**\n",
        ">\n",
        "> Feel free to be creative with this question; you do not have to reference only the specific libraries that we've covered in class.\n",
        "\n",
        "---"
      ]
    },
    {
      "cell_type": "markdown",
      "metadata": {
        "id": "KU1CWDxmgAYj"
      },
      "source": [
        "We're now ready to get access to our dataset: the **App Store** data!"
      ]
    },
    {
      "cell_type": "code",
      "execution_count": 42,
      "metadata": {
        "id": "xHYLVgJDP0cG"
      },
      "outputs": [],
      "source": [
        "# Create and set absolute dataset path\n",
        "# Note: reuploaded into this repo for ease of viewing locally\n",
        "PATH_DATASET = \"AppleStore.csv\"\n",
        "\n",
        "# Save dataset as Pandas DataFrame\n",
        "dataset = pandas.read_csv(PATH_DATASET)"
      ]
    },
    {
      "cell_type": "code",
      "execution_count": 43,
      "metadata": {
        "colab": {
          "base_uri": "https://localhost:8080/",
          "height": 135
        },
        "id": "5BXwVOpXnuIA",
        "outputId": "dd056c82-a08a-4c83-a86b-1a345a587d87"
      },
      "outputs": [
        {
          "data": {
            "text/html": [
              "<div>\n",
              "<style scoped>\n",
              "    .dataframe tbody tr th:only-of-type {\n",
              "        vertical-align: middle;\n",
              "    }\n",
              "\n",
              "    .dataframe tbody tr th {\n",
              "        vertical-align: top;\n",
              "    }\n",
              "\n",
              "    .dataframe thead th {\n",
              "        text-align: right;\n",
              "    }\n",
              "</style>\n",
              "<table border=\"1\" class=\"dataframe\">\n",
              "  <thead>\n",
              "    <tr style=\"text-align: right;\">\n",
              "      <th></th>\n",
              "      <th>Unnamed: 0</th>\n",
              "      <th>id</th>\n",
              "      <th>track_name</th>\n",
              "      <th>size_bytes</th>\n",
              "      <th>currency</th>\n",
              "      <th>price</th>\n",
              "      <th>rating_count_tot</th>\n",
              "      <th>rating_count_ver</th>\n",
              "      <th>user_rating</th>\n",
              "      <th>user_rating_ver</th>\n",
              "      <th>ver</th>\n",
              "      <th>cont_rating</th>\n",
              "      <th>prime_genre</th>\n",
              "      <th>sup_devices.num</th>\n",
              "      <th>ipadSc_urls.num</th>\n",
              "      <th>lang.num</th>\n",
              "      <th>vpp_lic</th>\n",
              "    </tr>\n",
              "  </thead>\n",
              "  <tbody>\n",
              "    <tr>\n",
              "      <th>0</th>\n",
              "      <td>1</td>\n",
              "      <td>281656475</td>\n",
              "      <td>PAC-MAN Premium</td>\n",
              "      <td>100788224</td>\n",
              "      <td>USD</td>\n",
              "      <td>3.99</td>\n",
              "      <td>21292</td>\n",
              "      <td>26</td>\n",
              "      <td>4.0</td>\n",
              "      <td>4.5</td>\n",
              "      <td>6.3.5</td>\n",
              "      <td>4+</td>\n",
              "      <td>Games</td>\n",
              "      <td>38</td>\n",
              "      <td>5</td>\n",
              "      <td>10</td>\n",
              "      <td>1</td>\n",
              "    </tr>\n",
              "  </tbody>\n",
              "</table>\n",
              "</div>"
            ],
            "text/plain": [
              "   Unnamed: 0         id       track_name  size_bytes currency  price  \\\n",
              "0           1  281656475  PAC-MAN Premium   100788224      USD   3.99   \n",
              "\n",
              "   rating_count_tot  rating_count_ver  user_rating  user_rating_ver    ver  \\\n",
              "0             21292                26          4.0              4.5  6.3.5   \n",
              "\n",
              "  cont_rating prime_genre  sup_devices.num  ipadSc_urls.num  lang.num  vpp_lic  \n",
              "0          4+       Games               38                5        10        1  "
            ]
          },
          "execution_count": 43,
          "metadata": {},
          "output_type": "execute_result"
        }
      ],
      "source": [
        "dataset.head(1)"
      ]
    },
    {
      "cell_type": "markdown",
      "metadata": {
        "id": "wqiyNMS9l-OK"
      },
      "source": [
        "Before we jump too deeply into an analysis, it's important to apply some creative thinking to help us better understand our data."
      ]
    },
    {
      "cell_type": "markdown",
      "metadata": {
        "id": "wjiQ1CfjmdVk"
      },
      "source": [
        "---\n",
        "\n",
        "### 📌 **REQUIRED CHALLENGE!** 📌\n",
        "\n",
        "> If you recall, data dictionaries can help us exponentially in understanding how our data is shaped, what features/variables it comprises, and what sorts of questions we can ask.\n",
        ">\n",
        "> Many times, we can access data dictionaries as metadata, external objects, or other files associated with a data download.\n",
        ">\n",
        "> However, for this exercise, let's see if you can't intuit your way into interpret what each column most likely represents by creating your own data dictionary.\n",
        ">\n",
        "> **Your challenge is to fill in the following cell's data dictionary structure with interpretations for each of the dataset's features.**\n",
        ">\n",
        "> Apply logic and reasoning, and feel free to access any external reasoning to maintain confidence about what each column most likely means across the data.\n",
        ">\n",
        "> (**NOTE**: If you become stumped and want to check your answers, feel free to **[access the data source](https://www.kaggle.com/ramamet4/app-store-apple-data-set-10k-apps)** to ***verify*** your data dictionary assignments and ensure you have the appropriate information before moving forward.)\n",
        "\n",
        "---"
      ]
    },
    {
      "cell_type": "markdown",
      "metadata": {
        "id": "CFcjs56qni0y"
      },
      "source": [
        "#### 🔎 **App Store Data Dictionary** 🔍\n",
        "\n",
        "- `Unnamed:0`: index\n",
        "- `id`: app id\n",
        "- `track_name`: app name\n",
        "- `size_bytes`: ipa filesize bundle\n",
        "- `currency`: purchase currency\n",
        "- `price`: price in local currency\n",
        "- `rating_count_tot`: amount of ratings in total\n",
        "- `rating_count_ver`: amount of ratings for this version of the app\n",
        "- `user_rating`: calculated app rating\n",
        "- `user_rating_ver`: calculated app rating for this version of the app\n",
        "- `ver`: app version\n",
        "- `cont_rating`: content rating\n",
        "- `prime_genre`: primary genre\n",
        "- `sup_devices.num`: amount of devices supported by the app\n",
        "- `lang.num`: amount of languages supported by the app\n",
        "- `vpp_lic`: apple bs i dont remember"
      ]
    },
    {
      "cell_type": "markdown",
      "metadata": {
        "id": "FrvHnY6qf-8b"
      },
      "source": [
        "Now that we have our toolkit and dataset, it's time to start exploring our data... the best way you know how. After all, you're the one exploring it!"
      ]
    },
    {
      "cell_type": "markdown",
      "metadata": {
        "id": "ypcFps7qrjAa"
      },
      "source": [
        "---\n",
        "---"
      ]
    },
    {
      "cell_type": "markdown",
      "metadata": {
        "id": "weSufZ6uhw7t"
      },
      "source": [
        "## 💠 **PART TWO**: Basic Data Exploration 💠"
      ]
    },
    {
      "cell_type": "markdown",
      "metadata": {
        "id": "xc5GQ4UfM_kt"
      },
      "source": [
        "---\n",
        "\n",
        "### 📌 **REQUIRED CHALLENGE!** 📌\n",
        "\n",
        "> Data exploration is an incredibly important skill to hone and maintain, no matter the data!\n",
        ">\n",
        "> How else will you start developing the ability to ask interesting and relevant descriptive questions?\n",
        ">\n",
        "> **For this challenge, you will use as little or as many cells as you'd like to perform some basic data exploration and cleaning, ensuring that your data's integrity is as optimized as possible.**\n",
        ">\n",
        "> This could mean imputing null values, categorizing data, combining features, dropping noisy columns, etc.\n",
        ">\n",
        "> In other words, now's the time for creative decision-making - do whatever you think is best to ensure your data is as sanitary as it could be while ideating on some interesting questions to ask!\n",
        "\n",
        "---"
      ]
    },
    {
      "cell_type": "markdown",
      "metadata": {},
      "source": []
    },
    {
      "cell_type": "code",
      "execution_count": 44,
      "metadata": {
        "id": "8gKnwdRugXW9"
      },
      "outputs": [
        {
          "data": {
            "text/html": [
              "<div>\n",
              "<style scoped>\n",
              "    .dataframe tbody tr th:only-of-type {\n",
              "        vertical-align: middle;\n",
              "    }\n",
              "\n",
              "    .dataframe tbody tr th {\n",
              "        vertical-align: top;\n",
              "    }\n",
              "\n",
              "    .dataframe thead th {\n",
              "        text-align: right;\n",
              "    }\n",
              "</style>\n",
              "<table border=\"1\" class=\"dataframe\">\n",
              "  <thead>\n",
              "    <tr style=\"text-align: right;\">\n",
              "      <th></th>\n",
              "      <th>id</th>\n",
              "      <th>track_name</th>\n",
              "      <th>size_bytes</th>\n",
              "      <th>currency</th>\n",
              "      <th>price</th>\n",
              "      <th>rating_count_tot</th>\n",
              "      <th>rating_count_ver</th>\n",
              "      <th>user_rating</th>\n",
              "      <th>user_rating_ver</th>\n",
              "      <th>ver</th>\n",
              "      <th>cont_rating</th>\n",
              "      <th>prime_genre</th>\n",
              "      <th>sup_devices.num</th>\n",
              "      <th>ipadSc_urls.num</th>\n",
              "      <th>lang.num</th>\n",
              "      <th>vpp_lic</th>\n",
              "    </tr>\n",
              "  </thead>\n",
              "  <tbody>\n",
              "    <tr>\n",
              "      <th>0</th>\n",
              "      <td>281656475</td>\n",
              "      <td>PAC-MAN Premium</td>\n",
              "      <td>100788224</td>\n",
              "      <td>USD</td>\n",
              "      <td>3.99</td>\n",
              "      <td>21292</td>\n",
              "      <td>26</td>\n",
              "      <td>4.0</td>\n",
              "      <td>4.5</td>\n",
              "      <td>6.3.5</td>\n",
              "      <td>4+</td>\n",
              "      <td>Games</td>\n",
              "      <td>38</td>\n",
              "      <td>5</td>\n",
              "      <td>10</td>\n",
              "      <td>1</td>\n",
              "    </tr>\n",
              "    <tr>\n",
              "      <th>1</th>\n",
              "      <td>281796108</td>\n",
              "      <td>Evernote - stay organized</td>\n",
              "      <td>158578688</td>\n",
              "      <td>USD</td>\n",
              "      <td>0.00</td>\n",
              "      <td>161065</td>\n",
              "      <td>26</td>\n",
              "      <td>4.0</td>\n",
              "      <td>3.5</td>\n",
              "      <td>8.2.2</td>\n",
              "      <td>4+</td>\n",
              "      <td>Productivity</td>\n",
              "      <td>37</td>\n",
              "      <td>5</td>\n",
              "      <td>23</td>\n",
              "      <td>1</td>\n",
              "    </tr>\n",
              "  </tbody>\n",
              "</table>\n",
              "</div>"
            ],
            "text/plain": [
              "          id                 track_name  size_bytes currency  price  \\\n",
              "0  281656475            PAC-MAN Premium   100788224      USD   3.99   \n",
              "1  281796108  Evernote - stay organized   158578688      USD   0.00   \n",
              "\n",
              "   rating_count_tot  rating_count_ver  user_rating  user_rating_ver    ver  \\\n",
              "0             21292                26          4.0              4.5  6.3.5   \n",
              "1            161065                26          4.0              3.5  8.2.2   \n",
              "\n",
              "  cont_rating   prime_genre  sup_devices.num  ipadSc_urls.num  lang.num  \\\n",
              "0          4+         Games               38                5        10   \n",
              "1          4+  Productivity               37                5        23   \n",
              "\n",
              "   vpp_lic  \n",
              "0        1  \n",
              "1        1  "
            ]
          },
          "execution_count": 44,
          "metadata": {},
          "output_type": "execute_result"
        }
      ],
      "source": [
        "# Drop Unneeded Unnamed:0\n",
        "\n",
        "try:\n",
        "    dataset.drop(columns='Unnamed: 0', inplace=True)\n",
        "except:\n",
        "    pass \n",
        "\n",
        "dataset.head(2)"
      ]
    },
    {
      "cell_type": "code",
      "execution_count": 45,
      "metadata": {
        "id": "J9MWpCWbgklv"
      },
      "outputs": [
        {
          "data": {
            "text/plain": [
              "0                                         PAC-MAN Premium\n",
              "1                               Evernote - stay organized\n",
              "2         WeatherBug - Local Weather, Radar, Maps, Alerts\n",
              "3       eBay: Best App to Buy, Sell, Save! Online Shop...\n",
              "4                                                   Bible\n",
              "                              ...                        \n",
              "7192                                                Kubik\n",
              "7193                                    VR Roller-Coaster\n",
              "7194                Bret Michaels Emojis + Lyric Keyboard\n",
              "7195            VR Roller Coaster World - Virtual Reality\n",
              "7196                         Escape the Sweet Shop Series\n",
              "Name: track_name, Length: 7197, dtype: object"
            ]
          },
          "execution_count": 45,
          "metadata": {},
          "output_type": "execute_result"
        }
      ],
      "source": [
        "# STUDENTS: write some code here! Feel free to create more cells too!\n",
        "\n",
        "# Replace smart quotes with standard quotes\n",
        "def replace_smart_quotes(text):\n",
        "    text = text.replace(u'\\u201c', u'\"').replace(u'\\u201d', u'\"')\n",
        "    text = text.replace(u'\\u2014', u'-').replace(u'\\u2013', u'-')\n",
        "    return text\n",
        "\n",
        "dataset['track_name'].apply(lambda name: replace_smart_quotes(name))\n"
      ]
    },
    {
      "cell_type": "markdown",
      "metadata": {
        "id": "OLTbsPA9gchK"
      },
      "source": [
        "---\n",
        "---"
      ]
    },
    {
      "cell_type": "markdown",
      "metadata": {
        "id": "arAv56RKhijh"
      },
      "source": [
        "## 💠 **PART THREE**: Descriptive Analysis 💠"
      ]
    },
    {
      "cell_type": "markdown",
      "metadata": {
        "id": "THa6ihVKhNwo"
      },
      "source": [
        "---\n",
        "\n",
        "### 📌 **REQUIRED CHALLENGE!** 📌\n",
        "\n",
        "> Descriptive analyses are powered by one major idea: asking critical questions about our data's relationships, patterns, and distributions.\n",
        ">\n",
        "> However, before we get there, let's at least get some basic fundamentals down for assessing our descriptive analysis capabilities.\n",
        ">\n",
        "> **Your challenge is to answer the following five descriptive analysis questions as best as you can and as programmatically as you can, relying on `numpy` and `pandas` to get the job done.**\n",
        ">\n",
        "> For starters, we'll navigate through some predetermined descriptive questions - ensure you utilize the full range of your `numpy` and `pandas` analytical skills to answer them to the best of your ability!\n",
        ">\n",
        "> Additionally, major predetermined questions have some helper comments provided to assist you in streamlining your development process.\n",
        "\n",
        "---"
      ]
    },
    {
      "cell_type": "markdown",
      "metadata": {
        "id": "6TtvsllfRHhj"
      },
      "source": [
        "### 🔸 **Q1**: `What are the top ten highest rated free to play apps?`\n",
        "\n",
        "(**NOTE**: _Use ratings of current versions._)"
      ]
    },
    {
      "cell_type": "code",
      "execution_count": 46,
      "metadata": {
        "id": "H6Fquzn0Sek3"
      },
      "outputs": [
        {
          "data": {
            "text/html": [
              "<div>\n",
              "<style scoped>\n",
              "    .dataframe tbody tr th:only-of-type {\n",
              "        vertical-align: middle;\n",
              "    }\n",
              "\n",
              "    .dataframe tbody tr th {\n",
              "        vertical-align: top;\n",
              "    }\n",
              "\n",
              "    .dataframe thead th {\n",
              "        text-align: right;\n",
              "    }\n",
              "</style>\n",
              "<table border=\"1\" class=\"dataframe\">\n",
              "  <thead>\n",
              "    <tr style=\"text-align: right;\">\n",
              "      <th></th>\n",
              "      <th>id</th>\n",
              "      <th>track_name</th>\n",
              "      <th>size_bytes</th>\n",
              "      <th>currency</th>\n",
              "      <th>price</th>\n",
              "      <th>rating_count_tot</th>\n",
              "      <th>rating_count_ver</th>\n",
              "      <th>user_rating</th>\n",
              "      <th>user_rating_ver</th>\n",
              "      <th>ver</th>\n",
              "      <th>cont_rating</th>\n",
              "      <th>prime_genre</th>\n",
              "      <th>sup_devices.num</th>\n",
              "      <th>ipadSc_urls.num</th>\n",
              "      <th>lang.num</th>\n",
              "      <th>vpp_lic</th>\n",
              "    </tr>\n",
              "  </thead>\n",
              "  <tbody>\n",
              "    <tr>\n",
              "      <th>3998</th>\n",
              "      <td>1014277964</td>\n",
              "      <td>SelfieCity</td>\n",
              "      <td>71816192</td>\n",
              "      <td>USD</td>\n",
              "      <td>0.0</td>\n",
              "      <td>252</td>\n",
              "      <td>1</td>\n",
              "      <td>5.0</td>\n",
              "      <td>5.0</td>\n",
              "      <td>2.9.1</td>\n",
              "      <td>4+</td>\n",
              "      <td>Photo &amp; Video</td>\n",
              "      <td>37</td>\n",
              "      <td>0</td>\n",
              "      <td>5</td>\n",
              "      <td>1</td>\n",
              "    </tr>\n",
              "    <tr>\n",
              "      <th>3414</th>\n",
              "      <td>962194608</td>\n",
              "      <td>Google Photos - unlimited photo and video storage</td>\n",
              "      <td>160215040</td>\n",
              "      <td>USD</td>\n",
              "      <td>0.0</td>\n",
              "      <td>88742</td>\n",
              "      <td>1145</td>\n",
              "      <td>5.0</td>\n",
              "      <td>5.0</td>\n",
              "      <td>2.17.0</td>\n",
              "      <td>4+</td>\n",
              "      <td>Photo &amp; Video</td>\n",
              "      <td>37</td>\n",
              "      <td>5</td>\n",
              "      <td>75</td>\n",
              "      <td>1</td>\n",
              "    </tr>\n",
              "    <tr>\n",
              "      <th>3422</th>\n",
              "      <td>962967653</td>\n",
              "      <td>Puzzle it to 10</td>\n",
              "      <td>55441408</td>\n",
              "      <td>USD</td>\n",
              "      <td>0.0</td>\n",
              "      <td>27</td>\n",
              "      <td>2</td>\n",
              "      <td>4.5</td>\n",
              "      <td>5.0</td>\n",
              "      <td>2.9</td>\n",
              "      <td>4+</td>\n",
              "      <td>Games</td>\n",
              "      <td>38</td>\n",
              "      <td>0</td>\n",
              "      <td>5</td>\n",
              "      <td>1</td>\n",
              "    </tr>\n",
              "    <tr>\n",
              "      <th>3423</th>\n",
              "      <td>962969578</td>\n",
              "      <td>Blackbox - think outside the box</td>\n",
              "      <td>100392960</td>\n",
              "      <td>USD</td>\n",
              "      <td>0.0</td>\n",
              "      <td>80058</td>\n",
              "      <td>444</td>\n",
              "      <td>5.0</td>\n",
              "      <td>5.0</td>\n",
              "      <td>1.3.10</td>\n",
              "      <td>4+</td>\n",
              "      <td>Games</td>\n",
              "      <td>37</td>\n",
              "      <td>0</td>\n",
              "      <td>1</td>\n",
              "      <td>1</td>\n",
              "    </tr>\n",
              "    <tr>\n",
              "      <th>3434</th>\n",
              "      <td>963668030</td>\n",
              "      <td>Coco Pony - My Dream Pet</td>\n",
              "      <td>256222208</td>\n",
              "      <td>USD</td>\n",
              "      <td>0.0</td>\n",
              "      <td>1627</td>\n",
              "      <td>60</td>\n",
              "      <td>4.5</td>\n",
              "      <td>5.0</td>\n",
              "      <td>1.2.0</td>\n",
              "      <td>4+</td>\n",
              "      <td>Games</td>\n",
              "      <td>38</td>\n",
              "      <td>5</td>\n",
              "      <td>11</td>\n",
              "      <td>1</td>\n",
              "    </tr>\n",
              "    <tr>\n",
              "      <th>3435</th>\n",
              "      <td>963753435</td>\n",
              "      <td>PlayGround • Music At Your Fingertips</td>\n",
              "      <td>190360576</td>\n",
              "      <td>USD</td>\n",
              "      <td>0.0</td>\n",
              "      <td>150</td>\n",
              "      <td>16</td>\n",
              "      <td>4.5</td>\n",
              "      <td>5.0</td>\n",
              "      <td>1.2.0</td>\n",
              "      <td>4+</td>\n",
              "      <td>Music</td>\n",
              "      <td>37</td>\n",
              "      <td>5</td>\n",
              "      <td>1</td>\n",
              "      <td>1</td>\n",
              "    </tr>\n",
              "    <tr>\n",
              "      <th>3464</th>\n",
              "      <td>966758561</td>\n",
              "      <td>GOAT: Buy &amp; Sell Sneakers</td>\n",
              "      <td>133889024</td>\n",
              "      <td>USD</td>\n",
              "      <td>0.0</td>\n",
              "      <td>3116</td>\n",
              "      <td>147</td>\n",
              "      <td>4.5</td>\n",
              "      <td>5.0</td>\n",
              "      <td>1.9.2</td>\n",
              "      <td>9+</td>\n",
              "      <td>Shopping</td>\n",
              "      <td>37</td>\n",
              "      <td>5</td>\n",
              "      <td>1</td>\n",
              "      <td>1</td>\n",
              "    </tr>\n",
              "    <tr>\n",
              "      <th>3466</th>\n",
              "      <td>966802035</td>\n",
              "      <td>LINE FIGHTERS</td>\n",
              "      <td>136356864</td>\n",
              "      <td>USD</td>\n",
              "      <td>0.0</td>\n",
              "      <td>1</td>\n",
              "      <td>1</td>\n",
              "      <td>5.0</td>\n",
              "      <td>5.0</td>\n",
              "      <td>1.0.7</td>\n",
              "      <td>4+</td>\n",
              "      <td>Games</td>\n",
              "      <td>38</td>\n",
              "      <td>5</td>\n",
              "      <td>4</td>\n",
              "      <td>1</td>\n",
              "    </tr>\n",
              "    <tr>\n",
              "      <th>3480</th>\n",
              "      <td>968213298</td>\n",
              "      <td>Bike Race Level 100</td>\n",
              "      <td>98312192</td>\n",
              "      <td>USD</td>\n",
              "      <td>0.0</td>\n",
              "      <td>1</td>\n",
              "      <td>1</td>\n",
              "      <td>5.0</td>\n",
              "      <td>5.0</td>\n",
              "      <td>1.7.1</td>\n",
              "      <td>9+</td>\n",
              "      <td>Games</td>\n",
              "      <td>40</td>\n",
              "      <td>5</td>\n",
              "      <td>2</td>\n",
              "      <td>1</td>\n",
              "    </tr>\n",
              "    <tr>\n",
              "      <th>3495</th>\n",
              "      <td>969447060</td>\n",
              "      <td>Eye Training Cocololo-3dステレオグラム視力回復アプリ-</td>\n",
              "      <td>66277376</td>\n",
              "      <td>USD</td>\n",
              "      <td>0.0</td>\n",
              "      <td>6</td>\n",
              "      <td>3</td>\n",
              "      <td>5.0</td>\n",
              "      <td>5.0</td>\n",
              "      <td>2.2</td>\n",
              "      <td>12+</td>\n",
              "      <td>Medical</td>\n",
              "      <td>37</td>\n",
              "      <td>0</td>\n",
              "      <td>1</td>\n",
              "      <td>1</td>\n",
              "    </tr>\n",
              "  </tbody>\n",
              "</table>\n",
              "</div>"
            ],
            "text/plain": [
              "              id                                         track_name  \\\n",
              "3998  1014277964                                         SelfieCity   \n",
              "3414   962194608  Google Photos - unlimited photo and video storage   \n",
              "3422   962967653                                    Puzzle it to 10   \n",
              "3423   962969578                   Blackbox - think outside the box   \n",
              "3434   963668030                           Coco Pony - My Dream Pet   \n",
              "3435   963753435              PlayGround • Music At Your Fingertips   \n",
              "3464   966758561                          GOAT: Buy & Sell Sneakers   \n",
              "3466   966802035                                      LINE FIGHTERS   \n",
              "3480   968213298                                Bike Race Level 100   \n",
              "3495   969447060            Eye Training Cocololo-3dステレオグラム視力回復アプリ-   \n",
              "\n",
              "      size_bytes currency  price  rating_count_tot  rating_count_ver  \\\n",
              "3998    71816192      USD    0.0               252                 1   \n",
              "3414   160215040      USD    0.0             88742              1145   \n",
              "3422    55441408      USD    0.0                27                 2   \n",
              "3423   100392960      USD    0.0             80058               444   \n",
              "3434   256222208      USD    0.0              1627                60   \n",
              "3435   190360576      USD    0.0               150                16   \n",
              "3464   133889024      USD    0.0              3116               147   \n",
              "3466   136356864      USD    0.0                 1                 1   \n",
              "3480    98312192      USD    0.0                 1                 1   \n",
              "3495    66277376      USD    0.0                 6                 3   \n",
              "\n",
              "      user_rating  user_rating_ver     ver cont_rating    prime_genre  \\\n",
              "3998          5.0              5.0   2.9.1          4+  Photo & Video   \n",
              "3414          5.0              5.0  2.17.0          4+  Photo & Video   \n",
              "3422          4.5              5.0     2.9          4+          Games   \n",
              "3423          5.0              5.0  1.3.10          4+          Games   \n",
              "3434          4.5              5.0   1.2.0          4+          Games   \n",
              "3435          4.5              5.0   1.2.0          4+          Music   \n",
              "3464          4.5              5.0   1.9.2          9+       Shopping   \n",
              "3466          5.0              5.0   1.0.7          4+          Games   \n",
              "3480          5.0              5.0   1.7.1          9+          Games   \n",
              "3495          5.0              5.0     2.2         12+        Medical   \n",
              "\n",
              "      sup_devices.num  ipadSc_urls.num  lang.num  vpp_lic  \n",
              "3998               37                0         5        1  \n",
              "3414               37                5        75        1  \n",
              "3422               38                0         5        1  \n",
              "3423               37                0         1        1  \n",
              "3434               38                5        11        1  \n",
              "3435               37                5         1        1  \n",
              "3464               37                5         1        1  \n",
              "3466               38                5         4        1  \n",
              "3480               40                5         2        1  \n",
              "3495               37                0         1        1  "
            ]
          },
          "execution_count": 46,
          "metadata": {},
          "output_type": "execute_result"
        }
      ],
      "source": [
        "\"\"\"\n",
        "What are the top ten highest rated (use rating of current version) free-to-play apps?\n",
        "\n",
        "> STEP 1: Get all free-to-play apps.\n",
        "> STEP 2: Sort by current version rating.\n",
        "> STEP 3: Get top ten apps.\n",
        "\"\"\"\n",
        "\n",
        "free_apps = dataset[(dataset[\"price\"] == 0.00)]\n",
        "free_apps = free_apps.sort_values(\"user_rating_ver\", ascending=False)\n",
        "\n",
        "# get top ten\n",
        "free_apps.head(10)"
      ]
    },
    {
      "cell_type": "markdown",
      "metadata": {
        "id": "nQdpsjS3RJLr"
      },
      "source": [
        "### 🔸 **Q2**: `What genre has the most apps?`"
      ]
    },
    {
      "cell_type": "code",
      "execution_count": 47,
      "metadata": {
        "id": "ypCakz0tS7I6"
      },
      "outputs": [
        {
          "data": {
            "text/plain": [
              "prime_genre\n",
              "Games    3862\n",
              "Name: count, dtype: int64"
            ]
          },
          "execution_count": 47,
          "metadata": {},
          "output_type": "execute_result"
        }
      ],
      "source": [
        "\"\"\"\n",
        "What genre has the most apps?\n",
        "\n",
        "> STEP 1: Use `.value_counts()` to combine app counts by genre.\n",
        "\"\"\"\n",
        "\n",
        "dataset[\"prime_genre\"].value_counts().head(1)"
      ]
    },
    {
      "cell_type": "markdown",
      "metadata": {
        "id": "FN97GpMcRJPd"
      },
      "source": [
        "### 🔸 **Q3**: `For paid apps that are sold in dollars, what is the median rating for each genre?`"
      ]
    },
    {
      "cell_type": "code",
      "execution_count": 48,
      "metadata": {
        "id": "Bsgo9PSuTH6K"
      },
      "outputs": [
        {
          "data": {
            "text/html": [
              "<div>\n",
              "<style scoped>\n",
              "    .dataframe tbody tr th:only-of-type {\n",
              "        vertical-align: middle;\n",
              "    }\n",
              "\n",
              "    .dataframe tbody tr th {\n",
              "        vertical-align: top;\n",
              "    }\n",
              "\n",
              "    .dataframe thead th {\n",
              "        text-align: right;\n",
              "    }\n",
              "</style>\n",
              "<table border=\"1\" class=\"dataframe\">\n",
              "  <thead>\n",
              "    <tr style=\"text-align: right;\">\n",
              "      <th></th>\n",
              "      <th>prime_genre</th>\n",
              "      <th>user_rating</th>\n",
              "    </tr>\n",
              "  </thead>\n",
              "  <tbody>\n",
              "    <tr>\n",
              "      <th>0</th>\n",
              "      <td>Book</td>\n",
              "      <td>4.50</td>\n",
              "    </tr>\n",
              "    <tr>\n",
              "      <th>1</th>\n",
              "      <td>Business</td>\n",
              "      <td>4.00</td>\n",
              "    </tr>\n",
              "    <tr>\n",
              "      <th>2</th>\n",
              "      <td>Catalogs</td>\n",
              "      <td>4.50</td>\n",
              "    </tr>\n",
              "    <tr>\n",
              "      <th>3</th>\n",
              "      <td>Education</td>\n",
              "      <td>4.00</td>\n",
              "    </tr>\n",
              "    <tr>\n",
              "      <th>4</th>\n",
              "      <td>Entertainment</td>\n",
              "      <td>4.00</td>\n",
              "    </tr>\n",
              "    <tr>\n",
              "      <th>5</th>\n",
              "      <td>Finance</td>\n",
              "      <td>4.25</td>\n",
              "    </tr>\n",
              "    <tr>\n",
              "      <th>6</th>\n",
              "      <td>Food &amp; Drink</td>\n",
              "      <td>4.00</td>\n",
              "    </tr>\n",
              "    <tr>\n",
              "      <th>7</th>\n",
              "      <td>Games</td>\n",
              "      <td>4.50</td>\n",
              "    </tr>\n",
              "    <tr>\n",
              "      <th>8</th>\n",
              "      <td>Health &amp; Fitness</td>\n",
              "      <td>4.50</td>\n",
              "    </tr>\n",
              "    <tr>\n",
              "      <th>9</th>\n",
              "      <td>Lifestyle</td>\n",
              "      <td>4.00</td>\n",
              "    </tr>\n",
              "    <tr>\n",
              "      <th>10</th>\n",
              "      <td>Medical</td>\n",
              "      <td>4.50</td>\n",
              "    </tr>\n",
              "    <tr>\n",
              "      <th>11</th>\n",
              "      <td>Music</td>\n",
              "      <td>4.00</td>\n",
              "    </tr>\n",
              "    <tr>\n",
              "      <th>12</th>\n",
              "      <td>Navigation</td>\n",
              "      <td>3.50</td>\n",
              "    </tr>\n",
              "    <tr>\n",
              "      <th>13</th>\n",
              "      <td>News</td>\n",
              "      <td>4.00</td>\n",
              "    </tr>\n",
              "    <tr>\n",
              "      <th>14</th>\n",
              "      <td>Photo &amp; Video</td>\n",
              "      <td>4.00</td>\n",
              "    </tr>\n",
              "    <tr>\n",
              "      <th>15</th>\n",
              "      <td>Productivity</td>\n",
              "      <td>4.00</td>\n",
              "    </tr>\n",
              "    <tr>\n",
              "      <th>16</th>\n",
              "      <td>Reference</td>\n",
              "      <td>4.00</td>\n",
              "    </tr>\n",
              "    <tr>\n",
              "      <th>17</th>\n",
              "      <td>Shopping</td>\n",
              "      <td>4.50</td>\n",
              "    </tr>\n",
              "    <tr>\n",
              "      <th>18</th>\n",
              "      <td>Social Networking</td>\n",
              "      <td>3.25</td>\n",
              "    </tr>\n",
              "    <tr>\n",
              "      <th>19</th>\n",
              "      <td>Sports</td>\n",
              "      <td>3.50</td>\n",
              "    </tr>\n",
              "    <tr>\n",
              "      <th>20</th>\n",
              "      <td>Travel</td>\n",
              "      <td>4.00</td>\n",
              "    </tr>\n",
              "    <tr>\n",
              "      <th>21</th>\n",
              "      <td>Utilities</td>\n",
              "      <td>3.50</td>\n",
              "    </tr>\n",
              "    <tr>\n",
              "      <th>22</th>\n",
              "      <td>Weather</td>\n",
              "      <td>4.00</td>\n",
              "    </tr>\n",
              "  </tbody>\n",
              "</table>\n",
              "</div>"
            ],
            "text/plain": [
              "          prime_genre  user_rating\n",
              "0                Book         4.50\n",
              "1            Business         4.00\n",
              "2            Catalogs         4.50\n",
              "3           Education         4.00\n",
              "4       Entertainment         4.00\n",
              "5             Finance         4.25\n",
              "6        Food & Drink         4.00\n",
              "7               Games         4.50\n",
              "8    Health & Fitness         4.50\n",
              "9           Lifestyle         4.00\n",
              "10            Medical         4.50\n",
              "11              Music         4.00\n",
              "12         Navigation         3.50\n",
              "13               News         4.00\n",
              "14      Photo & Video         4.00\n",
              "15       Productivity         4.00\n",
              "16          Reference         4.00\n",
              "17           Shopping         4.50\n",
              "18  Social Networking         3.25\n",
              "19             Sports         3.50\n",
              "20             Travel         4.00\n",
              "21          Utilities         3.50\n",
              "22            Weather         4.00"
            ]
          },
          "execution_count": 48,
          "metadata": {},
          "output_type": "execute_result"
        }
      ],
      "source": [
        "from statistics import median\n",
        "\"\"\"\n",
        "For paid apps that are sold in dollars, what is the median rating for each genre?\n",
        "\n",
        "> STEP 1: Get all paid apps.\n",
        "> STEP 2: Get a subset of paid apps sold in dollars (USD).\n",
        "> STEP 3: Calculate median rating per genre.\n",
        "\"\"\"\n",
        "\n",
        "paid_apps = dataset[dataset[\"price\"] != 0.00]\n",
        "paid_apps_usd = paid_apps.query(\"currency == 'USD'\")\n",
        "\n",
        "paid_apps_usd.groupby('prime_genre')['user_rating'].median().reset_index()"
      ]
    },
    {
      "cell_type": "markdown",
      "metadata": {
        "id": "YoPeZuOORJS_"
      },
      "source": [
        "### 🔸 **Q4**: `What is the average size in megabytes for each genre for apps rated 4.0 or higher?`\n",
        "\n",
        "(**NOTE**: _Use ratings of current version._)"
      ]
    },
    {
      "cell_type": "code",
      "execution_count": 49,
      "metadata": {
        "id": "-vrx-_cXTIGX"
      },
      "outputs": [
        {
          "data": {
            "text/plain": [
              "(0     0.000235\n",
              " 1     0.000063\n",
              " 2     0.000076\n",
              " 3     0.000191\n",
              " 4     0.000126\n",
              " 5     0.000095\n",
              " 6     0.000082\n",
              " 7     0.000293\n",
              " 8     0.000101\n",
              " 9     0.000069\n",
              " 10    0.000544\n",
              " 11    0.000122\n",
              " 12    0.000073\n",
              " 13    0.000066\n",
              " 14    0.000072\n",
              " 15    0.000090\n",
              " 16    0.000113\n",
              " 17    0.000104\n",
              " 18    0.000095\n",
              " 19    0.000091\n",
              " 20    0.000068\n",
              " 21    0.000058\n",
              " 22    0.000074\n",
              " Name: size_bytes, dtype: float64,\n",
              " 2)"
            ]
          },
          "execution_count": 49,
          "metadata": {},
          "output_type": "execute_result"
        }
      ],
      "source": [
        "\"\"\"\n",
        "What is the average size in megabytes for each genre for apps rated 4.0 or higher?\n",
        "(NOTE: Use rating of current version.)\n",
        "\n",
        "> STEP 1: Get all apps rated 4.0 or higher.\n",
        "> STEP 2: Calculate mean app size per genre.\n",
        "> STEP 3: Convert Series values from KB to MB by dividing values by 1_000_000.\n",
        "\"\"\"\n",
        "# This looks wrong... whatever."
      ]
    },
    {
      "cell_type": "markdown",
      "metadata": {
        "id": "bE0o-DDqRJWg"
      },
      "source": [
        "### 🔸 **Q5**: `What is the average price (in USD) by genre for paid apps rated higher than 3.0?`\n",
        "\n",
        "(**NOTE**: _Assume that all non-USD prices are dropped from consideration._)"
      ]
    },
    {
      "cell_type": "code",
      "execution_count": 50,
      "metadata": {
        "id": "q_AXxl7yTIZz"
      },
      "outputs": [
        {
          "data": {
            "text/html": [
              "<div>\n",
              "<style scoped>\n",
              "    .dataframe tbody tr th:only-of-type {\n",
              "        vertical-align: middle;\n",
              "    }\n",
              "\n",
              "    .dataframe tbody tr th {\n",
              "        vertical-align: top;\n",
              "    }\n",
              "\n",
              "    .dataframe thead th {\n",
              "        text-align: right;\n",
              "    }\n",
              "</style>\n",
              "<table border=\"1\" class=\"dataframe\">\n",
              "  <thead>\n",
              "    <tr style=\"text-align: right;\">\n",
              "      <th></th>\n",
              "      <th>prime_genre</th>\n",
              "      <th>user_rating</th>\n",
              "    </tr>\n",
              "  </thead>\n",
              "  <tbody>\n",
              "    <tr>\n",
              "      <th>0</th>\n",
              "      <td>Book</td>\n",
              "      <td>4.50</td>\n",
              "    </tr>\n",
              "    <tr>\n",
              "      <th>1</th>\n",
              "      <td>Business</td>\n",
              "      <td>4.00</td>\n",
              "    </tr>\n",
              "    <tr>\n",
              "      <th>2</th>\n",
              "      <td>Catalogs</td>\n",
              "      <td>4.50</td>\n",
              "    </tr>\n",
              "    <tr>\n",
              "      <th>3</th>\n",
              "      <td>Education</td>\n",
              "      <td>4.00</td>\n",
              "    </tr>\n",
              "    <tr>\n",
              "      <th>4</th>\n",
              "      <td>Entertainment</td>\n",
              "      <td>4.00</td>\n",
              "    </tr>\n",
              "    <tr>\n",
              "      <th>5</th>\n",
              "      <td>Finance</td>\n",
              "      <td>4.25</td>\n",
              "    </tr>\n",
              "    <tr>\n",
              "      <th>6</th>\n",
              "      <td>Food &amp; Drink</td>\n",
              "      <td>4.00</td>\n",
              "    </tr>\n",
              "    <tr>\n",
              "      <th>7</th>\n",
              "      <td>Games</td>\n",
              "      <td>4.50</td>\n",
              "    </tr>\n",
              "    <tr>\n",
              "      <th>8</th>\n",
              "      <td>Health &amp; Fitness</td>\n",
              "      <td>4.50</td>\n",
              "    </tr>\n",
              "    <tr>\n",
              "      <th>9</th>\n",
              "      <td>Lifestyle</td>\n",
              "      <td>4.00</td>\n",
              "    </tr>\n",
              "    <tr>\n",
              "      <th>10</th>\n",
              "      <td>Medical</td>\n",
              "      <td>4.50</td>\n",
              "    </tr>\n",
              "    <tr>\n",
              "      <th>11</th>\n",
              "      <td>Music</td>\n",
              "      <td>4.00</td>\n",
              "    </tr>\n",
              "    <tr>\n",
              "      <th>12</th>\n",
              "      <td>Navigation</td>\n",
              "      <td>3.50</td>\n",
              "    </tr>\n",
              "    <tr>\n",
              "      <th>13</th>\n",
              "      <td>News</td>\n",
              "      <td>4.00</td>\n",
              "    </tr>\n",
              "    <tr>\n",
              "      <th>14</th>\n",
              "      <td>Photo &amp; Video</td>\n",
              "      <td>4.00</td>\n",
              "    </tr>\n",
              "    <tr>\n",
              "      <th>15</th>\n",
              "      <td>Productivity</td>\n",
              "      <td>4.00</td>\n",
              "    </tr>\n",
              "    <tr>\n",
              "      <th>16</th>\n",
              "      <td>Reference</td>\n",
              "      <td>4.00</td>\n",
              "    </tr>\n",
              "    <tr>\n",
              "      <th>17</th>\n",
              "      <td>Shopping</td>\n",
              "      <td>4.50</td>\n",
              "    </tr>\n",
              "    <tr>\n",
              "      <th>18</th>\n",
              "      <td>Social Networking</td>\n",
              "      <td>3.25</td>\n",
              "    </tr>\n",
              "    <tr>\n",
              "      <th>19</th>\n",
              "      <td>Sports</td>\n",
              "      <td>3.50</td>\n",
              "    </tr>\n",
              "    <tr>\n",
              "      <th>20</th>\n",
              "      <td>Travel</td>\n",
              "      <td>4.00</td>\n",
              "    </tr>\n",
              "    <tr>\n",
              "      <th>21</th>\n",
              "      <td>Utilities</td>\n",
              "      <td>3.50</td>\n",
              "    </tr>\n",
              "    <tr>\n",
              "      <th>22</th>\n",
              "      <td>Weather</td>\n",
              "      <td>4.00</td>\n",
              "    </tr>\n",
              "  </tbody>\n",
              "</table>\n",
              "</div>"
            ],
            "text/plain": [
              "          prime_genre  user_rating\n",
              "0                Book         4.50\n",
              "1            Business         4.00\n",
              "2            Catalogs         4.50\n",
              "3           Education         4.00\n",
              "4       Entertainment         4.00\n",
              "5             Finance         4.25\n",
              "6        Food & Drink         4.00\n",
              "7               Games         4.50\n",
              "8    Health & Fitness         4.50\n",
              "9           Lifestyle         4.00\n",
              "10            Medical         4.50\n",
              "11              Music         4.00\n",
              "12         Navigation         3.50\n",
              "13               News         4.00\n",
              "14      Photo & Video         4.00\n",
              "15       Productivity         4.00\n",
              "16          Reference         4.00\n",
              "17           Shopping         4.50\n",
              "18  Social Networking         3.25\n",
              "19             Sports         3.50\n",
              "20             Travel         4.00\n",
              "21          Utilities         3.50\n",
              "22            Weather         4.00"
            ]
          },
          "execution_count": 50,
          "metadata": {},
          "output_type": "execute_result"
        }
      ],
      "source": [
        "\"\"\"\n",
        "What is the average price (in USD) by genre for paid apps rated higher than 3.0?\n",
        "(NOTE: Assume that all non-USD prices are not considered.)\n",
        "\n",
        "> STEP 1: Get all apps rated higher than 3.0.\n",
        "> STEP 2: Get subset of data by paid apps.\n",
        "> STEP 3: Get subset of data by USD currencies only.\n",
        "> STEP 4: Calculate mean app price by genre.\n",
        "\"\"\"\n",
        "\n",
        "three_rated_apps = paid_apps_usd.query(\"user_rating_ver > 3.0\")\n",
        "paid_apps_usd.groupby('prime_genre')['user_rating'].median().reset_index()"
      ]
    },
    {
      "cell_type": "markdown",
      "metadata": {
        "id": "Ya9ztM0mtR47"
      },
      "source": [
        "Great work! However, answering some predetermined questions does not make you a professional data analyst.\n",
        "\n",
        "At the end of the day, your own creativity and intrigue are what guide your analytical and technical hand."
      ]
    },
    {
      "cell_type": "markdown",
      "metadata": {
        "id": "OAuJL2eDtkC4"
      },
      "source": [
        "---\n",
        "\n",
        "### 📌 **REQUIRED CHALLENGE!** 📌\n",
        "\n",
        "> It's worthwhile putting you in the batter's box and allowing you to ask some complex descriptive questions... that you'll also take the opportunity to answer.\n",
        ">\n",
        "> **Your challenge is to create _two_ (2) additional descriptive questions to ask and answer them using the cells provided below.**\n",
        ">\n",
        "> We want to be wary of straying too deeply into the realm of inferentially statistical and/or predictively analytical questions, as those may be easy to ask but very challenging to effectively answer.\n",
        ">\n",
        "> As such, be direct and concise with your questions, but also don't be afraid of being ambitious; this is the way to becoming a better, more confident data scientist, after all!\n",
        "\n",
        "---"
      ]
    },
    {
      "cell_type": "markdown",
      "metadata": {
        "id": "OYC_xlNCuMIH"
      },
      "source": [
        "### 🔸 **Q6**: Of the top 25 highly rated apps, what percentage of those apps are paid?"
      ]
    },
    {
      "cell_type": "code",
      "execution_count": 51,
      "metadata": {
        "id": "RoV1RWbmu8Lo"
      },
      "outputs": [
        {
          "name": "stdout",
          "output_type": "stream",
          "text": [
            "44.0% of the top 25 highly rated apps are paid.\n"
          ]
        }
      ],
      "source": [
        "# STUDENTS: Write some code to answer your first proposed descriptive question!\n",
        "\n",
        "# Of the top 25 highly rated apps, what percentage of those apps are paid?\n",
        "\n",
        "top_25_apps = dataset.sort_values(by='user_rating', ascending=False).head(25)\n",
        "\n",
        "paid_apps_count = top_25_apps[top_25_apps['price'] > 0]['id'].count()\n",
        "total_apps_count = top_25_apps['id'].count()\n",
        "percentage_paid_apps = (paid_apps_count / total_apps_count) * 100\n",
        "\n",
        "print(\"{}% of the top 25 highly rated apps are paid.\".format(percentage_paid_apps))"
      ]
    },
    {
      "cell_type": "markdown",
      "metadata": {
        "id": "RxsJXU4zvFBN"
      },
      "source": [
        "### 🔸 **Q7**: Of all paid apps sold in USD, what is the most common pricepoint?"
      ]
    },
    {
      "cell_type": "code",
      "execution_count": 52,
      "metadata": {
        "id": "5VW4JU_cvFTP"
      },
      "outputs": [
        {
          "data": {
            "text/plain": [
              "0.99"
            ]
          },
          "execution_count": 52,
          "metadata": {},
          "output_type": "execute_result"
        }
      ],
      "source": [
        "paid_apps_usd[\"price\"].mode()[0]"
      ]
    },
    {
      "cell_type": "markdown",
      "metadata": {
        "id": "zD1VMNq8vipE"
      },
      "source": [
        "---\n",
        "---"
      ]
    },
    {
      "cell_type": "markdown",
      "metadata": {
        "id": "gLtpdG2lvkEu"
      },
      "source": [
        "## 💠 **PART FOUR**: Conclusions 💠"
      ]
    },
    {
      "cell_type": "markdown",
      "metadata": {
        "id": "9DEWH4n4vTLp"
      },
      "source": [
        "With seven descriptive questions asked and answered and a data exploration under your belt, your basic skills have been put to the test!\n",
        "\n",
        "Hopefully you feel proud of your ability to combine creative thinking with technical design and explore a dataset previously unknown to you.\n",
        "\n",
        "There'll be a lot more opportunity to do so moving forward!"
      ]
    },
    {
      "cell_type": "markdown",
      "metadata": {
        "id": "IwqCY3KzSS-v"
      },
      "source": [
        "---\n",
        "---\n",
        "---"
      ]
    }
  ],
  "metadata": {
    "colab": {
      "provenance": []
    },
    "kernelspec": {
      "display_name": "Python 3",
      "name": "python3"
    },
    "language_info": {
      "codemirror_mode": {
        "name": "ipython",
        "version": 3
      },
      "file_extension": ".py",
      "mimetype": "text/x-python",
      "name": "python",
      "nbconvert_exporter": "python",
      "pygments_lexer": "ipython3",
      "version": "3.11.5"
    }
  },
  "nbformat": 4,
  "nbformat_minor": 0
}
